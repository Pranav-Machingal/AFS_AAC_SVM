{
 "cells": [
  {
   "cell_type": "code",
   "execution_count": 1,
   "id": "648b21b8-665c-4103-a839-ac4788b1386a",
   "metadata": {
    "scrolled": true
   },
   "outputs": [],
   "source": [
    "import numpy as np\n",
    "\n",
    "AAs = ['A', 'R', 'N', 'D', 'C', 'E', 'Q', 'G', 'H', 'I', 'L', 'K', 'M', 'F', 'P', 'S', 'T', 'W', 'Y', 'V']\n",
    "code3to1 = {'CYS': 'C', 'ASP': 'D', 'SER': 'S', 'GLN': 'Q', 'LYS': 'K',\n",
    "     'ILE': 'I', 'PRO': 'P', 'THR': 'T', 'PHE': 'F', 'ASN': 'N', \n",
    "     'GLY': 'G', 'HIS': 'H', 'LEU': 'L', 'ARG': 'R', 'TRP': 'W', \n",
    "     'ALA': 'A', 'VAL':'V', 'GLU': 'E', 'TYR': 'Y', 'MET': 'M'}\n",
    "\n",
    "def get_contacts(chain, chains_list, data):\n",
    "  \"\"\"\n",
    "  get the contact (residue, pos) between `chain' and each chain in `chain_list' using `data'\n",
    "  `data' is dictionary containing information of interchain contact points computed using ChimeraX\n",
    "  \"\"\"\n",
    "  chain_contacts = {AA:[] for AA in AAs}\n",
    "  for i in range(len(data['c1'])):\n",
    "    if data['c1'][i] in chains_list and data['c2'][i] in chains_list:\n",
    "      if data['c1'][i]!=data['c2'][i]:\n",
    "        if chain in [data['c1'][i],data['c2'][i]]:\n",
    "          if chain==data['c1'][i] and data['AA1'][i] in code3to1.keys():\n",
    "            chain_contacts[code3to1[data['AA1'][i]]].append(data['pos1'][i])\n",
    "          elif chain==data['c2'][i] and data['AA2'][i] in code3to1.keys():\n",
    "            chain_contacts[code3to1[data['AA2'][i]]].append(data['pos2'][i])\n",
    "  return chain_contacts\n",
    "\n",
    "def get_data(filepath):\n",
    "  \"\"\"\n",
    "  Create a dictionary of chain ID, amino-acid type, and position \n",
    "  for each pair of inter-chain contacts computed using ChimeraX\n",
    "  \"\"\"\n",
    "  f = open(filepath, \"r\")\n",
    "  file_text = f.read()\n",
    "  f.close()\n",
    "  data = {'c1':[], 'AA1':[], 'pos1':[], 'c2':[], 'AA2':[], 'pos2':[]}\n",
    "  for entry in file_text.split('\\n'):\n",
    "    entry = entry.split()\n",
    "    data['c1'].append(entry[0][-1])\n",
    "    data['AA1'].append(entry[1])\n",
    "    data['pos1'].append(entry[2])\n",
    "  \n",
    "    data['c2'].append(entry[4][-1])\n",
    "    data['AA2'].append(entry[5])\n",
    "    data['pos2'].append(entry[6])\n",
    "  return data\n",
    "\n",
    "def get_AA_contact_count(chain, chain_list, data):\n",
    "  chain_contacts = get_contacts(chain, chain_list, data)\n",
    "  for aa in chain_contacts: # remove duplicates\n",
    "    chain_contacts[aa] = list(np.unique(chain_contacts[aa]))\n",
    "  aa_contact_count ={aa:0 for aa in chain_contacts}\n",
    "  for aa in chain_contacts:\n",
    "    aa_contact_count[aa] = len(chain_contacts[aa])\n",
    "  return aa_contact_count"
   ]
  },
  {
   "cell_type": "code",
   "execution_count": 2,
   "id": "40e8b25e-92b3-4edc-bad8-599807398635",
   "metadata": {},
   "outputs": [],
   "source": [
    "def print_fss_counts(p1, p1_chain, FSS_p1, p2, p2_chain, FSS_p2, all_chains, data):\n",
    "  p1_contacts = get_AA_contact_count(p1_chain, all_chains, data)\n",
    "  p2_contacts = get_AA_contact_count(p2_chain, all_chains, data)\n",
    "  print('FSS(',p1, ') count in', p1, 'and', p2)\n",
    "  total_fss_p1_in_p1 = 0\n",
    "  total_fss_p1_in_p2 = 0\n",
    "  for aa in FSS_p1:\n",
    "    print(aa,':',p1, ':',p1_contacts[aa], '\\t|', p2,':',p2_contacts[aa])\n",
    "    total_fss_p1_in_p1 += p1_contacts[aa]\n",
    "    total_fss_p1_in_p2 += p2_contacts[aa]\n",
    "  print('Total\\n#',':',p1, ':',total_fss_p1_in_p1, '\\t|', p2,':',total_fss_p1_in_p2)\n",
    "  \n",
    "  print('_'*50)\n",
    "  print('FSS(',p2, ') count in', p1, 'and', p2)\n",
    "  total_fss_p2_in_p1 = 0\n",
    "  total_fss_p2_in_p2 = 0\n",
    "  for aa in FSS_p2:\n",
    "    print(aa,':',p1, ':',p1_contacts[aa], '\\t|', p2,':',p2_contacts[aa])\n",
    "    total_fss_p2_in_p1 += p1_contacts[aa]\n",
    "    total_fss_p2_in_p2 += p2_contacts[aa]\n",
    "  print('Total\\n#',':',p1, ':',total_fss_p2_in_p1, '\\t|', p2,':',total_fss_p2_in_p2)"
   ]
  },
  {
   "cell_type": "markdown",
   "id": "c26c1448-96c3-4be9-bb93-75e40291d5a0",
   "metadata": {},
   "source": [
    "# Histone H2A and H2B"
   ]
  },
  {
   "cell_type": "code",
   "execution_count": 3,
   "id": "ef43beb0-0676-490d-9b08-ba78a0a1e7dd",
   "metadata": {},
   "outputs": [],
   "source": [
    "FSS_h2a = ['L', 'G', 'N']\n",
    "FSS_h2b = ['S', 'M', 'K', 'T', 'Y', 'F']"
   ]
  },
  {
   "cell_type": "code",
   "execution_count": 4,
   "id": "aba7a323-228a-459d-9e17-e2d83e346952",
   "metadata": {},
   "outputs": [],
   "source": [
    "filepath = \"./datasets/histone/1aoi_contacts\"\n",
    "data = get_data(filepath)\n",
    "h2a_chains = ['C', 'G']\n",
    "h2b_chains = ['D', 'H']\n",
    "other_chains = ['A', 'E', 'B', 'F', 'I', 'J']\n",
    "p1 = 'h2a'\n",
    "p2 = 'h2b'\n",
    "FSS_p1 = FSS_h2a\n",
    "FSS_p2 = FSS_h2b\n",
    "p1_chain = 'C'\n",
    "p2_chain = 'D'\n",
    "all_chains = h2a_chains+h2b_chains+other_chains"
   ]
  },
  {
   "cell_type": "code",
   "execution_count": 5,
   "id": "10d1e7cc-e154-4473-afa6-74bc6634c67c",
   "metadata": {},
   "outputs": [
    {
     "name": "stdout",
     "output_type": "stream",
     "text": [
      "FSS( h2a ) count in h2a and h2b\n",
      "L : h2a : 11 \t| h2b : 5\n",
      "G : h2a : 5 \t| h2b : 3\n",
      "N : h2a : 2 \t| h2b : 2\n",
      "Total\n",
      "# : h2a : 18 \t| h2b : 10\n",
      "__________________________________________________\n",
      "FSS( h2b ) count in h2a and h2b\n",
      "S : h2a : 0 \t| h2b : 6\n",
      "M : h2a : 0 \t| h2b : 1\n",
      "K : h2a : 1 \t| h2b : 6\n",
      "T : h2a : 4 \t| h2b : 5\n",
      "Y : h2a : 3 \t| h2b : 4\n",
      "F : h2a : 1 \t| h2b : 2\n",
      "Total\n",
      "# : h2a : 9 \t| h2b : 24\n"
     ]
    }
   ],
   "source": [
    "print_fss_counts(p1, p1_chain, FSS_p1, p2, p2_chain, FSS_p2, all_chains, data)"
   ]
  },
  {
   "cell_type": "code",
   "execution_count": 6,
   "id": "9449ad0c-26be-4841-917e-22cab3dfc52b",
   "metadata": {},
   "outputs": [
    {
     "name": "stdout",
     "output_type": "stream",
     "text": [
      "FSS( h2a ) count in h2a and h2b\n",
      "L : h2a : 11 \t| h2b : 6\n",
      "G : h2a : 7 \t| h2b : 4\n",
      "N : h2a : 2 \t| h2b : 1\n",
      "Total\n",
      "# : h2a : 20 \t| h2b : 11\n",
      "__________________________________________________\n",
      "FSS( h2b ) count in h2a and h2b\n",
      "S : h2a : 0 \t| h2b : 7\n",
      "M : h2a : 0 \t| h2b : 1\n",
      "K : h2a : 4 \t| h2b : 4\n",
      "T : h2a : 4 \t| h2b : 5\n",
      "Y : h2a : 3 \t| h2b : 4\n",
      "F : h2a : 1 \t| h2b : 2\n",
      "Total\n",
      "# : h2a : 12 \t| h2b : 23\n"
     ]
    }
   ],
   "source": [
    "filepath = \"./datasets/histone/3kwq_contacts\"\n",
    "data = get_data(filepath)\n",
    "h2a_chains = ['C', 'G']\n",
    "h2b_chains = ['D', 'H']\n",
    "other_chains = ['A', 'E', 'B', 'F', 'I', 'J']\n",
    "p1 = 'h2a'\n",
    "p2 = 'h2b'\n",
    "FSS_p1 = FSS_h2a\n",
    "FSS_p2 = FSS_h2b\n",
    "p1_chain = 'C'\n",
    "p2_chain = 'D'\n",
    "all_chains = h2a_chains+h2b_chains+other_chains\n",
    "print_fss_counts(p1, p1_chain, FSS_p1, p2, p2_chain, FSS_p2, all_chains, data)"
   ]
  },
  {
   "cell_type": "markdown",
   "id": "6a96f759-2700-4e74-93dd-ad26aedd1ff4",
   "metadata": {},
   "source": [
    "# Tubulin-$\\alpha$ vs Tubulin-$\\beta$"
   ]
  },
  {
   "cell_type": "code",
   "execution_count": 10,
   "id": "a790d031-ff8b-4480-983e-3615d3fe2ec9",
   "metadata": {},
   "outputs": [],
   "source": [
    "FSS_alpha = ['K', 'I', 'H', 'C', 'Y']\n",
    "FSS_beta = ['M', 'Q', 'N', 'F', 'A']"
   ]
  },
  {
   "cell_type": "code",
   "execution_count": 11,
   "id": "0affde91-1b15-4424-9261-3002bfb0509c",
   "metadata": {},
   "outputs": [
    {
     "name": "stdout",
     "output_type": "stream",
     "text": [
      "FSS( alpha ) count in alpha and beta\n",
      "K : alpha : 8 \t| beta : 6\n",
      "I : alpha : 1 \t| beta : 1\n",
      "H : alpha : 3 \t| beta : 1\n",
      "C : alpha : 0 \t| beta : 1\n",
      "Y : alpha : 3 \t| beta : 2\n",
      "Total\n",
      "# : alpha : 15 \t| beta : 11\n",
      "__________________________________________________\n",
      "FSS( beta ) count in alpha and beta\n",
      "M : alpha : 1 \t| beta : 2\n",
      "Q : alpha : 5 \t| beta : 6\n",
      "N : alpha : 4 \t| beta : 5\n",
      "F : alpha : 2 \t| beta : 3\n",
      "A : alpha : 3 \t| beta : 6\n",
      "Total\n",
      "# : alpha : 15 \t| beta : 22\n"
     ]
    }
   ],
   "source": [
    "filepath = \"./datasets/tubulin/3jar_contacts\"\n",
    "data = get_data(filepath)\n",
    "alpha_chains = ['E', 'J', 'C', 'L', 'A', 'K']\n",
    "beta_chains = ['F', 'G', 'D', 'I', 'B', 'H']\n",
    "all_chains = alpha_chains+beta_chains\n",
    "p1 = 'alpha'\n",
    "p2 = 'beta'\n",
    "FSS_p1 = FSS_alpha\n",
    "FSS_p2 = FSS_beta\n",
    "p1_chain = 'A'\n",
    "p2_chain = 'B'\n",
    "print_fss_counts(p1, p1_chain, FSS_p1, p2, p2_chain, FSS_p2, all_chains, data)"
   ]
  },
  {
   "cell_type": "code",
   "execution_count": 12,
   "id": "34150120-9fdc-4614-bf2d-6f08875cc207",
   "metadata": {},
   "outputs": [
    {
     "name": "stdout",
     "output_type": "stream",
     "text": [
      "FSS( alpha ) count in alpha and beta\n",
      "K : alpha : 4 \t| beta : 5\n",
      "I : alpha : 0 \t| beta : 1\n",
      "H : alpha : 3 \t| beta : 1\n",
      "C : alpha : 1 \t| beta : 0\n",
      "Y : alpha : 3 \t| beta : 3\n",
      "Total\n",
      "# : alpha : 11 \t| beta : 10\n",
      "__________________________________________________\n",
      "FSS( beta ) count in alpha and beta\n",
      "M : alpha : 2 \t| beta : 2\n",
      "Q : alpha : 5 \t| beta : 6\n",
      "N : alpha : 4 \t| beta : 5\n",
      "F : alpha : 3 \t| beta : 3\n",
      "A : alpha : 3 \t| beta : 5\n",
      "Total\n",
      "# : alpha : 17 \t| beta : 21\n"
     ]
    }
   ],
   "source": [
    "filepath = \"./datasets/tubulin/5n5n_contacts\"\n",
    "data = get_data(filepath)\n",
    "alpha_chains = ['G', 'H', 'I', 'J', 'K', 'L']\n",
    "beta_chains = ['A', 'B', 'C', 'D', 'E', 'F']\n",
    "all_chains = alpha_chains+beta_chains\n",
    "p1 = 'alpha'\n",
    "p2 = 'beta'\n",
    "FSS_p1 = FSS_alpha\n",
    "FSS_p2 = FSS_beta\n",
    "p1_chain = 'G'\n",
    "p2_chain = 'B'\n",
    "print_fss_counts(p1, p1_chain, FSS_p1, p2, p2_chain, FSS_p2, all_chains, data)"
   ]
  }
 ],
 "metadata": {
  "kernelspec": {
   "display_name": "Python 3 (ipykernel)",
   "language": "python",
   "name": "python3"
  },
  "language_info": {
   "codemirror_mode": {
    "name": "ipython",
    "version": 3
   },
   "file_extension": ".py",
   "mimetype": "text/x-python",
   "name": "python",
   "nbconvert_exporter": "python",
   "pygments_lexer": "ipython3",
   "version": "3.9.19"
  },
  "widgets": {
   "application/vnd.jupyter.widget-state+json": {
    "state": {},
    "version_major": 2,
    "version_minor": 0
   }
  }
 },
 "nbformat": 4,
 "nbformat_minor": 5
}
