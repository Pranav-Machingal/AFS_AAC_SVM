{
 "cells": [
  {
   "cell_type": "code",
   "execution_count": 1,
   "id": "044f4362-5c5b-452c-823d-598ae7e626ee",
   "metadata": {
    "execution": {
     "iopub.execute_input": "2024-04-27T07:19:25.630801Z",
     "iopub.status.busy": "2024-04-27T07:19:25.630676Z",
     "iopub.status.idle": "2024-04-27T07:19:26.893087Z",
     "shell.execute_reply": "2024-04-27T07:19:26.892191Z",
     "shell.execute_reply.started": "2024-04-27T07:19:25.630786Z"
    },
    "tags": []
   },
   "outputs": [],
   "source": [
    "import pandas as pd\n",
    "import sys\n",
    "import numpy as np\n",
    "from tqdm.auto import tqdm\n",
    "import matplotlib.pyplot as plt"
   ]
  },
  {
   "cell_type": "code",
   "execution_count": 2,
   "id": "4dbb5983-852b-492e-85cb-81689cdcfda4",
   "metadata": {
    "execution": {
     "iopub.execute_input": "2024-04-27T07:19:26.894142Z",
     "iopub.status.busy": "2024-04-27T07:19:26.893963Z",
     "iopub.status.idle": "2024-04-27T07:19:26.897390Z",
     "shell.execute_reply": "2024-04-27T07:19:26.896656Z",
     "shell.execute_reply.started": "2024-04-27T07:19:26.894128Z"
    },
    "tags": []
   },
   "outputs": [],
   "source": [
    "def get_seqs(path, key='Sequence'):\n",
    "  df = pd.read_csv(path)\n",
    "  return list(df[key])"
   ]
  },
  {
   "cell_type": "code",
   "execution_count": 3,
   "id": "7b42f3d8-e08a-4ff5-a9f0-1262c469b41b",
   "metadata": {
    "execution": {
     "iopub.execute_input": "2024-04-27T07:19:26.898159Z",
     "iopub.status.busy": "2024-04-27T07:19:26.898038Z",
     "iopub.status.idle": "2024-04-27T07:19:27.660579Z",
     "shell.execute_reply": "2024-04-27T07:19:27.659813Z",
     "shell.execute_reply.started": "2024-04-27T07:19:26.898147Z"
    }
   },
   "outputs": [],
   "source": [
    "from SVEA_funcs import CS_SVEA"
   ]
  },
  {
   "cell_type": "code",
   "execution_count": 4,
   "id": "7c3eda99-3377-40f6-9269-6cf4e4620cd6",
   "metadata": {
    "execution": {
     "iopub.execute_input": "2024-04-27T07:19:27.662091Z",
     "iopub.status.busy": "2024-04-27T07:19:27.661652Z",
     "iopub.status.idle": "2024-04-27T07:19:27.672746Z",
     "shell.execute_reply": "2024-04-27T07:19:27.672248Z",
     "shell.execute_reply.started": "2024-04-27T07:19:27.662059Z"
    },
    "tags": []
   },
   "outputs": [],
   "source": [
    "# import importlib\n",
    "# import sys\n",
    "# importlib.reload(sys.modules['feature_utils'])\n",
    "from feature_utils import get_OAAC\n",
    "import numpy as np\n",
    "import pandas as pd\n",
    "from tqdm.auto import tqdm\n",
    "\n",
    "AAs = ['A', 'R', 'N', 'D', 'C', 'E', 'Q', 'G', 'H', 'I', 'L', 'K', 'M', 'F', 'P', 'S', 'T', 'W', 'Y', 'V']\n",
    "\n",
    "class FeatureExtractor(object):\n",
    "  def __init__(self, feature_func, **kwargs):\n",
    "    self.feature_func = feature_func\n",
    "    self.kwargs = kwargs\n",
    "    \n",
    "  def __call__(self, seq):\n",
    "    return self.feature_func(seq, **self.kwargs)\n",
    "\n",
    "  \n",
    "# def get_X(seq_list, k=1, AAs=AAs, max_len=np.inf, min_len=-np.inf, normalize=True):\n",
    "#   X = []\n",
    "#   for seq in tqdm(seq_list, total=len(seq_list)):\n",
    "#     if len(seq)<=max_len and len(seq)>=min_len:\n",
    "#       X.append(get_OAAC(seq, k=k, AAs=AAs, normalize=normalize))\n",
    "#   return np.array(X)\n",
    "def get_X(seq_list, AAs=AAs, max_len=np.inf, min_len=-np.inf, normalize=True):\n",
    "  X = []\n",
    "  AA_code = np.zeros((len(AAs), 2,20))\n",
    "  feat = np.zeros((20,2))\n",
    "  for seq in tqdm(seq_list, total=len(seq_list)):\n",
    "    L = len(seq)\n",
    "    feat = np.zeros((L,20,2))\n",
    "    for i,AA in enumerate(seq):\n",
    "      if AA in AAs:\n",
    "        pos_code = np.array([i, (L-i-1)])\n",
    "        feat[i,AAs.index(AA)] = pos_code/(pos_code.T@pos_code)\n",
    "        # feat[i,AAs.index(AA)] = pos_code/(pos_code.sum())\n",
    "    X.append(feat.sum(0).reshape(-1))  \n",
    "  return np.array(X)"
   ]
  },
  {
   "cell_type": "code",
   "execution_count": 5,
   "id": "e91be877-5c09-4623-b14d-e2f846f84a75",
   "metadata": {
    "execution": {
     "iopub.execute_input": "2024-04-27T07:19:27.673867Z",
     "iopub.status.busy": "2024-04-27T07:19:27.673618Z",
     "iopub.status.idle": "2024-04-27T07:19:28.339585Z",
     "shell.execute_reply": "2024-04-27T07:19:28.339134Z",
     "shell.execute_reply.started": "2024-04-27T07:19:27.673842Z"
    },
    "tags": []
   },
   "outputs": [],
   "source": [
    "from sklearn.svm import LinearSVC\n",
    "from sklearn.model_selection import GridSearchCV\n",
    "import matplotlib.pyplot as plt\n",
    "import sklearn.metrics as sk_metrics\n",
    "from sklearn.model_selection import StratifiedKFold\n",
    "\n",
    "scoring_metrics = {'AM':'balanced_accuracy', 'acc':'accuracy'}\n",
    "def findSVM(X,y, n_folds=3, metric='accuracy', class_weight=None, random_state=None, intercept=True):\n",
    "    svm = LinearSVC(class_weight=class_weight, dual = False, random_state=random_state, max_iter=int(1e4), fit_intercept=intercept)\n",
    "    # svm = LinearSVC(class_weight=class_weight, dual = True, loss='hinge', random_state=random_state, max_iter=int(1e7), fit_intercept=intercept)\n",
    "    C_vals = np.logspace(-1, 3, 5)\n",
    "\n",
    "    tuned_parameters = [{\"C\": C_vals}]\n",
    "    cv = StratifiedKFold(n_splits=n_folds, random_state=random_state, shuffle=True)\n",
    "    clf = GridSearchCV(svm, tuned_parameters, cv=cv, scoring=list(scoring_metrics.values()), refit=metric, n_jobs=2)\n",
    "    clf.fit(X, y)\n",
    "\n",
    "    return clf\n",
    "\n",
    "n_folds = 5\n",
    "\n",
    "def get_scores(X,y,X_test,y_test, metric='AM', class_weight='balanced', n_folds=n_folds, intercept=True):\n",
    "  clf = findSVM(X,y,n_folds=n_folds, metric=scoring_metrics[metric], class_weight=class_weight, random_state=42, intercept=intercept)\n",
    "  \n",
    "  scores = {\n",
    "    'train_mean_AM': np.round(clf.cv_results_['mean_test_'+scoring_metrics['AM']][clf.best_index_],3),\n",
    "    'train_std_AM': np.round(clf.cv_results_['std_test_'+scoring_metrics['AM']][clf.best_index_],3),\n",
    "    'train_mean_acc': np.round(clf.cv_results_['mean_test_'+scoring_metrics['acc']][clf.best_index_],3),\n",
    "    'train_std_acc': np.round(clf.cv_results_['std_test_'+scoring_metrics['acc']][clf.best_index_],3),\n",
    "    'test_AM': np.round(sk_metrics.balanced_accuracy_score(y_test, clf.predict(X_test)),3),\n",
    "    'test_acc': np.round(sk_metrics.accuracy_score(y_test, clf.predict(X_test)),3)\n",
    "  }\n",
    "  \n",
    "  return scores, clf"
   ]
  },
  {
   "cell_type": "code",
   "execution_count": 6,
   "id": "94f2013d-6119-4e4a-863e-59fce48dbdff",
   "metadata": {
    "execution": {
     "iopub.execute_input": "2024-04-27T07:19:28.341086Z",
     "iopub.status.busy": "2024-04-27T07:19:28.340889Z",
     "iopub.status.idle": "2024-04-27T07:19:28.343949Z",
     "shell.execute_reply": "2024-04-27T07:19:28.343639Z",
     "shell.execute_reply.started": "2024-04-27T07:19:28.341072Z"
    },
    "tags": []
   },
   "outputs": [],
   "source": [
    "def get_X_y(feature_func, C1_path, C2_path):\n",
    "  df = pd.read_csv(C1_path)\n",
    "  X1 = feature_func(list(df['Sequence']))\n",
    "  y1 = np.ones(X1.shape[0])\n",
    "  df = pd.read_csv(C2_path)\n",
    "  X2 = feature_func(list(df['Sequence']))\n",
    "  y2 = -np.ones(X2.shape[0])\n",
    "  X = np.concatenate([X1, X2])\n",
    "  y = np.concatenate([y1, y2])\n",
    "  print('C1 #', y1.shape[0], '| C2 #', y2.shape[0])\n",
    "  return X,y"
   ]
  },
  {
   "cell_type": "code",
   "execution_count": 7,
   "id": "e0550d2d-38b9-4906-a447-9f6b4840ee0c",
   "metadata": {
    "execution": {
     "iopub.execute_input": "2024-04-27T07:19:28.344477Z",
     "iopub.status.busy": "2024-04-27T07:19:28.344360Z",
     "iopub.status.idle": "2024-04-27T07:19:28.398563Z",
     "shell.execute_reply": "2024-04-27T07:19:28.398101Z",
     "shell.execute_reply.started": "2024-04-27T07:19:28.344464Z"
    }
   },
   "outputs": [],
   "source": [
    "def get_non_identical_seqs(C1_train_path, C2_train_path=None, C1_test_path=None, C2_test_path=None):\n",
    "  if C2_train_path:\n",
    "    train_seqs = get_seqs(C1_train_path)+get_seqs(C2_train_path)\n",
    "  else:\n",
    "    train_seqs = get_seqs(C1_train_path)\n",
    "  if not C1_test_path:\n",
    "    filtered_seqs = []\n",
    "    filtered_indices = []\n",
    "    for i, seq in enumerate(train_seqs):\n",
    "      if seq not in filtered_seqs:\n",
    "        filtered_seqs.append(seq)\n",
    "        filtered_indices.append(i)\n",
    "  \n",
    "    # print('After filtering identical seqeunces', len(filtered_indices), '/', len(train_seqs))\n",
    "    return filtered_indices\n",
    "    \n",
    "  # train_seqs = get_seqs(C1_train_path)+get_seqs(C2_train_path)\n",
    "  test_seqs = get_seqs(C1_test_path)+get_seqs(C2_test_path)\n",
    "\n",
    "  filtered_test_seqs = []\n",
    "  filtered_indices = []\n",
    "  for i, seq in enumerate(test_seqs):\n",
    "    if seq not in train_seqs:\n",
    "      if seq not in filtered_test_seqs:\n",
    "        filtered_test_seqs.append(seq)\n",
    "        filtered_indices.append(i)\n",
    "\n",
    "  print('Filtered', len(filtered_indices), '/', len(test_seqs))\n",
    "  return filtered_indices"
   ]
  },
  {
   "cell_type": "code",
   "execution_count": 8,
   "id": "78cb77eb-c704-4efe-bd3d-844646316d28",
   "metadata": {
    "execution": {
     "iopub.execute_input": "2024-04-27T07:19:28.399381Z",
     "iopub.status.busy": "2024-04-27T07:19:28.399199Z",
     "iopub.status.idle": "2024-04-27T07:19:28.409327Z",
     "shell.execute_reply": "2024-04-27T07:19:28.408572Z",
     "shell.execute_reply.started": "2024-04-27T07:19:28.399361Z"
    }
   },
   "outputs": [],
   "source": [
    "def plot_vals(vals, cutoff=None, label=''):\n",
    "  plt.scatter(np.arange(len(vals)), np.sort(vals), c='blue')\n",
    "  plt.plot(np.arange(len(vals)), np.sort(vals), c='blue')\n",
    "  # plt.axhline(y = 0.5*sum(SV_vals)/len(SV_vals), c = 'black', linestyle = '--')\n",
    "  if cutoff:\n",
    "    plt.axhline(y = cutoff, label='$\\phi_{cutoff}$', c = 'black', linestyle = '--')\n",
    "  # plt.axhline(y = sum(SV_vals), c = 'black', linestyle = '-')\n",
    "  plt.xticks(np.arange(len(vals)), [i for i in np.argsort(vals)])\n",
    "  plt.yticks(np.arange(0,1,0.05))\n",
    "  plt.ylim(0,0.25)\n",
    "  plt.locator_params(axis='y', nbins=20)\n",
    "  plt.xlabel('Amino Acids', fontsize=15)\n",
    "  plt.ylabel(label+' ($\\phi(i)$)', fontsize=15)\n",
    "  plt.legend(fontsize=15)\n",
    "  # plt.show()\n",
    "  return plt"
   ]
  },
  {
   "cell_type": "code",
   "execution_count": 9,
   "id": "66f59767-1c9f-4274-8b67-cd9a4d6dc919",
   "metadata": {
    "execution": {
     "iopub.execute_input": "2024-04-27T07:19:28.410537Z",
     "iopub.status.busy": "2024-04-27T07:19:28.410256Z",
     "iopub.status.idle": "2024-04-27T07:19:28.425150Z",
     "shell.execute_reply": "2024-04-27T07:19:28.424513Z",
     "shell.execute_reply.started": "2024-04-27T07:19:28.410507Z"
    }
   },
   "outputs": [],
   "source": [
    "from sklearn.model_selection import train_test_split\n",
    "feature_extractor = FeatureExtractor(get_X, AAs=AAs)\n",
    "\n",
    "def get_results(C1_train_path, C2_train_path, C1_test_path, C2_test_path, feature_extractor=feature_extractor):\n",
    "\n",
    "  print('-> Extracting features:')\n",
    "  \n",
    "  X, y = get_X_y(feature_extractor, C1_train_path, C2_train_path)\n",
    "  print('-> Filter identical sequences')\n",
    "  filtered_indices  = get_non_identical_seqs(C1_train_path, C2_train_path)\n",
    "  X=X[filtered_indices]\n",
    "  y=y[filtered_indices]\n",
    "  if not C1_test_path:\n",
    "    X, X_test, y, y_test = train_test_split(X, y, test_size=0.2, stratify=y, random_state=42)\n",
    "    print('Train | C1 #', (y==1).sum(), 'C2 #', (y==-1).sum())\n",
    "    print('Test  | C1 #', (y_test==1).sum(), 'C2 #', (y_test==-1).sum())\n",
    "  else:\n",
    "    X_test, y_test = get_X_y(feature_extractor, C1_test_path, C2_test_path)\n",
    "    filtered_indices  = get_non_identical_seqs(C1_train_path, C2_train_path, C1_test_path, C2_test_path)\n",
    "    X_test = X_test[filtered_indices]\n",
    "    y_test = y_test[filtered_indices]\n",
    "    print('Train | C1 #', (y==1).sum(), '| C2 #', (y==-1).sum())\n",
    "    print('Test  | C1 #', (y_test==1).sum(), '| C2 #', (y_test==-1).sum())\n",
    "\n",
    "  print('Computing Shapley values')\n",
    "  SV_vals = CS_SVEA(X,y, 800, seed=8, return_SV=True)\n",
    "  plt = plot_vals(SV_vals, cutoff=sum(SV_vals)/len(SV_vals), label='Shapley values')\n",
    "  \n",
    "\n",
    "  afs = list(np.argsort(SV_vals)[np.sort(SV_vals)>=sum(SV_vals)/len(SV_vals)])\n",
    "\n",
    "  print('Full')\n",
    "  scores, clf_full  = get_scores(X, y, X_test, y_test, metric='AM', class_weight='balanced', intercept=False)\n",
    "  print(scores)\n",
    "  print('AFS')\n",
    "  print('_'*25+'**SVEA**'+'_'*25)\n",
    "  scores, clf_afs  = get_scores(X[:,afs], y, X_test[:,afs], y_test, metric='AM', class_weight='balanced', intercept=True)\n",
    "  print(scores)\n",
    "\n",
    "  # print('AFS:',[AAs[i] for i in afs[::-1]])\n",
    "\n",
    "  # c1_feats = clf_afs.best_estimator_.coef_>0\n",
    "  # c2_feats = clf_afs.best_estimator_.coef_<0\n",
    "  # print('AFS(C1):',[AAs[afs[i]] for i in range(len(afs)) if c1_feats.T[i]][::-1])\n",
    "  # print('AFS(C2):',[AAs[afs[i]] for i in range(len(afs)) if c2_feats.T[i]][::-1])\n",
    "\n",
    "  # C1_afs = [AAs[afs[i]] for i in range(len(afs)) if c1_feats.T[i]]\n",
    "  # C2_afs = [AAs[afs[i]] for i in range(len(afs)) if c2_feats.T[i]]\n",
    "  \n",
    "  return SV_vals, plt"
   ]
  },
  {
   "cell_type": "code",
   "execution_count": 10,
   "id": "426eefcc-c295-48f1-b6cb-0218b21f6235",
   "metadata": {
    "execution": {
     "iopub.execute_input": "2024-04-27T07:19:28.426533Z",
     "iopub.status.busy": "2024-04-27T07:19:28.426089Z",
     "iopub.status.idle": "2024-04-27T07:19:30.150297Z",
     "shell.execute_reply": "2024-04-27T07:19:30.149361Z",
     "shell.execute_reply.started": "2024-04-27T07:19:28.426503Z"
    }
   },
   "outputs": [
    {
     "name": "stderr",
     "output_type": "stream",
     "text": [
      "/home/pranav.mac/anaconda3/lib/python3.9/site-packages/Bio/Application/__init__.py:40: BiopythonDeprecationWarning: The Bio.Application modules and modules relying on it have been deprecated.\n",
      "\n",
      "Due to the on going maintenance burden of keeping command line application\n",
      "wrappers up to date, we have decided to deprecate and eventually remove these\n",
      "modules.\n",
      "\n",
      "We instead now recommend building your command line and invoking it directly\n",
      "with the subprocess module.\n",
      "  warnings.warn(\n"
     ]
    },
    {
     "data": {
      "application/javascript": [
       "(function(root) {\n",
       "  function now() {\n",
       "    return new Date();\n",
       "  }\n",
       "\n",
       "  var force = true;\n",
       "  var py_version = '3.3.4'.replace('rc', '-rc.').replace('.dev', '-dev.');\n",
       "  var reloading = false;\n",
       "  var Bokeh = root.Bokeh;\n",
       "\n",
       "  if (typeof (root._bokeh_timeout) === \"undefined\" || force) {\n",
       "    root._bokeh_timeout = Date.now() + 5000;\n",
       "    root._bokeh_failed_load = false;\n",
       "  }\n",
       "\n",
       "  function run_callbacks() {\n",
       "    try {\n",
       "      root._bokeh_onload_callbacks.forEach(function(callback) {\n",
       "        if (callback != null)\n",
       "          callback();\n",
       "      });\n",
       "    } finally {\n",
       "      delete root._bokeh_onload_callbacks;\n",
       "    }\n",
       "    console.debug(\"Bokeh: all callbacks have finished\");\n",
       "  }\n",
       "\n",
       "  function load_libs(css_urls, js_urls, js_modules, js_exports, callback) {\n",
       "    if (css_urls == null) css_urls = [];\n",
       "    if (js_urls == null) js_urls = [];\n",
       "    if (js_modules == null) js_modules = [];\n",
       "    if (js_exports == null) js_exports = {};\n",
       "\n",
       "    root._bokeh_onload_callbacks.push(callback);\n",
       "\n",
       "    if (root._bokeh_is_loading > 0) {\n",
       "      console.debug(\"Bokeh: BokehJS is being loaded, scheduling callback at\", now());\n",
       "      return null;\n",
       "    }\n",
       "    if (js_urls.length === 0 && js_modules.length === 0 && Object.keys(js_exports).length === 0) {\n",
       "      run_callbacks();\n",
       "      return null;\n",
       "    }\n",
       "    if (!reloading) {\n",
       "      console.debug(\"Bokeh: BokehJS not loaded, scheduling load and callback at\", now());\n",
       "    }\n",
       "\n",
       "    function on_load() {\n",
       "      root._bokeh_is_loading--;\n",
       "      if (root._bokeh_is_loading === 0) {\n",
       "        console.debug(\"Bokeh: all BokehJS libraries/stylesheets loaded\");\n",
       "        run_callbacks()\n",
       "      }\n",
       "    }\n",
       "    window._bokeh_on_load = on_load\n",
       "\n",
       "    function on_error() {\n",
       "      console.error(\"failed to load \" + url);\n",
       "    }\n",
       "\n",
       "    var skip = [];\n",
       "    if (window.requirejs) {\n",
       "      window.requirejs.config({'packages': {}, 'paths': {'jspanel': 'https://cdn.jsdelivr.net/npm/jspanel4@4.12.0/dist/jspanel', 'jspanel-modal': 'https://cdn.jsdelivr.net/npm/jspanel4@4.12.0/dist/extensions/modal/jspanel.modal', 'jspanel-tooltip': 'https://cdn.jsdelivr.net/npm/jspanel4@4.12.0/dist/extensions/tooltip/jspanel.tooltip', 'jspanel-hint': 'https://cdn.jsdelivr.net/npm/jspanel4@4.12.0/dist/extensions/hint/jspanel.hint', 'jspanel-layout': 'https://cdn.jsdelivr.net/npm/jspanel4@4.12.0/dist/extensions/layout/jspanel.layout', 'jspanel-contextmenu': 'https://cdn.jsdelivr.net/npm/jspanel4@4.12.0/dist/extensions/contextmenu/jspanel.contextmenu', 'jspanel-dock': 'https://cdn.jsdelivr.net/npm/jspanel4@4.12.0/dist/extensions/dock/jspanel.dock', 'gridstack': 'https://cdn.jsdelivr.net/npm/gridstack@7.2.3/dist/gridstack-all', 'notyf': 'https://cdn.jsdelivr.net/npm/notyf@3/notyf.min'}, 'shim': {'jspanel': {'exports': 'jsPanel'}, 'gridstack': {'exports': 'GridStack'}}});\n",
       "      require([\"jspanel\"], function(jsPanel) {\n",
       "\twindow.jsPanel = jsPanel\n",
       "\ton_load()\n",
       "      })\n",
       "      require([\"jspanel-modal\"], function() {\n",
       "\ton_load()\n",
       "      })\n",
       "      require([\"jspanel-tooltip\"], function() {\n",
       "\ton_load()\n",
       "      })\n",
       "      require([\"jspanel-hint\"], function() {\n",
       "\ton_load()\n",
       "      })\n",
       "      require([\"jspanel-layout\"], function() {\n",
       "\ton_load()\n",
       "      })\n",
       "      require([\"jspanel-contextmenu\"], function() {\n",
       "\ton_load()\n",
       "      })\n",
       "      require([\"jspanel-dock\"], function() {\n",
       "\ton_load()\n",
       "      })\n",
       "      require([\"gridstack\"], function(GridStack) {\n",
       "\twindow.GridStack = GridStack\n",
       "\ton_load()\n",
       "      })\n",
       "      require([\"notyf\"], function() {\n",
       "\ton_load()\n",
       "      })\n",
       "      root._bokeh_is_loading = css_urls.length + 9;\n",
       "    } else {\n",
       "      root._bokeh_is_loading = css_urls.length + js_urls.length + js_modules.length + Object.keys(js_exports).length;\n",
       "    }\n",
       "\n",
       "    var existing_stylesheets = []\n",
       "    var links = document.getElementsByTagName('link')\n",
       "    for (var i = 0; i < links.length; i++) {\n",
       "      var link = links[i]\n",
       "      if (link.href != null) {\n",
       "\texisting_stylesheets.push(link.href)\n",
       "      }\n",
       "    }\n",
       "    for (var i = 0; i < css_urls.length; i++) {\n",
       "      var url = css_urls[i];\n",
       "      if (existing_stylesheets.indexOf(url) !== -1) {\n",
       "\ton_load()\n",
       "\tcontinue;\n",
       "      }\n",
       "      const element = document.createElement(\"link\");\n",
       "      element.onload = on_load;\n",
       "      element.onerror = on_error;\n",
       "      element.rel = \"stylesheet\";\n",
       "      element.type = \"text/css\";\n",
       "      element.href = url;\n",
       "      console.debug(\"Bokeh: injecting link tag for BokehJS stylesheet: \", url);\n",
       "      document.body.appendChild(element);\n",
       "    }    if (((window['jsPanel'] !== undefined) && (!(window['jsPanel'] instanceof HTMLElement))) || window.requirejs) {\n",
       "      var urls = ['https://cdn.holoviz.org/panel/1.3.8/dist/bundled/floatpanel/jspanel4@4.12.0/dist/jspanel.js', 'https://cdn.holoviz.org/panel/1.3.8/dist/bundled/floatpanel/jspanel4@4.12.0/dist/extensions/modal/jspanel.modal.js', 'https://cdn.holoviz.org/panel/1.3.8/dist/bundled/floatpanel/jspanel4@4.12.0/dist/extensions/tooltip/jspanel.tooltip.js', 'https://cdn.holoviz.org/panel/1.3.8/dist/bundled/floatpanel/jspanel4@4.12.0/dist/extensions/hint/jspanel.hint.js', 'https://cdn.holoviz.org/panel/1.3.8/dist/bundled/floatpanel/jspanel4@4.12.0/dist/extensions/layout/jspanel.layout.js', 'https://cdn.holoviz.org/panel/1.3.8/dist/bundled/floatpanel/jspanel4@4.12.0/dist/extensions/contextmenu/jspanel.contextmenu.js', 'https://cdn.holoviz.org/panel/1.3.8/dist/bundled/floatpanel/jspanel4@4.12.0/dist/extensions/dock/jspanel.dock.js'];\n",
       "      for (var i = 0; i < urls.length; i++) {\n",
       "        skip.push(urls[i])\n",
       "      }\n",
       "    }    if (((window['GridStack'] !== undefined) && (!(window['GridStack'] instanceof HTMLElement))) || window.requirejs) {\n",
       "      var urls = ['https://cdn.holoviz.org/panel/1.3.8/dist/bundled/gridstack/gridstack@7.2.3/dist/gridstack-all.js'];\n",
       "      for (var i = 0; i < urls.length; i++) {\n",
       "        skip.push(urls[i])\n",
       "      }\n",
       "    }    if (((window['Notyf'] !== undefined) && (!(window['Notyf'] instanceof HTMLElement))) || window.requirejs) {\n",
       "      var urls = ['https://cdn.holoviz.org/panel/1.3.8/dist/bundled/notificationarea/notyf@3/notyf.min.js'];\n",
       "      for (var i = 0; i < urls.length; i++) {\n",
       "        skip.push(urls[i])\n",
       "      }\n",
       "    }    var existing_scripts = []\n",
       "    var scripts = document.getElementsByTagName('script')\n",
       "    for (var i = 0; i < scripts.length; i++) {\n",
       "      var script = scripts[i]\n",
       "      if (script.src != null) {\n",
       "\texisting_scripts.push(script.src)\n",
       "      }\n",
       "    }\n",
       "    for (var i = 0; i < js_urls.length; i++) {\n",
       "      var url = js_urls[i];\n",
       "      if (skip.indexOf(url) !== -1 || existing_scripts.indexOf(url) !== -1) {\n",
       "\tif (!window.requirejs) {\n",
       "\t  on_load();\n",
       "\t}\n",
       "\tcontinue;\n",
       "      }\n",
       "      var element = document.createElement('script');\n",
       "      element.onload = on_load;\n",
       "      element.onerror = on_error;\n",
       "      element.async = false;\n",
       "      element.src = url;\n",
       "      console.debug(\"Bokeh: injecting script tag for BokehJS library: \", url);\n",
       "      document.head.appendChild(element);\n",
       "    }\n",
       "    for (var i = 0; i < js_modules.length; i++) {\n",
       "      var url = js_modules[i];\n",
       "      if (skip.indexOf(url) !== -1 || existing_scripts.indexOf(url) !== -1) {\n",
       "\tif (!window.requirejs) {\n",
       "\t  on_load();\n",
       "\t}\n",
       "\tcontinue;\n",
       "      }\n",
       "      var element = document.createElement('script');\n",
       "      element.onload = on_load;\n",
       "      element.onerror = on_error;\n",
       "      element.async = false;\n",
       "      element.src = url;\n",
       "      element.type = \"module\";\n",
       "      console.debug(\"Bokeh: injecting script tag for BokehJS library: \", url);\n",
       "      document.head.appendChild(element);\n",
       "    }\n",
       "    for (const name in js_exports) {\n",
       "      var url = js_exports[name];\n",
       "      if (skip.indexOf(url) >= 0 || root[name] != null) {\n",
       "\tif (!window.requirejs) {\n",
       "\t  on_load();\n",
       "\t}\n",
       "\tcontinue;\n",
       "      }\n",
       "      var element = document.createElement('script');\n",
       "      element.onerror = on_error;\n",
       "      element.async = false;\n",
       "      element.type = \"module\";\n",
       "      console.debug(\"Bokeh: injecting script tag for BokehJS library: \", url);\n",
       "      element.textContent = `\n",
       "      import ${name} from \"${url}\"\n",
       "      window.${name} = ${name}\n",
       "      window._bokeh_on_load()\n",
       "      `\n",
       "      document.head.appendChild(element);\n",
       "    }\n",
       "    if (!js_urls.length && !js_modules.length) {\n",
       "      on_load()\n",
       "    }\n",
       "  };\n",
       "\n",
       "  function inject_raw_css(css) {\n",
       "    const element = document.createElement(\"style\");\n",
       "    element.appendChild(document.createTextNode(css));\n",
       "    document.body.appendChild(element);\n",
       "  }\n",
       "\n",
       "  var js_urls = [\"https://cdn.bokeh.org/bokeh/release/bokeh-3.3.4.min.js\", \"https://cdn.bokeh.org/bokeh/release/bokeh-gl-3.3.4.min.js\", \"https://cdn.bokeh.org/bokeh/release/bokeh-widgets-3.3.4.min.js\", \"https://cdn.bokeh.org/bokeh/release/bokeh-tables-3.3.4.min.js\", \"https://cdn.holoviz.org/panel/1.3.8/dist/panel.min.js\"];\n",
       "  var js_modules = [];\n",
       "  var js_exports = {};\n",
       "  var css_urls = [];\n",
       "  var inline_js = [    function(Bokeh) {\n",
       "      Bokeh.set_log_level(\"info\");\n",
       "    },\n",
       "function(Bokeh) {} // ensure no trailing comma for IE\n",
       "  ];\n",
       "\n",
       "  function run_inline_js() {\n",
       "    if ((root.Bokeh !== undefined) || (force === true)) {\n",
       "      for (var i = 0; i < inline_js.length; i++) {\n",
       "\ttry {\n",
       "          inline_js[i].call(root, root.Bokeh);\n",
       "\t} catch(e) {\n",
       "\t  if (!reloading) {\n",
       "\t    throw e;\n",
       "\t  }\n",
       "\t}\n",
       "      }\n",
       "      // Cache old bokeh versions\n",
       "      if (Bokeh != undefined && !reloading) {\n",
       "\tvar NewBokeh = root.Bokeh;\n",
       "\tif (Bokeh.versions === undefined) {\n",
       "\t  Bokeh.versions = new Map();\n",
       "\t}\n",
       "\tif (NewBokeh.version !== Bokeh.version) {\n",
       "\t  Bokeh.versions.set(NewBokeh.version, NewBokeh)\n",
       "\t}\n",
       "\troot.Bokeh = Bokeh;\n",
       "      }} else if (Date.now() < root._bokeh_timeout) {\n",
       "      setTimeout(run_inline_js, 100);\n",
       "    } else if (!root._bokeh_failed_load) {\n",
       "      console.log(\"Bokeh: BokehJS failed to load within specified timeout.\");\n",
       "      root._bokeh_failed_load = true;\n",
       "    }\n",
       "    root._bokeh_is_initializing = false\n",
       "  }\n",
       "\n",
       "  function load_or_wait() {\n",
       "    // Implement a backoff loop that tries to ensure we do not load multiple\n",
       "    // versions of Bokeh and its dependencies at the same time.\n",
       "    // In recent versions we use the root._bokeh_is_initializing flag\n",
       "    // to determine whether there is an ongoing attempt to initialize\n",
       "    // bokeh, however for backward compatibility we also try to ensure\n",
       "    // that we do not start loading a newer (Panel>=1.0 and Bokeh>3) version\n",
       "    // before older versions are fully initialized.\n",
       "    if (root._bokeh_is_initializing && Date.now() > root._bokeh_timeout) {\n",
       "      root._bokeh_is_initializing = false;\n",
       "      root._bokeh_onload_callbacks = undefined;\n",
       "      console.log(\"Bokeh: BokehJS was loaded multiple times but one version failed to initialize.\");\n",
       "      load_or_wait();\n",
       "    } else if (root._bokeh_is_initializing || (typeof root._bokeh_is_initializing === \"undefined\" && root._bokeh_onload_callbacks !== undefined)) {\n",
       "      setTimeout(load_or_wait, 100);\n",
       "    } else {\n",
       "      root._bokeh_is_initializing = true\n",
       "      root._bokeh_onload_callbacks = []\n",
       "      var bokeh_loaded = Bokeh != null && (Bokeh.version === py_version || (Bokeh.versions !== undefined && Bokeh.versions.has(py_version)));\n",
       "      if (!reloading && !bokeh_loaded) {\n",
       "\troot.Bokeh = undefined;\n",
       "      }\n",
       "      load_libs(css_urls, js_urls, js_modules, js_exports, function() {\n",
       "\tconsole.debug(\"Bokeh: BokehJS plotting callback run at\", now());\n",
       "\trun_inline_js();\n",
       "      });\n",
       "    }\n",
       "  }\n",
       "  // Give older versions of the autoload script a head-start to ensure\n",
       "  // they initialize before we start loading newer version.\n",
       "  setTimeout(load_or_wait, 100)\n",
       "}(window));"
      ],
      "application/vnd.holoviews_load.v0+json": "(function(root) {\n  function now() {\n    return new Date();\n  }\n\n  var force = true;\n  var py_version = '3.3.4'.replace('rc', '-rc.').replace('.dev', '-dev.');\n  var reloading = false;\n  var Bokeh = root.Bokeh;\n\n  if (typeof (root._bokeh_timeout) === \"undefined\" || force) {\n    root._bokeh_timeout = Date.now() + 5000;\n    root._bokeh_failed_load = false;\n  }\n\n  function run_callbacks() {\n    try {\n      root._bokeh_onload_callbacks.forEach(function(callback) {\n        if (callback != null)\n          callback();\n      });\n    } finally {\n      delete root._bokeh_onload_callbacks;\n    }\n    console.debug(\"Bokeh: all callbacks have finished\");\n  }\n\n  function load_libs(css_urls, js_urls, js_modules, js_exports, callback) {\n    if (css_urls == null) css_urls = [];\n    if (js_urls == null) js_urls = [];\n    if (js_modules == null) js_modules = [];\n    if (js_exports == null) js_exports = {};\n\n    root._bokeh_onload_callbacks.push(callback);\n\n    if (root._bokeh_is_loading > 0) {\n      console.debug(\"Bokeh: BokehJS is being loaded, scheduling callback at\", now());\n      return null;\n    }\n    if (js_urls.length === 0 && js_modules.length === 0 && Object.keys(js_exports).length === 0) {\n      run_callbacks();\n      return null;\n    }\n    if (!reloading) {\n      console.debug(\"Bokeh: BokehJS not loaded, scheduling load and callback at\", now());\n    }\n\n    function on_load() {\n      root._bokeh_is_loading--;\n      if (root._bokeh_is_loading === 0) {\n        console.debug(\"Bokeh: all BokehJS libraries/stylesheets loaded\");\n        run_callbacks()\n      }\n    }\n    window._bokeh_on_load = on_load\n\n    function on_error() {\n      console.error(\"failed to load \" + url);\n    }\n\n    var skip = [];\n    if (window.requirejs) {\n      window.requirejs.config({'packages': {}, 'paths': {'jspanel': 'https://cdn.jsdelivr.net/npm/jspanel4@4.12.0/dist/jspanel', 'jspanel-modal': 'https://cdn.jsdelivr.net/npm/jspanel4@4.12.0/dist/extensions/modal/jspanel.modal', 'jspanel-tooltip': 'https://cdn.jsdelivr.net/npm/jspanel4@4.12.0/dist/extensions/tooltip/jspanel.tooltip', 'jspanel-hint': 'https://cdn.jsdelivr.net/npm/jspanel4@4.12.0/dist/extensions/hint/jspanel.hint', 'jspanel-layout': 'https://cdn.jsdelivr.net/npm/jspanel4@4.12.0/dist/extensions/layout/jspanel.layout', 'jspanel-contextmenu': 'https://cdn.jsdelivr.net/npm/jspanel4@4.12.0/dist/extensions/contextmenu/jspanel.contextmenu', 'jspanel-dock': 'https://cdn.jsdelivr.net/npm/jspanel4@4.12.0/dist/extensions/dock/jspanel.dock', 'gridstack': 'https://cdn.jsdelivr.net/npm/gridstack@7.2.3/dist/gridstack-all', 'notyf': 'https://cdn.jsdelivr.net/npm/notyf@3/notyf.min'}, 'shim': {'jspanel': {'exports': 'jsPanel'}, 'gridstack': {'exports': 'GridStack'}}});\n      require([\"jspanel\"], function(jsPanel) {\n\twindow.jsPanel = jsPanel\n\ton_load()\n      })\n      require([\"jspanel-modal\"], function() {\n\ton_load()\n      })\n      require([\"jspanel-tooltip\"], function() {\n\ton_load()\n      })\n      require([\"jspanel-hint\"], function() {\n\ton_load()\n      })\n      require([\"jspanel-layout\"], function() {\n\ton_load()\n      })\n      require([\"jspanel-contextmenu\"], function() {\n\ton_load()\n      })\n      require([\"jspanel-dock\"], function() {\n\ton_load()\n      })\n      require([\"gridstack\"], function(GridStack) {\n\twindow.GridStack = GridStack\n\ton_load()\n      })\n      require([\"notyf\"], function() {\n\ton_load()\n      })\n      root._bokeh_is_loading = css_urls.length + 9;\n    } else {\n      root._bokeh_is_loading = css_urls.length + js_urls.length + js_modules.length + Object.keys(js_exports).length;\n    }\n\n    var existing_stylesheets = []\n    var links = document.getElementsByTagName('link')\n    for (var i = 0; i < links.length; i++) {\n      var link = links[i]\n      if (link.href != null) {\n\texisting_stylesheets.push(link.href)\n      }\n    }\n    for (var i = 0; i < css_urls.length; i++) {\n      var url = css_urls[i];\n      if (existing_stylesheets.indexOf(url) !== -1) {\n\ton_load()\n\tcontinue;\n      }\n      const element = document.createElement(\"link\");\n      element.onload = on_load;\n      element.onerror = on_error;\n      element.rel = \"stylesheet\";\n      element.type = \"text/css\";\n      element.href = url;\n      console.debug(\"Bokeh: injecting link tag for BokehJS stylesheet: \", url);\n      document.body.appendChild(element);\n    }    if (((window['jsPanel'] !== undefined) && (!(window['jsPanel'] instanceof HTMLElement))) || window.requirejs) {\n      var urls = ['https://cdn.holoviz.org/panel/1.3.8/dist/bundled/floatpanel/jspanel4@4.12.0/dist/jspanel.js', 'https://cdn.holoviz.org/panel/1.3.8/dist/bundled/floatpanel/jspanel4@4.12.0/dist/extensions/modal/jspanel.modal.js', 'https://cdn.holoviz.org/panel/1.3.8/dist/bundled/floatpanel/jspanel4@4.12.0/dist/extensions/tooltip/jspanel.tooltip.js', 'https://cdn.holoviz.org/panel/1.3.8/dist/bundled/floatpanel/jspanel4@4.12.0/dist/extensions/hint/jspanel.hint.js', 'https://cdn.holoviz.org/panel/1.3.8/dist/bundled/floatpanel/jspanel4@4.12.0/dist/extensions/layout/jspanel.layout.js', 'https://cdn.holoviz.org/panel/1.3.8/dist/bundled/floatpanel/jspanel4@4.12.0/dist/extensions/contextmenu/jspanel.contextmenu.js', 'https://cdn.holoviz.org/panel/1.3.8/dist/bundled/floatpanel/jspanel4@4.12.0/dist/extensions/dock/jspanel.dock.js'];\n      for (var i = 0; i < urls.length; i++) {\n        skip.push(urls[i])\n      }\n    }    if (((window['GridStack'] !== undefined) && (!(window['GridStack'] instanceof HTMLElement))) || window.requirejs) {\n      var urls = ['https://cdn.holoviz.org/panel/1.3.8/dist/bundled/gridstack/gridstack@7.2.3/dist/gridstack-all.js'];\n      for (var i = 0; i < urls.length; i++) {\n        skip.push(urls[i])\n      }\n    }    if (((window['Notyf'] !== undefined) && (!(window['Notyf'] instanceof HTMLElement))) || window.requirejs) {\n      var urls = ['https://cdn.holoviz.org/panel/1.3.8/dist/bundled/notificationarea/notyf@3/notyf.min.js'];\n      for (var i = 0; i < urls.length; i++) {\n        skip.push(urls[i])\n      }\n    }    var existing_scripts = []\n    var scripts = document.getElementsByTagName('script')\n    for (var i = 0; i < scripts.length; i++) {\n      var script = scripts[i]\n      if (script.src != null) {\n\texisting_scripts.push(script.src)\n      }\n    }\n    for (var i = 0; i < js_urls.length; i++) {\n      var url = js_urls[i];\n      if (skip.indexOf(url) !== -1 || existing_scripts.indexOf(url) !== -1) {\n\tif (!window.requirejs) {\n\t  on_load();\n\t}\n\tcontinue;\n      }\n      var element = document.createElement('script');\n      element.onload = on_load;\n      element.onerror = on_error;\n      element.async = false;\n      element.src = url;\n      console.debug(\"Bokeh: injecting script tag for BokehJS library: \", url);\n      document.head.appendChild(element);\n    }\n    for (var i = 0; i < js_modules.length; i++) {\n      var url = js_modules[i];\n      if (skip.indexOf(url) !== -1 || existing_scripts.indexOf(url) !== -1) {\n\tif (!window.requirejs) {\n\t  on_load();\n\t}\n\tcontinue;\n      }\n      var element = document.createElement('script');\n      element.onload = on_load;\n      element.onerror = on_error;\n      element.async = false;\n      element.src = url;\n      element.type = \"module\";\n      console.debug(\"Bokeh: injecting script tag for BokehJS library: \", url);\n      document.head.appendChild(element);\n    }\n    for (const name in js_exports) {\n      var url = js_exports[name];\n      if (skip.indexOf(url) >= 0 || root[name] != null) {\n\tif (!window.requirejs) {\n\t  on_load();\n\t}\n\tcontinue;\n      }\n      var element = document.createElement('script');\n      element.onerror = on_error;\n      element.async = false;\n      element.type = \"module\";\n      console.debug(\"Bokeh: injecting script tag for BokehJS library: \", url);\n      element.textContent = `\n      import ${name} from \"${url}\"\n      window.${name} = ${name}\n      window._bokeh_on_load()\n      `\n      document.head.appendChild(element);\n    }\n    if (!js_urls.length && !js_modules.length) {\n      on_load()\n    }\n  };\n\n  function inject_raw_css(css) {\n    const element = document.createElement(\"style\");\n    element.appendChild(document.createTextNode(css));\n    document.body.appendChild(element);\n  }\n\n  var js_urls = [\"https://cdn.bokeh.org/bokeh/release/bokeh-3.3.4.min.js\", \"https://cdn.bokeh.org/bokeh/release/bokeh-gl-3.3.4.min.js\", \"https://cdn.bokeh.org/bokeh/release/bokeh-widgets-3.3.4.min.js\", \"https://cdn.bokeh.org/bokeh/release/bokeh-tables-3.3.4.min.js\", \"https://cdn.holoviz.org/panel/1.3.8/dist/panel.min.js\"];\n  var js_modules = [];\n  var js_exports = {};\n  var css_urls = [];\n  var inline_js = [    function(Bokeh) {\n      Bokeh.set_log_level(\"info\");\n    },\nfunction(Bokeh) {} // ensure no trailing comma for IE\n  ];\n\n  function run_inline_js() {\n    if ((root.Bokeh !== undefined) || (force === true)) {\n      for (var i = 0; i < inline_js.length; i++) {\n\ttry {\n          inline_js[i].call(root, root.Bokeh);\n\t} catch(e) {\n\t  if (!reloading) {\n\t    throw e;\n\t  }\n\t}\n      }\n      // Cache old bokeh versions\n      if (Bokeh != undefined && !reloading) {\n\tvar NewBokeh = root.Bokeh;\n\tif (Bokeh.versions === undefined) {\n\t  Bokeh.versions = new Map();\n\t}\n\tif (NewBokeh.version !== Bokeh.version) {\n\t  Bokeh.versions.set(NewBokeh.version, NewBokeh)\n\t}\n\troot.Bokeh = Bokeh;\n      }} else if (Date.now() < root._bokeh_timeout) {\n      setTimeout(run_inline_js, 100);\n    } else if (!root._bokeh_failed_load) {\n      console.log(\"Bokeh: BokehJS failed to load within specified timeout.\");\n      root._bokeh_failed_load = true;\n    }\n    root._bokeh_is_initializing = false\n  }\n\n  function load_or_wait() {\n    // Implement a backoff loop that tries to ensure we do not load multiple\n    // versions of Bokeh and its dependencies at the same time.\n    // In recent versions we use the root._bokeh_is_initializing flag\n    // to determine whether there is an ongoing attempt to initialize\n    // bokeh, however for backward compatibility we also try to ensure\n    // that we do not start loading a newer (Panel>=1.0 and Bokeh>3) version\n    // before older versions are fully initialized.\n    if (root._bokeh_is_initializing && Date.now() > root._bokeh_timeout) {\n      root._bokeh_is_initializing = false;\n      root._bokeh_onload_callbacks = undefined;\n      console.log(\"Bokeh: BokehJS was loaded multiple times but one version failed to initialize.\");\n      load_or_wait();\n    } else if (root._bokeh_is_initializing || (typeof root._bokeh_is_initializing === \"undefined\" && root._bokeh_onload_callbacks !== undefined)) {\n      setTimeout(load_or_wait, 100);\n    } else {\n      root._bokeh_is_initializing = true\n      root._bokeh_onload_callbacks = []\n      var bokeh_loaded = Bokeh != null && (Bokeh.version === py_version || (Bokeh.versions !== undefined && Bokeh.versions.has(py_version)));\n      if (!reloading && !bokeh_loaded) {\n\troot.Bokeh = undefined;\n      }\n      load_libs(css_urls, js_urls, js_modules, js_exports, function() {\n\tconsole.debug(\"Bokeh: BokehJS plotting callback run at\", now());\n\trun_inline_js();\n      });\n    }\n  }\n  // Give older versions of the autoload script a head-start to ensure\n  // they initialize before we start loading newer version.\n  setTimeout(load_or_wait, 100)\n}(window));"
     },
     "metadata": {},
     "output_type": "display_data"
    },
    {
     "data": {
      "application/javascript": [
       "\n",
       "if ((window.PyViz === undefined) || (window.PyViz instanceof HTMLElement)) {\n",
       "  window.PyViz = {comms: {}, comm_status:{}, kernels:{}, receivers: {}, plot_index: []}\n",
       "}\n",
       "\n",
       "\n",
       "    function JupyterCommManager() {\n",
       "    }\n",
       "\n",
       "    JupyterCommManager.prototype.register_target = function(plot_id, comm_id, msg_handler) {\n",
       "      if (window.comm_manager || ((window.Jupyter !== undefined) && (Jupyter.notebook.kernel != null))) {\n",
       "        var comm_manager = window.comm_manager || Jupyter.notebook.kernel.comm_manager;\n",
       "        comm_manager.register_target(comm_id, function(comm) {\n",
       "          comm.on_msg(msg_handler);\n",
       "        });\n",
       "      } else if ((plot_id in window.PyViz.kernels) && (window.PyViz.kernels[plot_id])) {\n",
       "        window.PyViz.kernels[plot_id].registerCommTarget(comm_id, function(comm) {\n",
       "          comm.onMsg = msg_handler;\n",
       "        });\n",
       "      } else if (typeof google != 'undefined' && google.colab.kernel != null) {\n",
       "        google.colab.kernel.comms.registerTarget(comm_id, (comm) => {\n",
       "          var messages = comm.messages[Symbol.asyncIterator]();\n",
       "          function processIteratorResult(result) {\n",
       "            var message = result.value;\n",
       "            console.log(message)\n",
       "            var content = {data: message.data, comm_id};\n",
       "            var buffers = []\n",
       "            for (var buffer of message.buffers || []) {\n",
       "              buffers.push(new DataView(buffer))\n",
       "            }\n",
       "            var metadata = message.metadata || {};\n",
       "            var msg = {content, buffers, metadata}\n",
       "            msg_handler(msg);\n",
       "            return messages.next().then(processIteratorResult);\n",
       "          }\n",
       "          return messages.next().then(processIteratorResult);\n",
       "        })\n",
       "      }\n",
       "    }\n",
       "\n",
       "    JupyterCommManager.prototype.get_client_comm = function(plot_id, comm_id, msg_handler) {\n",
       "      if (comm_id in window.PyViz.comms) {\n",
       "        return window.PyViz.comms[comm_id];\n",
       "      } else if (window.comm_manager || ((window.Jupyter !== undefined) && (Jupyter.notebook.kernel != null))) {\n",
       "        var comm_manager = window.comm_manager || Jupyter.notebook.kernel.comm_manager;\n",
       "        var comm = comm_manager.new_comm(comm_id, {}, {}, {}, comm_id);\n",
       "        if (msg_handler) {\n",
       "          comm.on_msg(msg_handler);\n",
       "        }\n",
       "      } else if ((plot_id in window.PyViz.kernels) && (window.PyViz.kernels[plot_id])) {\n",
       "        var comm = window.PyViz.kernels[plot_id].connectToComm(comm_id);\n",
       "        comm.open();\n",
       "        if (msg_handler) {\n",
       "          comm.onMsg = msg_handler;\n",
       "        }\n",
       "      } else if (typeof google != 'undefined' && google.colab.kernel != null) {\n",
       "        var comm_promise = google.colab.kernel.comms.open(comm_id)\n",
       "        comm_promise.then((comm) => {\n",
       "          window.PyViz.comms[comm_id] = comm;\n",
       "          if (msg_handler) {\n",
       "            var messages = comm.messages[Symbol.asyncIterator]();\n",
       "            function processIteratorResult(result) {\n",
       "              var message = result.value;\n",
       "              var content = {data: message.data};\n",
       "              var metadata = message.metadata || {comm_id};\n",
       "              var msg = {content, metadata}\n",
       "              msg_handler(msg);\n",
       "              return messages.next().then(processIteratorResult);\n",
       "            }\n",
       "            return messages.next().then(processIteratorResult);\n",
       "          }\n",
       "        }) \n",
       "        var sendClosure = (data, metadata, buffers, disposeOnDone) => {\n",
       "          return comm_promise.then((comm) => {\n",
       "            comm.send(data, metadata, buffers, disposeOnDone);\n",
       "          });\n",
       "        };\n",
       "        var comm = {\n",
       "          send: sendClosure\n",
       "        };\n",
       "      }\n",
       "      window.PyViz.comms[comm_id] = comm;\n",
       "      return comm;\n",
       "    }\n",
       "    window.PyViz.comm_manager = new JupyterCommManager();\n",
       "    \n",
       "\n",
       "\n",
       "var JS_MIME_TYPE = 'application/javascript';\n",
       "var HTML_MIME_TYPE = 'text/html';\n",
       "var EXEC_MIME_TYPE = 'application/vnd.holoviews_exec.v0+json';\n",
       "var CLASS_NAME = 'output';\n",
       "\n",
       "/**\n",
       " * Render data to the DOM node\n",
       " */\n",
       "function render(props, node) {\n",
       "  var div = document.createElement(\"div\");\n",
       "  var script = document.createElement(\"script\");\n",
       "  node.appendChild(div);\n",
       "  node.appendChild(script);\n",
       "}\n",
       "\n",
       "/**\n",
       " * Handle when a new output is added\n",
       " */\n",
       "function handle_add_output(event, handle) {\n",
       "  var output_area = handle.output_area;\n",
       "  var output = handle.output;\n",
       "  if ((output.data == undefined) || (!output.data.hasOwnProperty(EXEC_MIME_TYPE))) {\n",
       "    return\n",
       "  }\n",
       "  var id = output.metadata[EXEC_MIME_TYPE][\"id\"];\n",
       "  var toinsert = output_area.element.find(\".\" + CLASS_NAME.split(' ')[0]);\n",
       "  if (id !== undefined) {\n",
       "    var nchildren = toinsert.length;\n",
       "    var html_node = toinsert[nchildren-1].children[0];\n",
       "    html_node.innerHTML = output.data[HTML_MIME_TYPE];\n",
       "    var scripts = [];\n",
       "    var nodelist = html_node.querySelectorAll(\"script\");\n",
       "    for (var i in nodelist) {\n",
       "      if (nodelist.hasOwnProperty(i)) {\n",
       "        scripts.push(nodelist[i])\n",
       "      }\n",
       "    }\n",
       "\n",
       "    scripts.forEach( function (oldScript) {\n",
       "      var newScript = document.createElement(\"script\");\n",
       "      var attrs = [];\n",
       "      var nodemap = oldScript.attributes;\n",
       "      for (var j in nodemap) {\n",
       "        if (nodemap.hasOwnProperty(j)) {\n",
       "          attrs.push(nodemap[j])\n",
       "        }\n",
       "      }\n",
       "      attrs.forEach(function(attr) { newScript.setAttribute(attr.name, attr.value) });\n",
       "      newScript.appendChild(document.createTextNode(oldScript.innerHTML));\n",
       "      oldScript.parentNode.replaceChild(newScript, oldScript);\n",
       "    });\n",
       "    if (JS_MIME_TYPE in output.data) {\n",
       "      toinsert[nchildren-1].children[1].textContent = output.data[JS_MIME_TYPE];\n",
       "    }\n",
       "    output_area._hv_plot_id = id;\n",
       "    if ((window.Bokeh !== undefined) && (id in Bokeh.index)) {\n",
       "      window.PyViz.plot_index[id] = Bokeh.index[id];\n",
       "    } else {\n",
       "      window.PyViz.plot_index[id] = null;\n",
       "    }\n",
       "  } else if (output.metadata[EXEC_MIME_TYPE][\"server_id\"] !== undefined) {\n",
       "    var bk_div = document.createElement(\"div\");\n",
       "    bk_div.innerHTML = output.data[HTML_MIME_TYPE];\n",
       "    var script_attrs = bk_div.children[0].attributes;\n",
       "    for (var i = 0; i < script_attrs.length; i++) {\n",
       "      toinsert[toinsert.length - 1].childNodes[1].setAttribute(script_attrs[i].name, script_attrs[i].value);\n",
       "    }\n",
       "    // store reference to server id on output_area\n",
       "    output_area._bokeh_server_id = output.metadata[EXEC_MIME_TYPE][\"server_id\"];\n",
       "  }\n",
       "}\n",
       "\n",
       "/**\n",
       " * Handle when an output is cleared or removed\n",
       " */\n",
       "function handle_clear_output(event, handle) {\n",
       "  var id = handle.cell.output_area._hv_plot_id;\n",
       "  var server_id = handle.cell.output_area._bokeh_server_id;\n",
       "  if (((id === undefined) || !(id in PyViz.plot_index)) && (server_id !== undefined)) { return; }\n",
       "  var comm = window.PyViz.comm_manager.get_client_comm(\"hv-extension-comm\", \"hv-extension-comm\", function () {});\n",
       "  if (server_id !== null) {\n",
       "    comm.send({event_type: 'server_delete', 'id': server_id});\n",
       "    return;\n",
       "  } else if (comm !== null) {\n",
       "    comm.send({event_type: 'delete', 'id': id});\n",
       "  }\n",
       "  delete PyViz.plot_index[id];\n",
       "  if ((window.Bokeh !== undefined) & (id in window.Bokeh.index)) {\n",
       "    var doc = window.Bokeh.index[id].model.document\n",
       "    doc.clear();\n",
       "    const i = window.Bokeh.documents.indexOf(doc);\n",
       "    if (i > -1) {\n",
       "      window.Bokeh.documents.splice(i, 1);\n",
       "    }\n",
       "  }\n",
       "}\n",
       "\n",
       "/**\n",
       " * Handle kernel restart event\n",
       " */\n",
       "function handle_kernel_cleanup(event, handle) {\n",
       "  delete PyViz.comms[\"hv-extension-comm\"];\n",
       "  window.PyViz.plot_index = {}\n",
       "}\n",
       "\n",
       "/**\n",
       " * Handle update_display_data messages\n",
       " */\n",
       "function handle_update_output(event, handle) {\n",
       "  handle_clear_output(event, {cell: {output_area: handle.output_area}})\n",
       "  handle_add_output(event, handle)\n",
       "}\n",
       "\n",
       "function register_renderer(events, OutputArea) {\n",
       "  function append_mime(data, metadata, element) {\n",
       "    // create a DOM node to render to\n",
       "    var toinsert = this.create_output_subarea(\n",
       "    metadata,\n",
       "    CLASS_NAME,\n",
       "    EXEC_MIME_TYPE\n",
       "    );\n",
       "    this.keyboard_manager.register_events(toinsert);\n",
       "    // Render to node\n",
       "    var props = {data: data, metadata: metadata[EXEC_MIME_TYPE]};\n",
       "    render(props, toinsert[0]);\n",
       "    element.append(toinsert);\n",
       "    return toinsert\n",
       "  }\n",
       "\n",
       "  events.on('output_added.OutputArea', handle_add_output);\n",
       "  events.on('output_updated.OutputArea', handle_update_output);\n",
       "  events.on('clear_output.CodeCell', handle_clear_output);\n",
       "  events.on('delete.Cell', handle_clear_output);\n",
       "  events.on('kernel_ready.Kernel', handle_kernel_cleanup);\n",
       "\n",
       "  OutputArea.prototype.register_mime_type(EXEC_MIME_TYPE, append_mime, {\n",
       "    safe: true,\n",
       "    index: 0\n",
       "  });\n",
       "}\n",
       "\n",
       "if (window.Jupyter !== undefined) {\n",
       "  try {\n",
       "    var events = require('base/js/events');\n",
       "    var OutputArea = require('notebook/js/outputarea').OutputArea;\n",
       "    if (OutputArea.prototype.mime_types().indexOf(EXEC_MIME_TYPE) == -1) {\n",
       "      register_renderer(events, OutputArea);\n",
       "    }\n",
       "  } catch(err) {\n",
       "  }\n",
       "}\n"
      ],
      "application/vnd.holoviews_load.v0+json": "\nif ((window.PyViz === undefined) || (window.PyViz instanceof HTMLElement)) {\n  window.PyViz = {comms: {}, comm_status:{}, kernels:{}, receivers: {}, plot_index: []}\n}\n\n\n    function JupyterCommManager() {\n    }\n\n    JupyterCommManager.prototype.register_target = function(plot_id, comm_id, msg_handler) {\n      if (window.comm_manager || ((window.Jupyter !== undefined) && (Jupyter.notebook.kernel != null))) {\n        var comm_manager = window.comm_manager || Jupyter.notebook.kernel.comm_manager;\n        comm_manager.register_target(comm_id, function(comm) {\n          comm.on_msg(msg_handler);\n        });\n      } else if ((plot_id in window.PyViz.kernels) && (window.PyViz.kernels[plot_id])) {\n        window.PyViz.kernels[plot_id].registerCommTarget(comm_id, function(comm) {\n          comm.onMsg = msg_handler;\n        });\n      } else if (typeof google != 'undefined' && google.colab.kernel != null) {\n        google.colab.kernel.comms.registerTarget(comm_id, (comm) => {\n          var messages = comm.messages[Symbol.asyncIterator]();\n          function processIteratorResult(result) {\n            var message = result.value;\n            console.log(message)\n            var content = {data: message.data, comm_id};\n            var buffers = []\n            for (var buffer of message.buffers || []) {\n              buffers.push(new DataView(buffer))\n            }\n            var metadata = message.metadata || {};\n            var msg = {content, buffers, metadata}\n            msg_handler(msg);\n            return messages.next().then(processIteratorResult);\n          }\n          return messages.next().then(processIteratorResult);\n        })\n      }\n    }\n\n    JupyterCommManager.prototype.get_client_comm = function(plot_id, comm_id, msg_handler) {\n      if (comm_id in window.PyViz.comms) {\n        return window.PyViz.comms[comm_id];\n      } else if (window.comm_manager || ((window.Jupyter !== undefined) && (Jupyter.notebook.kernel != null))) {\n        var comm_manager = window.comm_manager || Jupyter.notebook.kernel.comm_manager;\n        var comm = comm_manager.new_comm(comm_id, {}, {}, {}, comm_id);\n        if (msg_handler) {\n          comm.on_msg(msg_handler);\n        }\n      } else if ((plot_id in window.PyViz.kernels) && (window.PyViz.kernels[plot_id])) {\n        var comm = window.PyViz.kernels[plot_id].connectToComm(comm_id);\n        comm.open();\n        if (msg_handler) {\n          comm.onMsg = msg_handler;\n        }\n      } else if (typeof google != 'undefined' && google.colab.kernel != null) {\n        var comm_promise = google.colab.kernel.comms.open(comm_id)\n        comm_promise.then((comm) => {\n          window.PyViz.comms[comm_id] = comm;\n          if (msg_handler) {\n            var messages = comm.messages[Symbol.asyncIterator]();\n            function processIteratorResult(result) {\n              var message = result.value;\n              var content = {data: message.data};\n              var metadata = message.metadata || {comm_id};\n              var msg = {content, metadata}\n              msg_handler(msg);\n              return messages.next().then(processIteratorResult);\n            }\n            return messages.next().then(processIteratorResult);\n          }\n        }) \n        var sendClosure = (data, metadata, buffers, disposeOnDone) => {\n          return comm_promise.then((comm) => {\n            comm.send(data, metadata, buffers, disposeOnDone);\n          });\n        };\n        var comm = {\n          send: sendClosure\n        };\n      }\n      window.PyViz.comms[comm_id] = comm;\n      return comm;\n    }\n    window.PyViz.comm_manager = new JupyterCommManager();\n    \n\n\nvar JS_MIME_TYPE = 'application/javascript';\nvar HTML_MIME_TYPE = 'text/html';\nvar EXEC_MIME_TYPE = 'application/vnd.holoviews_exec.v0+json';\nvar CLASS_NAME = 'output';\n\n/**\n * Render data to the DOM node\n */\nfunction render(props, node) {\n  var div = document.createElement(\"div\");\n  var script = document.createElement(\"script\");\n  node.appendChild(div);\n  node.appendChild(script);\n}\n\n/**\n * Handle when a new output is added\n */\nfunction handle_add_output(event, handle) {\n  var output_area = handle.output_area;\n  var output = handle.output;\n  if ((output.data == undefined) || (!output.data.hasOwnProperty(EXEC_MIME_TYPE))) {\n    return\n  }\n  var id = output.metadata[EXEC_MIME_TYPE][\"id\"];\n  var toinsert = output_area.element.find(\".\" + CLASS_NAME.split(' ')[0]);\n  if (id !== undefined) {\n    var nchildren = toinsert.length;\n    var html_node = toinsert[nchildren-1].children[0];\n    html_node.innerHTML = output.data[HTML_MIME_TYPE];\n    var scripts = [];\n    var nodelist = html_node.querySelectorAll(\"script\");\n    for (var i in nodelist) {\n      if (nodelist.hasOwnProperty(i)) {\n        scripts.push(nodelist[i])\n      }\n    }\n\n    scripts.forEach( function (oldScript) {\n      var newScript = document.createElement(\"script\");\n      var attrs = [];\n      var nodemap = oldScript.attributes;\n      for (var j in nodemap) {\n        if (nodemap.hasOwnProperty(j)) {\n          attrs.push(nodemap[j])\n        }\n      }\n      attrs.forEach(function(attr) { newScript.setAttribute(attr.name, attr.value) });\n      newScript.appendChild(document.createTextNode(oldScript.innerHTML));\n      oldScript.parentNode.replaceChild(newScript, oldScript);\n    });\n    if (JS_MIME_TYPE in output.data) {\n      toinsert[nchildren-1].children[1].textContent = output.data[JS_MIME_TYPE];\n    }\n    output_area._hv_plot_id = id;\n    if ((window.Bokeh !== undefined) && (id in Bokeh.index)) {\n      window.PyViz.plot_index[id] = Bokeh.index[id];\n    } else {\n      window.PyViz.plot_index[id] = null;\n    }\n  } else if (output.metadata[EXEC_MIME_TYPE][\"server_id\"] !== undefined) {\n    var bk_div = document.createElement(\"div\");\n    bk_div.innerHTML = output.data[HTML_MIME_TYPE];\n    var script_attrs = bk_div.children[0].attributes;\n    for (var i = 0; i < script_attrs.length; i++) {\n      toinsert[toinsert.length - 1].childNodes[1].setAttribute(script_attrs[i].name, script_attrs[i].value);\n    }\n    // store reference to server id on output_area\n    output_area._bokeh_server_id = output.metadata[EXEC_MIME_TYPE][\"server_id\"];\n  }\n}\n\n/**\n * Handle when an output is cleared or removed\n */\nfunction handle_clear_output(event, handle) {\n  var id = handle.cell.output_area._hv_plot_id;\n  var server_id = handle.cell.output_area._bokeh_server_id;\n  if (((id === undefined) || !(id in PyViz.plot_index)) && (server_id !== undefined)) { return; }\n  var comm = window.PyViz.comm_manager.get_client_comm(\"hv-extension-comm\", \"hv-extension-comm\", function () {});\n  if (server_id !== null) {\n    comm.send({event_type: 'server_delete', 'id': server_id});\n    return;\n  } else if (comm !== null) {\n    comm.send({event_type: 'delete', 'id': id});\n  }\n  delete PyViz.plot_index[id];\n  if ((window.Bokeh !== undefined) & (id in window.Bokeh.index)) {\n    var doc = window.Bokeh.index[id].model.document\n    doc.clear();\n    const i = window.Bokeh.documents.indexOf(doc);\n    if (i > -1) {\n      window.Bokeh.documents.splice(i, 1);\n    }\n  }\n}\n\n/**\n * Handle kernel restart event\n */\nfunction handle_kernel_cleanup(event, handle) {\n  delete PyViz.comms[\"hv-extension-comm\"];\n  window.PyViz.plot_index = {}\n}\n\n/**\n * Handle update_display_data messages\n */\nfunction handle_update_output(event, handle) {\n  handle_clear_output(event, {cell: {output_area: handle.output_area}})\n  handle_add_output(event, handle)\n}\n\nfunction register_renderer(events, OutputArea) {\n  function append_mime(data, metadata, element) {\n    // create a DOM node to render to\n    var toinsert = this.create_output_subarea(\n    metadata,\n    CLASS_NAME,\n    EXEC_MIME_TYPE\n    );\n    this.keyboard_manager.register_events(toinsert);\n    // Render to node\n    var props = {data: data, metadata: metadata[EXEC_MIME_TYPE]};\n    render(props, toinsert[0]);\n    element.append(toinsert);\n    return toinsert\n  }\n\n  events.on('output_added.OutputArea', handle_add_output);\n  events.on('output_updated.OutputArea', handle_update_output);\n  events.on('clear_output.CodeCell', handle_clear_output);\n  events.on('delete.Cell', handle_clear_output);\n  events.on('kernel_ready.Kernel', handle_kernel_cleanup);\n\n  OutputArea.prototype.register_mime_type(EXEC_MIME_TYPE, append_mime, {\n    safe: true,\n    index: 0\n  });\n}\n\nif (window.Jupyter !== undefined) {\n  try {\n    var events = require('base/js/events');\n    var OutputArea = require('notebook/js/outputarea').OutputArea;\n    if (OutputArea.prototype.mime_types().indexOf(EXEC_MIME_TYPE) == -1) {\n      register_renderer(events, OutputArea);\n    }\n  } catch(err) {\n  }\n}\n"
     },
     "metadata": {},
     "output_type": "display_data"
    },
    {
     "data": {
      "text/html": [
       "<style>*[data-root-id],\n",
       "*[data-root-id] > * {\n",
       "  box-sizing: border-box;\n",
       "  font-family: var(--jp-ui-font-family);\n",
       "  font-size: var(--jp-ui-font-size1);\n",
       "  color: var(--vscode-editor-foreground, var(--jp-ui-font-color1));\n",
       "}\n",
       "\n",
       "/* Override VSCode background color */\n",
       ".cell-output-ipywidget-background:has(\n",
       "    > .cell-output-ipywidget-background > .lm-Widget > *[data-root-id]\n",
       "  ),\n",
       ".cell-output-ipywidget-background:has(> .lm-Widget > *[data-root-id]) {\n",
       "  background-color: transparent !important;\n",
       "}\n",
       "</style>"
      ]
     },
     "metadata": {},
     "output_type": "display_data"
    },
    {
     "data": {
      "application/vnd.holoviews_exec.v0+json": "",
      "text/html": [
       "<div id='7a956c6e-77e5-46cd-888d-8615fea11e18'>\n",
       "  <div id=\"dfe8a1b3-64bf-4b3a-81da-c55da4195661\" data-root-id=\"7a956c6e-77e5-46cd-888d-8615fea11e18\" style=\"display: contents;\"></div>\n",
       "</div>\n",
       "<script type=\"application/javascript\">(function(root) {\n",
       "  var docs_json = {\"29a3372e-a3c5-4b8f-a7f0-1475696b58eb\":{\"version\":\"3.3.4\",\"title\":\"Bokeh Application\",\"roots\":[{\"type\":\"object\",\"name\":\"panel.models.browser.BrowserInfo\",\"id\":\"7a956c6e-77e5-46cd-888d-8615fea11e18\"},{\"type\":\"object\",\"name\":\"panel.models.comm_manager.CommManager\",\"id\":\"2af9cb09-94b5-40a2-9117-db356becb492\",\"attributes\":{\"plot_id\":\"7a956c6e-77e5-46cd-888d-8615fea11e18\",\"comm_id\":\"98a6f21b5fdf4b72bf122224adbb0ccd\",\"client_comm_id\":\"9cda7b3aa44e4423a8d9994a7e03cbdb\"}}],\"defs\":[{\"type\":\"model\",\"name\":\"ReactiveHTML1\"},{\"type\":\"model\",\"name\":\"FlexBox1\",\"properties\":[{\"name\":\"align_content\",\"kind\":\"Any\",\"default\":\"flex-start\"},{\"name\":\"align_items\",\"kind\":\"Any\",\"default\":\"flex-start\"},{\"name\":\"flex_direction\",\"kind\":\"Any\",\"default\":\"row\"},{\"name\":\"flex_wrap\",\"kind\":\"Any\",\"default\":\"wrap\"},{\"name\":\"justify_content\",\"kind\":\"Any\",\"default\":\"flex-start\"}]},{\"type\":\"model\",\"name\":\"FloatPanel1\",\"properties\":[{\"name\":\"config\",\"kind\":\"Any\",\"default\":{\"type\":\"map\"}},{\"name\":\"contained\",\"kind\":\"Any\",\"default\":true},{\"name\":\"position\",\"kind\":\"Any\",\"default\":\"right-top\"},{\"name\":\"offsetx\",\"kind\":\"Any\",\"default\":null},{\"name\":\"offsety\",\"kind\":\"Any\",\"default\":null},{\"name\":\"theme\",\"kind\":\"Any\",\"default\":\"primary\"},{\"name\":\"status\",\"kind\":\"Any\",\"default\":\"normalized\"}]},{\"type\":\"model\",\"name\":\"GridStack1\",\"properties\":[{\"name\":\"mode\",\"kind\":\"Any\",\"default\":\"warn\"},{\"name\":\"ncols\",\"kind\":\"Any\",\"default\":null},{\"name\":\"nrows\",\"kind\":\"Any\",\"default\":null},{\"name\":\"allow_resize\",\"kind\":\"Any\",\"default\":true},{\"name\":\"allow_drag\",\"kind\":\"Any\",\"default\":true},{\"name\":\"state\",\"kind\":\"Any\",\"default\":[]}]},{\"type\":\"model\",\"name\":\"drag1\",\"properties\":[{\"name\":\"slider_width\",\"kind\":\"Any\",\"default\":5},{\"name\":\"slider_color\",\"kind\":\"Any\",\"default\":\"black\"},{\"name\":\"value\",\"kind\":\"Any\",\"default\":50}]},{\"type\":\"model\",\"name\":\"click1\",\"properties\":[{\"name\":\"terminal_output\",\"kind\":\"Any\",\"default\":\"\"},{\"name\":\"debug_name\",\"kind\":\"Any\",\"default\":\"\"},{\"name\":\"clears\",\"kind\":\"Any\",\"default\":0}]},{\"type\":\"model\",\"name\":\"copy_to_clipboard1\",\"properties\":[{\"name\":\"fill\",\"kind\":\"Any\",\"default\":\"none\"},{\"name\":\"value\",\"kind\":\"Any\",\"default\":null}]},{\"type\":\"model\",\"name\":\"FastWrapper1\",\"properties\":[{\"name\":\"object\",\"kind\":\"Any\",\"default\":null},{\"name\":\"style\",\"kind\":\"Any\",\"default\":null}]},{\"type\":\"model\",\"name\":\"NotificationAreaBase1\",\"properties\":[{\"name\":\"js_events\",\"kind\":\"Any\",\"default\":{\"type\":\"map\"}},{\"name\":\"position\",\"kind\":\"Any\",\"default\":\"bottom-right\"},{\"name\":\"_clear\",\"kind\":\"Any\",\"default\":0}]},{\"type\":\"model\",\"name\":\"NotificationArea1\",\"properties\":[{\"name\":\"js_events\",\"kind\":\"Any\",\"default\":{\"type\":\"map\"}},{\"name\":\"notifications\",\"kind\":\"Any\",\"default\":[]},{\"name\":\"position\",\"kind\":\"Any\",\"default\":\"bottom-right\"},{\"name\":\"_clear\",\"kind\":\"Any\",\"default\":0},{\"name\":\"types\",\"kind\":\"Any\",\"default\":[{\"type\":\"map\",\"entries\":[[\"type\",\"warning\"],[\"background\",\"#ffc107\"],[\"icon\",{\"type\":\"map\",\"entries\":[[\"className\",\"fas fa-exclamation-triangle\"],[\"tagName\",\"i\"],[\"color\",\"white\"]]}]]},{\"type\":\"map\",\"entries\":[[\"type\",\"info\"],[\"background\",\"#007bff\"],[\"icon\",{\"type\":\"map\",\"entries\":[[\"className\",\"fas fa-info-circle\"],[\"tagName\",\"i\"],[\"color\",\"white\"]]}]]}]}]},{\"type\":\"model\",\"name\":\"Notification\",\"properties\":[{\"name\":\"background\",\"kind\":\"Any\",\"default\":null},{\"name\":\"duration\",\"kind\":\"Any\",\"default\":3000},{\"name\":\"icon\",\"kind\":\"Any\",\"default\":null},{\"name\":\"message\",\"kind\":\"Any\",\"default\":\"\"},{\"name\":\"notification_type\",\"kind\":\"Any\",\"default\":null},{\"name\":\"_destroyed\",\"kind\":\"Any\",\"default\":false}]},{\"type\":\"model\",\"name\":\"TemplateActions1\",\"properties\":[{\"name\":\"open_modal\",\"kind\":\"Any\",\"default\":0},{\"name\":\"close_modal\",\"kind\":\"Any\",\"default\":0}]},{\"type\":\"model\",\"name\":\"BootstrapTemplateActions1\",\"properties\":[{\"name\":\"open_modal\",\"kind\":\"Any\",\"default\":0},{\"name\":\"close_modal\",\"kind\":\"Any\",\"default\":0}]},{\"type\":\"model\",\"name\":\"MaterialTemplateActions1\",\"properties\":[{\"name\":\"open_modal\",\"kind\":\"Any\",\"default\":0},{\"name\":\"close_modal\",\"kind\":\"Any\",\"default\":0}]}]}};\n",
       "  var render_items = [{\"docid\":\"29a3372e-a3c5-4b8f-a7f0-1475696b58eb\",\"roots\":{\"7a956c6e-77e5-46cd-888d-8615fea11e18\":\"dfe8a1b3-64bf-4b3a-81da-c55da4195661\"},\"root_ids\":[\"7a956c6e-77e5-46cd-888d-8615fea11e18\"]}];\n",
       "  var docs = Object.values(docs_json)\n",
       "  if (!docs) {\n",
       "    return\n",
       "  }\n",
       "  const py_version = docs[0].version.replace('rc', '-rc.').replace('.dev', '-dev.')\n",
       "  function embed_document(root) {\n",
       "    var Bokeh = get_bokeh(root)\n",
       "    Bokeh.embed.embed_items_notebook(docs_json, render_items);\n",
       "    for (const render_item of render_items) {\n",
       "      for (const root_id of render_item.root_ids) {\n",
       "\tconst id_el = document.getElementById(root_id)\n",
       "\tif (id_el.children.length && (id_el.children[0].className === 'bk-root')) {\n",
       "\t  const root_el = id_el.children[0]\n",
       "\t  root_el.id = root_el.id + '-rendered'\n",
       "\t}\n",
       "      }\n",
       "    }\n",
       "  }\n",
       "  function get_bokeh(root) {\n",
       "    if (root.Bokeh === undefined) {\n",
       "      return null\n",
       "    } else if (root.Bokeh.version !== py_version) {\n",
       "      if (root.Bokeh.versions === undefined || !root.Bokeh.versions.has(py_version)) {\n",
       "\treturn null\n",
       "      }\n",
       "      return root.Bokeh.versions.get(py_version);\n",
       "    } else if (root.Bokeh.version === py_version) {\n",
       "      return root.Bokeh\n",
       "    }\n",
       "    return null\n",
       "  }\n",
       "  function is_loaded(root) {\n",
       "    var Bokeh = get_bokeh(root)\n",
       "    return (Bokeh != null && Bokeh.Panel !== undefined)\n",
       "  }\n",
       "  if (is_loaded(root)) {\n",
       "    embed_document(root);\n",
       "  } else {\n",
       "    var attempts = 0;\n",
       "    var timer = setInterval(function(root) {\n",
       "      if (is_loaded(root)) {\n",
       "        clearInterval(timer);\n",
       "        embed_document(root);\n",
       "      } else if (document.readyState == \"complete\") {\n",
       "        attempts++;\n",
       "        if (attempts > 200) {\n",
       "          clearInterval(timer);\n",
       "\t  var Bokeh = get_bokeh(root)\n",
       "\t  if (Bokeh == null || Bokeh.Panel == null) {\n",
       "            console.warn(\"Panel: ERROR: Unable to run Panel code because Bokeh or Panel library is missing\");\n",
       "\t  } else {\n",
       "\t    console.warn(\"Panel: WARNING: Attempting to render but not all required libraries could be resolved.\")\n",
       "\t    embed_document(root)\n",
       "\t  }\n",
       "        }\n",
       "      }\n",
       "    }, 25, root)\n",
       "  }\n",
       "})(window);</script>"
      ]
     },
     "metadata": {
      "application/vnd.holoviews_exec.v0+json": {
       "id": "7a956c6e-77e5-46cd-888d-8615fea11e18"
      }
     },
     "output_type": "display_data"
    }
   ],
   "source": [
    "from file_utils import list_to_fasta, fasta_to_list\n",
    "from Bio.Align.Applications import ClustalOmegaCommandline\n",
    "from seq_view_utils import view_alignment\n",
    "import panel as pn\n",
    "# import panel.widgets as pnw\n",
    "def get_MSA(C1_train_path, C2_train_path, SV_vals, C1_suffix='C1', C2_suffix='C2', aln_saved=False, n1=15, n2=15):\n",
    "  \n",
    "  input_file = C1_train_path[:-4]+str(n1)+C2_train_path[:-4].split('/')[-1]+str(n2)+'.fasta'\n",
    "  \n",
    "  aln_file = input_file[:-5]+'aln'\n",
    "\n",
    "  if not aln_saved:\n",
    "    C1_train_seqs = get_seqs(C1_train_path)\n",
    "    filtered_indices  = get_non_identical_seqs(C1_train_path)\n",
    "    C1_train_seqs = [C1_train_seqs[i] for i in filtered_indices]\n",
    "    C2_train_seqs = get_seqs(C2_train_path)\n",
    "    filtered_indices  = get_non_identical_seqs(C2_train_path)\n",
    "    C2_train_seqs = [C2_train_seqs[i] for i in filtered_indices]\n",
    "    rng = np.random.default_rng(8)\n",
    "    indices = rng.permutation(len(C1_train_seqs))[:n1]\n",
    "    aln1_seqs = [C1_train_seqs[i] for i in indices]\n",
    "    headers = get_seqs(C1_train_path, key='Entry')\n",
    "    aln1_headers = [headers[i]+'|'+C1_suffix for i in indices]\n",
    "    indices = rng.permutation(len(C2_train_seqs))[:n2]\n",
    "    aln2_seqs = [C2_train_seqs[i] for i in indices]\n",
    "    headers = get_seqs(C2_train_path, key='Entry')\n",
    "    aln2_headers = [headers[i]+'|'+C2_suffix for i in indices]\n",
    "    aln_seqs = aln1_seqs+aln2_seqs\n",
    "    aln_headers = aln1_headers+aln2_headers\n",
    "    list_to_fasta(aln_seqs, aln_headers, input_file)  \n",
    "    clustalomega_cline = ClustalOmegaCommandline(infile=input_file, outfile=aln_file, verbose=True, iterations=5, outputorder='input-order', auto=True, force=True)\n",
    "    clustalomega_cline()\n",
    "\n",
    "  aln_seqs, headers = fasta_to_list(aln_file, returnHeader=True)\n",
    "\n",
    "  attrs = np.zeros((len(aln_seqs), len(aln_seqs[0])))\n",
    "  for i,seq in enumerate(aln_seqs):\n",
    "    for j, AA in enumerate(seq):\n",
    "      if AA in C1_afs:\n",
    "        attrs[i][j] = SV_vals[AAs.index(AA)]/max(SV_vals)\n",
    "      elif AA in C2_afs:\n",
    "        attrs[i][j] = -SV_vals[AAs.index(AA)]/max(SV_vals)\n",
    "      else:\n",
    "        attrs[i,j] = 0.01\n",
    "\n",
    "\n",
    "  pn.extension()\n",
    "  \n",
    "  p = view_alignment(aln_seqs, attrs, ids=headers, fontsize=\"8pt\", plot_width=1800)\n",
    "  return pn.pane.Bokeh(p)"
   ]
  },
  {
   "cell_type": "code",
   "execution_count": 11,
   "id": "a82ef76d-80f2-4184-be26-a50f5838426a",
   "metadata": {
    "execution": {
     "iopub.execute_input": "2024-04-27T07:19:30.151462Z",
     "iopub.status.busy": "2024-04-27T07:19:30.151188Z",
     "iopub.status.idle": "2024-04-27T07:19:30.154478Z",
     "shell.execute_reply": "2024-04-27T07:19:30.153719Z",
     "shell.execute_reply.started": "2024-04-27T07:19:30.151444Z"
    }
   },
   "outputs": [],
   "source": [
    "DATA_PATH = './datasets/'"
   ]
  },
  {
   "cell_type": "markdown",
   "id": "7abe8b68-8ec6-4194-ad49-01b3c8192939",
   "metadata": {},
   "source": [
    "# lysozyme / lactalbumin"
   ]
  },
  {
   "cell_type": "code",
   "execution_count": 12,
   "id": "92d19475-7bce-4f60-8fa7-5d8e8df4ff73",
   "metadata": {
    "execution": {
     "iopub.execute_input": "2024-04-27T07:19:30.155187Z",
     "iopub.status.busy": "2024-04-27T07:19:30.155065Z",
     "iopub.status.idle": "2024-04-27T07:19:30.202349Z",
     "shell.execute_reply": "2024-04-27T07:19:30.201548Z",
     "shell.execute_reply.started": "2024-04-27T07:19:30.155174Z"
    }
   },
   "outputs": [],
   "source": [
    "family_PATH = DATA_PATH + 'lysozyme_like/'"
   ]
  },
  {
   "cell_type": "code",
   "execution_count": 13,
   "id": "dcb64d68-3c7f-485a-96c2-6f486177e390",
   "metadata": {
    "execution": {
     "iopub.execute_input": "2024-04-27T07:19:30.203573Z",
     "iopub.status.busy": "2024-04-27T07:19:30.203309Z",
     "iopub.status.idle": "2024-04-27T07:19:30.212267Z",
     "shell.execute_reply": "2024-04-27T07:19:30.211579Z",
     "shell.execute_reply.started": "2024-04-27T07:19:30.203546Z"
    },
    "tags": []
   },
   "outputs": [],
   "source": [
    "C1_train_path = family_PATH+'alpha_lactalbumin_swissprot.csv'\n",
    "C2_train_path = family_PATH+'lysozyme_c_swissprot.csv'\n",
    "C1_test_path = family_PATH+'alpha_lactalbumin_trembl.csv'\n",
    "C2_test_path = family_PATH+'lysozyme_c_trembl.csv'"
   ]
  },
  {
   "cell_type": "code",
   "execution_count": 14,
   "id": "8e7e5580-c5ff-40b8-a5d9-d714a7ca045e",
   "metadata": {
    "execution": {
     "iopub.execute_input": "2024-04-27T07:19:30.213426Z",
     "iopub.status.busy": "2024-04-27T07:19:30.213174Z",
     "iopub.status.idle": "2024-04-27T07:21:38.054227Z",
     "shell.execute_reply": "2024-04-27T07:21:38.053793Z",
     "shell.execute_reply.started": "2024-04-27T07:19:30.213400Z"
    },
    "scrolled": true
   },
   "outputs": [
    {
     "name": "stdout",
     "output_type": "stream",
     "text": [
      "-> Extracting features:\n"
     ]
    },
    {
     "data": {
      "application/vnd.jupyter.widget-view+json": {
       "model_id": "0aea8d2f3f6d49599c52425dc688a832",
       "version_major": 2,
       "version_minor": 0
      },
      "text/plain": [
       "  0%|          | 0/22 [00:00<?, ?it/s]"
      ]
     },
     "metadata": {},
     "output_type": "display_data"
    },
    {
     "data": {
      "application/vnd.jupyter.widget-view+json": {
       "model_id": "4b775d409bb24eedb9f8b3854056b3d6",
       "version_major": 2,
       "version_minor": 0
      },
      "text/plain": [
       "  0%|          | 0/81 [00:00<?, ?it/s]"
      ]
     },
     "metadata": {},
     "output_type": "display_data"
    },
    {
     "name": "stdout",
     "output_type": "stream",
     "text": [
      "C1 # 22 | C2 # 81\n",
      "-> Filter identical sequences\n"
     ]
    },
    {
     "data": {
      "application/vnd.jupyter.widget-view+json": {
       "model_id": "36af4b4c9a564cb1b1347a234221ce9e",
       "version_major": 2,
       "version_minor": 0
      },
      "text/plain": [
       "  0%|          | 0/68 [00:00<?, ?it/s]"
      ]
     },
     "metadata": {},
     "output_type": "display_data"
    },
    {
     "data": {
      "application/vnd.jupyter.widget-view+json": {
       "model_id": "314ef43bbf2d40d5bcb83d7a7011b59a",
       "version_major": 2,
       "version_minor": 0
      },
      "text/plain": [
       "  0%|          | 0/17 [00:00<?, ?it/s]"
      ]
     },
     "metadata": {},
     "output_type": "display_data"
    },
    {
     "name": "stdout",
     "output_type": "stream",
     "text": [
      "C1 # 68 | C2 # 17\n",
      "Filtered 67 / 85\n",
      "Train | C1 # 22 | C2 # 74\n",
      "Test  | C1 # 53 | C2 # 14\n",
      "Computing Shapley values\n",
      "Set parameter Username\n",
      "Academic license - for non-commercial use only - expires 2024-12-04\n"
     ]
    },
    {
     "data": {
      "application/vnd.jupyter.widget-view+json": {
       "model_id": "7bca773a5e714aafacf7fc07c6c8b466",
       "version_major": 2,
       "version_minor": 0
      },
      "text/plain": [
       "  0%|          | 0/800 [00:00<?, ?it/s]"
      ]
     },
     "metadata": {},
     "output_type": "display_data"
    },
    {
     "name": "stdout",
     "output_type": "stream",
     "text": [
      "Full\n",
      "{'train_mean_AM': 1.0, 'train_std_AM': 0.0, 'train_mean_acc': 1.0, 'train_std_acc': 0.0, 'test_AM': 0.906, 'test_acc': 0.851}\n",
      "AFS\n",
      "_________________________**SVEA**_________________________\n",
      "{'train_mean_AM': 0.993, 'train_std_AM': 0.013, 'train_mean_acc': 0.99, 'train_std_acc': 0.02, 'test_AM': 0.889, 'test_acc': 0.866}\n"
     ]
    },
    {
     "data": {
      "image/png": "[encoded data removed]",
      "text/plain": [
       "<Figure size 640x480 with 1 Axes>"
      ]
     },
     "metadata": {},
     "output_type": "display_data"
    }
   ],
   "source": [
    "SV_vals, plt = get_results(C1_train_path, C2_train_path, C1_test_path, C2_test_path, feature_extractor)"
   ]
  },
  {
   "cell_type": "markdown",
   "id": "3cd2fae5-7256-4655-8111-b83e5359b993",
   "metadata": {},
   "source": [
    "# Globins"
   ]
  },
  {
   "cell_type": "code",
   "execution_count": 15,
   "id": "33ec82ee-bec5-461c-98cd-12bc1d6d35bf",
   "metadata": {
    "execution": {
     "iopub.execute_input": "2024-04-27T07:21:38.056177Z",
     "iopub.status.busy": "2024-04-27T07:21:38.055981Z",
     "iopub.status.idle": "2024-04-27T07:21:38.058229Z",
     "shell.execute_reply": "2024-04-27T07:21:38.057937Z",
     "shell.execute_reply.started": "2024-04-27T07:21:38.056161Z"
    }
   },
   "outputs": [],
   "source": [
    "family_PATH = DATA_PATH + 'globins/'"
   ]
  },
  {
   "cell_type": "markdown",
   "id": "44b3823c-2b1c-4158-952e-c68eb9c5d170",
   "metadata": {},
   "source": [
    "## myoglobin / hemoglobin alpha"
   ]
  },
  {
   "cell_type": "code",
   "execution_count": 16,
   "id": "ccec946c-0b92-4506-bdc0-4dcbae916ac8",
   "metadata": {
    "execution": {
     "iopub.execute_input": "2024-04-27T07:21:38.058742Z",
     "iopub.status.busy": "2024-04-27T07:21:38.058627Z",
     "iopub.status.idle": "2024-04-27T07:21:38.114455Z",
     "shell.execute_reply": "2024-04-27T07:21:38.114118Z",
     "shell.execute_reply.started": "2024-04-27T07:21:38.058730Z"
    },
    "tags": []
   },
   "outputs": [],
   "source": [
    "C1_train_path = family_PATH+'myoglobin_swissprot.csv'\n",
    "C2_train_path = family_PATH+'hemoglobin_alpha_swissprot.csv'\n",
    "C1_test_path = family_PATH+'myoglobin_trembl.csv'\n",
    "C2_test_path = family_PATH+'hemoglobin_alpha_trembl.csv'"
   ]
  },
  {
   "cell_type": "code",
   "execution_count": 17,
   "id": "4333530a-1b58-4cea-87ab-e08fcbdab771",
   "metadata": {
    "execution": {
     "iopub.execute_input": "2024-04-27T07:21:38.114977Z",
     "iopub.status.busy": "2024-04-27T07:21:38.114860Z",
     "iopub.status.idle": "2024-04-27T07:26:36.220030Z",
     "shell.execute_reply": "2024-04-27T07:26:36.219602Z",
     "shell.execute_reply.started": "2024-04-27T07:21:38.114964Z"
    },
    "scrolled": true
   },
   "outputs": [
    {
     "name": "stdout",
     "output_type": "stream",
     "text": [
      "-> Extracting features:\n"
     ]
    },
    {
     "data": {
      "application/vnd.jupyter.widget-view+json": {
       "model_id": "efb352bbdecc4b18a7ee0b17ccb1a298",
       "version_major": 2,
       "version_minor": 0
      },
      "text/plain": [
       "  0%|          | 0/126 [00:00<?, ?it/s]"
      ]
     },
     "metadata": {},
     "output_type": "display_data"
    },
    {
     "data": {
      "application/vnd.jupyter.widget-view+json": {
       "model_id": "2fccc380d1bf41669aae2268dc46d854",
       "version_major": 2,
       "version_minor": 0
      },
      "text/plain": [
       "  0%|          | 0/317 [00:00<?, ?it/s]"
      ]
     },
     "metadata": {},
     "output_type": "display_data"
    },
    {
     "name": "stdout",
     "output_type": "stream",
     "text": [
      "C1 # 126 | C2 # 317\n",
      "-> Filter identical sequences\n"
     ]
    },
    {
     "data": {
      "application/vnd.jupyter.widget-view+json": {
       "model_id": "3e676bee71d743d3bdf287f79e5d5d00",
       "version_major": 2,
       "version_minor": 0
      },
      "text/plain": [
       "  0%|          | 0/580 [00:00<?, ?it/s]"
      ]
     },
     "metadata": {},
     "output_type": "display_data"
    },
    {
     "data": {
      "application/vnd.jupyter.widget-view+json": {
       "model_id": "d2a45b0427ec4df3a113146399dbc85e",
       "version_major": 2,
       "version_minor": 0
      },
      "text/plain": [
       "  0%|          | 0/677 [00:00<?, ?it/s]"
      ]
     },
     "metadata": {},
     "output_type": "display_data"
    },
    {
     "name": "stdout",
     "output_type": "stream",
     "text": [
      "C1 # 580 | C2 # 677\n",
      "Filtered 1004 / 1257\n",
      "Train | C1 # 107 | C2 # 303\n",
      "Test  | C1 # 479 | C2 # 525\n",
      "Computing Shapley values\n"
     ]
    },
    {
     "data": {
      "application/vnd.jupyter.widget-view+json": {
       "model_id": "e36c1425242c47528bf07aed1a3b3ed9",
       "version_major": 2,
       "version_minor": 0
      },
      "text/plain": [
       "  0%|          | 0/800 [00:00<?, ?it/s]"
      ]
     },
     "metadata": {},
     "output_type": "display_data"
    },
    {
     "name": "stdout",
     "output_type": "stream",
     "text": [
      "Full\n",
      "{'train_mean_AM': 1.0, 'train_std_AM': 0.0, 'train_mean_acc': 1.0, 'train_std_acc': 0.0, 'test_AM': 0.971, 'test_acc': 0.972}\n",
      "AFS\n",
      "_________________________**SVEA**_________________________\n",
      "{'train_mean_AM': 1.0, 'train_std_AM': 0.0, 'train_mean_acc': 1.0, 'train_std_acc': 0.0, 'test_AM': 0.978, 'test_acc': 0.979}\n"
     ]
    },
    {
     "data": {
      "image/png": "[encoded data removed]",
      "text/plain": [
       "<Figure size 640x480 with 1 Axes>"
      ]
     },
     "metadata": {},
     "output_type": "display_data"
    }
   ],
   "source": [
    "SV_vals, plt = get_results(C1_train_path, C2_train_path, C1_test_path, C2_test_path, feature_extractor)"
   ]
  },
  {
   "cell_type": "markdown",
   "id": "64cb778f-1e41-405b-8ddb-2ca620740ed8",
   "metadata": {},
   "source": [
    "## myoglobin / hemoglobin-$\\beta$"
   ]
  },
  {
   "cell_type": "code",
   "execution_count": 18,
   "id": "c41ddf81-029c-41e1-a27b-236e866b44c4",
   "metadata": {
    "execution": {
     "iopub.execute_input": "2024-04-27T07:26:36.220713Z",
     "iopub.status.busy": "2024-04-27T07:26:36.220587Z",
     "iopub.status.idle": "2024-04-27T07:26:36.223244Z",
     "shell.execute_reply": "2024-04-27T07:26:36.222843Z",
     "shell.execute_reply.started": "2024-04-27T07:26:36.220700Z"
    },
    "tags": []
   },
   "outputs": [],
   "source": [
    "C1_train_path = family_PATH+'myoglobin_swissprot.csv'\n",
    "C2_train_path = family_PATH+'hemoglobin_beta_swissprot.csv'\n",
    "C1_test_path = family_PATH+'myoglobin_trembl.csv'\n",
    "C2_test_path = family_PATH+'hemoglobin_beta_trembl.csv'"
   ]
  },
  {
   "cell_type": "code",
   "execution_count": 19,
   "id": "c50a7b97-4d70-4230-bb6c-2d72302078e0",
   "metadata": {
    "execution": {
     "iopub.execute_input": "2024-04-27T07:26:36.223917Z",
     "iopub.status.busy": "2024-04-27T07:26:36.223794Z",
     "iopub.status.idle": "2024-04-27T07:31:25.987000Z",
     "shell.execute_reply": "2024-04-27T07:31:25.986662Z",
     "shell.execute_reply.started": "2024-04-27T07:26:36.223905Z"
    },
    "scrolled": true
   },
   "outputs": [
    {
     "name": "stdout",
     "output_type": "stream",
     "text": [
      "-> Extracting features:\n"
     ]
    },
    {
     "data": {
      "application/vnd.jupyter.widget-view+json": {
       "model_id": "077fb96a72e14c0382464ee5944f5ae4",
       "version_major": 2,
       "version_minor": 0
      },
      "text/plain": [
       "  0%|          | 0/126 [00:00<?, ?it/s]"
      ]
     },
     "metadata": {},
     "output_type": "display_data"
    },
    {
     "data": {
      "application/vnd.jupyter.widget-view+json": {
       "model_id": "865d75ba93694680822fb2117566bc7f",
       "version_major": 2,
       "version_minor": 0
      },
      "text/plain": [
       "  0%|          | 0/312 [00:00<?, ?it/s]"
      ]
     },
     "metadata": {},
     "output_type": "display_data"
    },
    {
     "name": "stdout",
     "output_type": "stream",
     "text": [
      "C1 # 126 | C2 # 312\n",
      "-> Filter identical sequences\n"
     ]
    },
    {
     "data": {
      "application/vnd.jupyter.widget-view+json": {
       "model_id": "52038e2e24f54a7dbcd4f41062ff9672",
       "version_major": 2,
       "version_minor": 0
      },
      "text/plain": [
       "  0%|          | 0/580 [00:00<?, ?it/s]"
      ]
     },
     "metadata": {},
     "output_type": "display_data"
    },
    {
     "data": {
      "application/vnd.jupyter.widget-view+json": {
       "model_id": "3f4dd510206f4a80ab0912c02fb2f409",
       "version_major": 2,
       "version_minor": 0
      },
      "text/plain": [
       "  0%|          | 0/360 [00:00<?, ?it/s]"
      ]
     },
     "metadata": {},
     "output_type": "display_data"
    },
    {
     "name": "stdout",
     "output_type": "stream",
     "text": [
      "C1 # 580 | C2 # 360\n",
      "Filtered 740 / 940\n",
      "Train | C1 # 107 | C2 # 285\n",
      "Test  | C1 # 479 | C2 # 261\n",
      "Computing Shapley values\n"
     ]
    },
    {
     "data": {
      "application/vnd.jupyter.widget-view+json": {
       "model_id": "b2466720ec5943e09177ebbb3963c189",
       "version_major": 2,
       "version_minor": 0
      },
      "text/plain": [
       "  0%|          | 0/800 [00:00<?, ?it/s]"
      ]
     },
     "metadata": {},
     "output_type": "display_data"
    },
    {
     "name": "stdout",
     "output_type": "stream",
     "text": [
      "Full\n",
      "{'train_mean_AM': 1.0, 'train_std_AM': 0.0, 'train_mean_acc': 1.0, 'train_std_acc': 0.0, 'test_AM': 0.943, 'test_acc': 0.93}\n",
      "AFS\n",
      "_________________________**SVEA**_________________________\n",
      "{'train_mean_AM': 1.0, 'train_std_AM': 0.0, 'train_mean_acc': 1.0, 'train_std_acc': 0.0, 'test_AM': 0.949, 'test_acc': 0.938}\n"
     ]
    },
    {
     "data": {
      "image/png": "[encoded data removed]",
      "text/plain": [
       "<Figure size 640x480 with 1 Axes>"
      ]
     },
     "metadata": {},
     "output_type": "display_data"
    }
   ],
   "source": [
    "SV_vals, plt = get_results(C1_train_path, C2_train_path, C1_test_path, C2_test_path, feature_extractor)"
   ]
  },
  {
   "cell_type": "markdown",
   "id": "170c4167-7a15-4eac-858f-ad9f13eef4e7",
   "metadata": {},
   "source": [
    "## hemoglobin-$\\alpha$ / hemoglobin-$\\beta$"
   ]
  },
  {
   "cell_type": "code",
   "execution_count": 20,
   "id": "579a2082-68c1-481d-9967-e2b85edbbb71",
   "metadata": {
    "execution": {
     "iopub.execute_input": "2024-04-27T07:31:25.989354Z",
     "iopub.status.busy": "2024-04-27T07:31:25.989224Z",
     "iopub.status.idle": "2024-04-27T07:31:25.991669Z",
     "shell.execute_reply": "2024-04-27T07:31:25.991391Z",
     "shell.execute_reply.started": "2024-04-27T07:31:25.989341Z"
    },
    "tags": []
   },
   "outputs": [],
   "source": [
    "C1_train_path = family_PATH+'hemoglobin_alpha_swissprot.csv'\n",
    "C2_train_path = family_PATH+'hemoglobin_beta_swissprot.csv'\n",
    "C1_test_path = family_PATH+'hemoglobin_alpha_trembl.csv'\n",
    "C2_test_path = family_PATH+'hemoglobin_beta_trembl.csv'"
   ]
  },
  {
   "cell_type": "code",
   "execution_count": 21,
   "id": "cdf33986-e825-4561-b0cc-a8109b76267f",
   "metadata": {
    "execution": {
     "iopub.execute_input": "2024-04-27T07:31:25.992123Z",
     "iopub.status.busy": "2024-04-27T07:31:25.992011Z",
     "iopub.status.idle": "2024-04-27T07:31:40.874347Z",
     "shell.execute_reply": "2024-04-27T07:31:40.873722Z",
     "shell.execute_reply.started": "2024-04-27T07:31:25.992111Z"
    }
   },
   "outputs": [
    {
     "name": "stdout",
     "output_type": "stream",
     "text": [
      "-> Extracting features:\n"
     ]
    },
    {
     "data": {
      "application/vnd.jupyter.widget-view+json": {
       "model_id": "a3df9898803246e5a1d25350efdd1d9d",
       "version_major": 2,
       "version_minor": 0
      },
      "text/plain": [
       "  0%|          | 0/317 [00:00<?, ?it/s]"
      ]
     },
     "metadata": {},
     "output_type": "display_data"
    },
    {
     "data": {
      "application/vnd.jupyter.widget-view+json": {
       "model_id": "7ae5a7c791ae4ce9855dc9f49ee063cc",
       "version_major": 2,
       "version_minor": 0
      },
      "text/plain": [
       "  0%|          | 0/312 [00:00<?, ?it/s]"
      ]
     },
     "metadata": {},
     "output_type": "display_data"
    },
    {
     "name": "stdout",
     "output_type": "stream",
     "text": [
      "C1 # 317 | C2 # 312\n",
      "-> Filter identical sequences\n"
     ]
    },
    {
     "data": {
      "application/vnd.jupyter.widget-view+json": {
       "model_id": "770ef0a0480c4567863fb098f4cc8a90",
       "version_major": 2,
       "version_minor": 0
      },
      "text/plain": [
       "  0%|          | 0/677 [00:00<?, ?it/s]"
      ]
     },
     "metadata": {},
     "output_type": "display_data"
    },
    {
     "data": {
      "application/vnd.jupyter.widget-view+json": {
       "model_id": "7ffa9c6c29d745829ae1efb67b257fde",
       "version_major": 2,
       "version_minor": 0
      },
      "text/plain": [
       "  0%|          | 0/360 [00:00<?, ?it/s]"
      ]
     },
     "metadata": {},
     "output_type": "display_data"
    },
    {
     "name": "stdout",
     "output_type": "stream",
     "text": [
      "C1 # 677 | C2 # 360\n",
      "Filtered 786 / 1037\n",
      "Train | C1 # 303 | C2 # 285\n",
      "Test  | C1 # 525 | C2 # 261\n",
      "Computing Shapley values\n"
     ]
    },
    {
     "data": {
      "application/vnd.jupyter.widget-view+json": {
       "model_id": "96eff503d4d140168e0ac551d3b1ec96",
       "version_major": 2,
       "version_minor": 0
      },
      "text/plain": [
       "  0%|          | 0/800 [00:00<?, ?it/s]"
      ]
     },
     "metadata": {},
     "output_type": "display_data"
    },
    {
     "name": "stdout",
     "output_type": "stream",
     "text": [
      "\n",
      "Interrupt request received\n"
     ]
    },
    {
     "ename": "SolverError",
     "evalue": "Solver 'GUROBI' failed. Try another solver, or solve with verbose=True for more information.",
     "output_type": "error",
     "traceback": [
      "\u001b[0;31m---------------------------------------------------------------------------\u001b[0m",
      "\u001b[0;31mSolverError\u001b[0m                               Traceback (most recent call last)",
      "Cell \u001b[0;32mIn[21], line 1\u001b[0m\n\u001b[0;32m----> 1\u001b[0m SV_vals, plt \u001b[38;5;241m=\u001b[39m \u001b[43mget_results\u001b[49m\u001b[43m(\u001b[49m\u001b[43mC1_train_path\u001b[49m\u001b[43m,\u001b[49m\u001b[43m \u001b[49m\u001b[43mC2_train_path\u001b[49m\u001b[43m,\u001b[49m\u001b[43m \u001b[49m\u001b[43mC1_test_path\u001b[49m\u001b[43m,\u001b[49m\u001b[43m \u001b[49m\u001b[43mC2_test_path\u001b[49m\u001b[43m,\u001b[49m\u001b[43m \u001b[49m\u001b[43mfeature_extractor\u001b[49m\u001b[43m)\u001b[49m\n",
      "Cell \u001b[0;32mIn[9], line 26\u001b[0m, in \u001b[0;36mget_results\u001b[0;34m(C1_train_path, C2_train_path, C1_test_path, C2_test_path, feature_extractor)\u001b[0m\n\u001b[1;32m     23\u001b[0m   \u001b[38;5;28mprint\u001b[39m(\u001b[38;5;124m'\u001b[39m\u001b[38;5;124mTest  | C1 #\u001b[39m\u001b[38;5;124m'\u001b[39m, (y_test\u001b[38;5;241m==\u001b[39m\u001b[38;5;241m1\u001b[39m)\u001b[38;5;241m.\u001b[39msum(), \u001b[38;5;124m'\u001b[39m\u001b[38;5;124m| C2 #\u001b[39m\u001b[38;5;124m'\u001b[39m, (y_test\u001b[38;5;241m==\u001b[39m\u001b[38;5;241m-\u001b[39m\u001b[38;5;241m1\u001b[39m)\u001b[38;5;241m.\u001b[39msum())\n\u001b[1;32m     25\u001b[0m \u001b[38;5;28mprint\u001b[39m(\u001b[38;5;124m'\u001b[39m\u001b[38;5;124mComputing Shapley values\u001b[39m\u001b[38;5;124m'\u001b[39m)\n\u001b[0;32m---> 26\u001b[0m SV_vals \u001b[38;5;241m=\u001b[39m \u001b[43mCS_SVEA\u001b[49m\u001b[43m(\u001b[49m\u001b[43mX\u001b[49m\u001b[43m,\u001b[49m\u001b[43my\u001b[49m\u001b[43m,\u001b[49m\u001b[43m \u001b[49m\u001b[38;5;241;43m800\u001b[39;49m\u001b[43m,\u001b[49m\u001b[43m \u001b[49m\u001b[43mseed\u001b[49m\u001b[38;5;241;43m=\u001b[39;49m\u001b[38;5;241;43m8\u001b[39;49m\u001b[43m,\u001b[49m\u001b[43m \u001b[49m\u001b[43mreturn_SV\u001b[49m\u001b[38;5;241;43m=\u001b[39;49m\u001b[38;5;28;43;01mTrue\u001b[39;49;00m\u001b[43m)\u001b[49m\n\u001b[1;32m     27\u001b[0m plt \u001b[38;5;241m=\u001b[39m plot_vals(SV_vals, cutoff\u001b[38;5;241m=\u001b[39m\u001b[38;5;28msum\u001b[39m(SV_vals)\u001b[38;5;241m/\u001b[39m\u001b[38;5;28mlen\u001b[39m(SV_vals), label\u001b[38;5;241m=\u001b[39m\u001b[38;5;124m'\u001b[39m\u001b[38;5;124mShapley values\u001b[39m\u001b[38;5;124m'\u001b[39m)\n\u001b[1;32m     30\u001b[0m afs \u001b[38;5;241m=\u001b[39m \u001b[38;5;28mlist\u001b[39m(np\u001b[38;5;241m.\u001b[39margsort(SV_vals)[np\u001b[38;5;241m.\u001b[39msort(SV_vals)\u001b[38;5;241m>\u001b[39m\u001b[38;5;241m=\u001b[39m\u001b[38;5;28msum\u001b[39m(SV_vals)\u001b[38;5;241m/\u001b[39m\u001b[38;5;28mlen\u001b[39m(SV_vals)])\n",
      "File \u001b[0;32m~/alpha/AAAI_code/SVEA_funcs.py:87\u001b[0m, in \u001b[0;36mCS_SVEA\u001b[0;34m(X, y, samPerm, return_SV, seed)\u001b[0m\n\u001b[1;32m     85\u001b[0m feature_set\u001b[38;5;241m.\u001b[39mvalue \u001b[38;5;241m=\u001b[39m set_val\n\u001b[1;32m     86\u001b[0m \u001b[38;5;66;03m# tr_ers[tuple(np.sort(pred_j+[j]))] = tr_er(X[:,pred_j+[j]],y)\u001b[39;00m\n\u001b[0;32m---> 87\u001b[0m \u001b[43mprob\u001b[49m\u001b[38;5;241;43m.\u001b[39;49m\u001b[43msolve\u001b[49m\u001b[43m(\u001b[49m\u001b[43msolver\u001b[49m\u001b[43m \u001b[49m\u001b[38;5;241;43m=\u001b[39;49m\u001b[43m \u001b[49m\u001b[43mcp\u001b[49m\u001b[38;5;241;43m.\u001b[39;49m\u001b[43mGUROBI\u001b[49m\u001b[43m,\u001b[49m\u001b[43m \u001b[49m\u001b[43mverbose\u001b[49m\u001b[38;5;241;43m=\u001b[39;49m\u001b[38;5;28;43;01mFalse\u001b[39;49;00m\u001b[43m)\u001b[49m\n\u001b[1;32m     88\u001b[0m vals[\u001b[38;5;28mtuple\u001b[39m(np\u001b[38;5;241m.\u001b[39msort(pred_j\u001b[38;5;241m+\u001b[39m[j]))] \u001b[38;5;241m=\u001b[39m c \u001b[38;5;241m-\u001b[39m prob\u001b[38;5;241m.\u001b[39mvalue\u001b[38;5;241m/\u001b[39m\u001b[38;5;28mfloat\u001b[39m(m)\n\u001b[1;32m     89\u001b[0m Sam_co_set\u001b[38;5;241m.\u001b[39mappend(\u001b[38;5;28mtuple\u001b[39m(np\u001b[38;5;241m.\u001b[39msort(pred_j\u001b[38;5;241m+\u001b[39m[j])))\n",
      "File \u001b[0;32m~/anaconda3/lib/python3.9/site-packages/cvxpy/problems/problem.py:495\u001b[0m, in \u001b[0;36mProblem.solve\u001b[0;34m(self, *args, **kwargs)\u001b[0m\n\u001b[1;32m    493\u001b[0m \u001b[38;5;28;01melse\u001b[39;00m:\n\u001b[1;32m    494\u001b[0m     solve_func \u001b[38;5;241m=\u001b[39m Problem\u001b[38;5;241m.\u001b[39m_solve\n\u001b[0;32m--> 495\u001b[0m \u001b[38;5;28;01mreturn\u001b[39;00m \u001b[43msolve_func\u001b[49m\u001b[43m(\u001b[49m\u001b[38;5;28;43mself\u001b[39;49m\u001b[43m,\u001b[49m\u001b[43m \u001b[49m\u001b[38;5;241;43m*\u001b[39;49m\u001b[43margs\u001b[49m\u001b[43m,\u001b[49m\u001b[43m \u001b[49m\u001b[38;5;241;43m*\u001b[39;49m\u001b[38;5;241;43m*\u001b[39;49m\u001b[43mkwargs\u001b[49m\u001b[43m)\u001b[49m\n",
      "File \u001b[0;32m~/anaconda3/lib/python3.9/site-packages/cvxpy/problems/problem.py:1070\u001b[0m, in \u001b[0;36mProblem._solve\u001b[0;34m(self, solver, warm_start, verbose, gp, qcp, requires_grad, enforce_dpp, ignore_dpp, canon_backend, **kwargs)\u001b[0m\n\u001b[1;32m   1068\u001b[0m end \u001b[38;5;241m=\u001b[39m time\u001b[38;5;241m.\u001b[39mtime()\n\u001b[1;32m   1069\u001b[0m \u001b[38;5;28mself\u001b[39m\u001b[38;5;241m.\u001b[39m_solve_time \u001b[38;5;241m=\u001b[39m end \u001b[38;5;241m-\u001b[39m start\n\u001b[0;32m-> 1070\u001b[0m \u001b[38;5;28;43mself\u001b[39;49m\u001b[38;5;241;43m.\u001b[39;49m\u001b[43munpack_results\u001b[49m\u001b[43m(\u001b[49m\u001b[43msolution\u001b[49m\u001b[43m,\u001b[49m\u001b[43m \u001b[49m\u001b[43msolving_chain\u001b[49m\u001b[43m,\u001b[49m\u001b[43m \u001b[49m\u001b[43minverse_data\u001b[49m\u001b[43m)\u001b[49m\n\u001b[1;32m   1071\u001b[0m \u001b[38;5;28;01mif\u001b[39;00m verbose:\n\u001b[1;32m   1072\u001b[0m     \u001b[38;5;28mprint\u001b[39m(_FOOTER)\n",
      "File \u001b[0;32m~/anaconda3/lib/python3.9/site-packages/cvxpy/problems/problem.py:1395\u001b[0m, in \u001b[0;36mProblem.unpack_results\u001b[0;34m(self, solution, chain, inverse_data)\u001b[0m\n\u001b[1;32m   1393\u001b[0m     warnings\u001b[38;5;241m.\u001b[39mwarn(INF_OR_UNB_MESSAGE)\n\u001b[1;32m   1394\u001b[0m \u001b[38;5;28;01mif\u001b[39;00m solution\u001b[38;5;241m.\u001b[39mstatus \u001b[38;5;129;01min\u001b[39;00m s\u001b[38;5;241m.\u001b[39mERROR:\n\u001b[0;32m-> 1395\u001b[0m     \u001b[38;5;28;01mraise\u001b[39;00m error\u001b[38;5;241m.\u001b[39mSolverError(\n\u001b[1;32m   1396\u001b[0m             \u001b[38;5;124m\"\u001b[39m\u001b[38;5;124mSolver \u001b[39m\u001b[38;5;124m'\u001b[39m\u001b[38;5;132;01m%s\u001b[39;00m\u001b[38;5;124m'\u001b[39m\u001b[38;5;124m failed. \u001b[39m\u001b[38;5;124m\"\u001b[39m \u001b[38;5;241m%\u001b[39m chain\u001b[38;5;241m.\u001b[39msolver\u001b[38;5;241m.\u001b[39mname() \u001b[38;5;241m+\u001b[39m\n\u001b[1;32m   1397\u001b[0m             \u001b[38;5;124m\"\u001b[39m\u001b[38;5;124mTry another solver, or solve with verbose=True for more \u001b[39m\u001b[38;5;124m\"\u001b[39m\n\u001b[1;32m   1398\u001b[0m             \u001b[38;5;124m\"\u001b[39m\u001b[38;5;124minformation.\u001b[39m\u001b[38;5;124m\"\u001b[39m)\n\u001b[1;32m   1400\u001b[0m \u001b[38;5;28mself\u001b[39m\u001b[38;5;241m.\u001b[39munpack(solution)\n\u001b[1;32m   1401\u001b[0m \u001b[38;5;28mself\u001b[39m\u001b[38;5;241m.\u001b[39m_solver_stats \u001b[38;5;241m=\u001b[39m SolverStats(\u001b[38;5;28mself\u001b[39m\u001b[38;5;241m.\u001b[39m_solution\u001b[38;5;241m.\u001b[39mattr,\n\u001b[1;32m   1402\u001b[0m                                  chain\u001b[38;5;241m.\u001b[39msolver\u001b[38;5;241m.\u001b[39mname())\n",
      "\u001b[0;31mSolverError\u001b[0m: Solver 'GUROBI' failed. Try another solver, or solve with verbose=True for more information."
     ]
    }
   ],
   "source": [
    "SV_vals, plt = get_results(C1_train_path, C2_train_path, C1_test_path, C2_test_path, feature_extractor)"
   ]
  },
  {
   "cell_type": "markdown",
   "id": "f19400ed-94b5-40ac-aa82-fcf905073b6c",
   "metadata": {},
   "source": [
    "# trypsin / chymotrypsin"
   ]
  },
  {
   "cell_type": "code",
   "execution_count": 22,
   "id": "8aa24c35-30ae-451f-86be-e4eaa6d4ba1f",
   "metadata": {
    "execution": {
     "iopub.execute_input": "2024-04-27T07:31:41.916383Z",
     "iopub.status.busy": "2024-04-27T07:31:41.916256Z",
     "iopub.status.idle": "2024-04-27T07:31:41.919252Z",
     "shell.execute_reply": "2024-04-27T07:31:41.918658Z",
     "shell.execute_reply.started": "2024-04-27T07:31:41.916369Z"
    }
   },
   "outputs": [],
   "source": [
    "family_PATH = DATA_PATH + 'serine_proteases/'"
   ]
  },
  {
   "cell_type": "code",
   "execution_count": 23,
   "id": "eb3793b4-9c00-485e-b2ea-69e161302d80",
   "metadata": {
    "execution": {
     "iopub.execute_input": "2024-04-27T07:31:42.174481Z",
     "iopub.status.busy": "2024-04-27T07:31:42.174189Z",
     "iopub.status.idle": "2024-04-27T07:31:42.178263Z",
     "shell.execute_reply": "2024-04-27T07:31:42.177630Z",
     "shell.execute_reply.started": "2024-04-27T07:31:42.174452Z"
    },
    "tags": []
   },
   "outputs": [],
   "source": [
    "C1_train_path = family_PATH+'trypsin_swissprot.csv'\n",
    "C2_train_path = family_PATH+'chymotrypsin_swissprot.csv'\n",
    "C1_test_path = family_PATH+'trypsin_trembl.csv'\n",
    "C2_test_path = family_PATH+'chymotrypsin_trembl.csv'"
   ]
  },
  {
   "cell_type": "code",
   "execution_count": 24,
   "id": "872d02d2-0de3-41fc-8406-15a4e94bb0d9",
   "metadata": {
    "execution": {
     "iopub.execute_input": "2024-04-27T07:31:42.371603Z",
     "iopub.status.busy": "2024-04-27T07:31:42.371299Z",
     "iopub.status.idle": "2024-04-27T07:33:45.072687Z",
     "shell.execute_reply": "2024-04-27T07:33:45.072226Z",
     "shell.execute_reply.started": "2024-04-27T07:31:42.371573Z"
    }
   },
   "outputs": [
    {
     "name": "stdout",
     "output_type": "stream",
     "text": [
      "-> Extracting features:\n"
     ]
    },
    {
     "data": {
      "application/vnd.jupyter.widget-view+json": {
       "model_id": "8d872b64ceac4f0199cca0c9dd1e5127",
       "version_major": 2,
       "version_minor": 0
      },
      "text/plain": [
       "  0%|          | 0/68 [00:00<?, ?it/s]"
      ]
     },
     "metadata": {},
     "output_type": "display_data"
    },
    {
     "data": {
      "application/vnd.jupyter.widget-view+json": {
       "model_id": "fc53768421f84a0dbac64033f6ae7878",
       "version_major": 2,
       "version_minor": 0
      },
      "text/plain": [
       "  0%|          | 0/17 [00:00<?, ?it/s]"
      ]
     },
     "metadata": {},
     "output_type": "display_data"
    },
    {
     "name": "stdout",
     "output_type": "stream",
     "text": [
      "C1 # 68 | C2 # 17\n",
      "-> Filter identical sequences\n"
     ]
    },
    {
     "data": {
      "application/vnd.jupyter.widget-view+json": {
       "model_id": "7ab74a6a5954447c861b117f33008f15",
       "version_major": 2,
       "version_minor": 0
      },
      "text/plain": [
       "  0%|          | 0/45 [00:00<?, ?it/s]"
      ]
     },
     "metadata": {},
     "output_type": "display_data"
    },
    {
     "data": {
      "application/vnd.jupyter.widget-view+json": {
       "model_id": "7ec584763b2d42f3a5ec5eb8266c40d0",
       "version_major": 2,
       "version_minor": 0
      },
      "text/plain": [
       "  0%|          | 0/16 [00:00<?, ?it/s]"
      ]
     },
     "metadata": {},
     "output_type": "display_data"
    },
    {
     "name": "stdout",
     "output_type": "stream",
     "text": [
      "C1 # 45 | C2 # 16\n",
      "Filtered 61 / 61\n",
      "Train | C1 # 65 | C2 # 17\n",
      "Test  | C1 # 45 | C2 # 16\n",
      "Computing Shapley values\n"
     ]
    },
    {
     "data": {
      "application/vnd.jupyter.widget-view+json": {
       "model_id": "cdfe533789e942c0871e6592319f79b0",
       "version_major": 2,
       "version_minor": 0
      },
      "text/plain": [
       "  0%|          | 0/800 [00:00<?, ?it/s]"
      ]
     },
     "metadata": {},
     "output_type": "display_data"
    },
    {
     "name": "stdout",
     "output_type": "stream",
     "text": [
      "Full\n",
      "{'train_mean_AM': 0.992, 'train_std_AM': 0.015, 'train_mean_acc': 0.988, 'train_std_acc': 0.024, 'test_AM': 0.663, 'test_acc': 0.77}\n",
      "AFS\n",
      "_________________________**SVEA**_________________________\n",
      "{'train_mean_AM': 0.992, 'train_std_AM': 0.015, 'train_mean_acc': 0.988, 'train_std_acc': 0.024, 'test_AM': 0.643, 'test_acc': 0.77}\n"
     ]
    },
    {
     "data": {
      "image/png": "[encoded data removed]",
      "text/plain": [
       "<Figure size 640x480 with 1 Axes>"
      ]
     },
     "metadata": {},
     "output_type": "display_data"
    }
   ],
   "source": [
    "SV_vals, plt = get_results(C1_train_path, C2_train_path, C1_test_path, C2_test_path, feature_extractor)"
   ]
  },
  {
   "cell_type": "markdown",
   "id": "2d818f66-88b2-4853-85da-5b7520bde1b4",
   "metadata": {},
   "source": [
    "# Tubulin $\\alpha$ vs $\\beta$"
   ]
  },
  {
   "cell_type": "code",
   "execution_count": null,
   "id": "a1ffe3e2-978f-4795-87ba-f428cadc4c62",
   "metadata": {
    "execution": {
     "iopub.status.busy": "2024-04-27T07:31:40.877210Z",
     "iopub.status.idle": "2024-04-27T07:31:40.877359Z",
     "shell.execute_reply": "2024-04-27T07:31:40.877287Z",
     "shell.execute_reply.started": "2024-04-27T07:31:40.877281Z"
    }
   },
   "outputs": [],
   "source": [
    "family_PATH = DATA_PATH + 'tubulin/'"
   ]
  },
  {
   "cell_type": "code",
   "execution_count": null,
   "id": "ea9d0736-1c7e-4edb-88bc-4a6105bc69ff",
   "metadata": {
    "execution": {
     "iopub.status.busy": "2024-04-27T07:31:40.877890Z",
     "iopub.status.idle": "2024-04-27T07:31:40.878026Z",
     "shell.execute_reply": "2024-04-27T07:31:40.877962Z",
     "shell.execute_reply.started": "2024-04-27T07:31:40.877956Z"
    },
    "tags": []
   },
   "outputs": [],
   "source": [
    "C1_train_path = family_PATH+'alpha_swissprot.csv'\n",
    "C2_train_path = family_PATH+'beta_swissprot.csv'\n",
    "C1_test_path = family_PATH+'alpha_trembl.csv'\n",
    "C2_test_path = family_PATH+'beta_trembl.csv'"
   ]
  },
  {
   "cell_type": "code",
   "execution_count": null,
   "id": "b2f61b01-ab99-47d5-8c29-b99d9549a52e",
   "metadata": {
    "execution": {
     "iopub.status.busy": "2024-04-27T07:31:40.878638Z",
     "iopub.status.idle": "2024-04-27T07:31:40.878906Z",
     "shell.execute_reply": "2024-04-27T07:31:40.878830Z",
     "shell.execute_reply.started": "2024-04-27T07:31:40.878822Z"
    }
   },
   "outputs": [],
   "source": [
    "SV_vals, plt = get_results(C1_train_path, C2_train_path, C1_test_path, C2_test_path, feature_extractor)"
   ]
  },
  {
   "cell_type": "markdown",
   "id": "2f9cf50e-eb94-482a-868b-d74416578b70",
   "metadata": {},
   "source": [
    "# GPCRs"
   ]
  },
  {
   "cell_type": "code",
   "execution_count": null,
   "id": "53fdd745-e339-4ecf-a9d5-4a0537a9beef",
   "metadata": {
    "execution": {
     "iopub.status.busy": "2024-04-27T07:31:40.879600Z",
     "iopub.status.idle": "2024-04-27T07:31:40.879771Z",
     "shell.execute_reply": "2024-04-27T07:31:40.879698Z",
     "shell.execute_reply.started": "2024-04-27T07:31:40.879690Z"
    }
   },
   "outputs": [],
   "source": [
    "family_PATH = DATA_PATH + 'GPCR/'"
   ]
  },
  {
   "cell_type": "markdown",
   "id": "128e16a1-7f26-4b5b-bd94-c17743dcfac2",
   "metadata": {},
   "source": [
    "## Rhodopsin / Glutamate"
   ]
  },
  {
   "cell_type": "code",
   "execution_count": null,
   "id": "288a5415-6d3f-4fa2-af60-b6a71ccda52e",
   "metadata": {
    "execution": {
     "iopub.status.busy": "2024-04-27T07:31:40.880504Z",
     "iopub.status.idle": "2024-04-27T07:31:40.880849Z",
     "shell.execute_reply": "2024-04-27T07:31:40.880759Z",
     "shell.execute_reply.started": "2024-04-27T07:31:40.880750Z"
    },
    "tags": []
   },
   "outputs": [],
   "source": [
    "C1_train_path = family_PATH+'Rhodopsin-like.csv'\n",
    "C2_train_path = family_PATH+'Glutamate-like.csv'\n",
    "C1_test_path = None\n",
    "C2_test_path = None\n",
    "SV_vals, plt = get_results(C1_train_path, C2_train_path, C1_test_path, C2_test_path, feature_extractor)"
   ]
  },
  {
   "cell_type": "code",
   "execution_count": null,
   "id": "fcc73cd9-6316-4814-84fd-d39758d9935d",
   "metadata": {
    "execution": {
     "iopub.status.busy": "2024-04-27T07:31:40.881334Z",
     "iopub.status.idle": "2024-04-27T07:31:40.881469Z",
     "shell.execute_reply": "2024-04-27T07:31:40.881406Z",
     "shell.execute_reply.started": "2024-04-27T07:31:40.881400Z"
    }
   },
   "outputs": [],
   "source": [
    "C1_suffix = 'Rho'\n",
    "C2_suffix = 'Glu'\n",
    " "
   ]
  },
  {
   "cell_type": "markdown",
   "id": "8d4102f6-369c-4ad5-86ac-ba0d9caf8207",
   "metadata": {},
   "source": [
    "## Glutamate / Secretin"
   ]
  },
  {
   "cell_type": "code",
   "execution_count": null,
   "id": "64cc2bc7-1ac5-4226-ad5a-d8f0df4bbffb",
   "metadata": {
    "execution": {
     "iopub.status.busy": "2024-04-27T07:31:40.882105Z",
     "iopub.status.idle": "2024-04-27T07:31:40.882247Z",
     "shell.execute_reply": "2024-04-27T07:31:40.882180Z",
     "shell.execute_reply.started": "2024-04-27T07:31:40.882173Z"
    },
    "tags": []
   },
   "outputs": [],
   "source": [
    "C1_train_path = family_PATH+'Glutamate-like.csv'\n",
    "C2_train_path = family_PATH+'Secretin-like.csv'\n",
    "C1_test_path = None\n",
    "C2_test_path = None\n",
    "SV_vals, plt = get_results(C1_train_path, C2_train_path, C1_test_path, C2_test_path, feature_extractor)"
   ]
  },
  {
   "cell_type": "code",
   "execution_count": null,
   "id": "415bc053-0fe2-4c67-9ede-00d4e05a1afc",
   "metadata": {
    "execution": {
     "iopub.status.busy": "2024-04-27T07:31:40.884491Z",
     "iopub.status.idle": "2024-04-27T07:31:40.884643Z",
     "shell.execute_reply": "2024-04-27T07:31:40.884568Z",
     "shell.execute_reply.started": "2024-04-27T07:31:40.884561Z"
    }
   },
   "outputs": [],
   "source": [
    "C1_suffix = 'Glu'\n",
    "C2_suffix = 'Sec'\n",
    " "
   ]
  },
  {
   "cell_type": "markdown",
   "id": "4f16dd1a-a2a9-43f2-97f5-c750df95a9f4",
   "metadata": {},
   "source": [
    "## Rhodopsin / Secretin"
   ]
  },
  {
   "cell_type": "code",
   "execution_count": null,
   "id": "9e510bf0-8195-4497-9a0b-17f7dea3a44d",
   "metadata": {
    "execution": {
     "iopub.status.busy": "2024-04-27T07:31:40.889919Z",
     "iopub.status.idle": "2024-04-27T07:31:40.890073Z",
     "shell.execute_reply": "2024-04-27T07:31:40.890000Z",
     "shell.execute_reply.started": "2024-04-27T07:31:40.889993Z"
    },
    "tags": []
   },
   "outputs": [],
   "source": [
    "C1_train_path = family_PATH+'Rhodopsin-like.csv'\n",
    "C2_train_path = family_PATH+'Secretin-like.csv'\n",
    "C1_test_path = None\n",
    "C2_test_path = None\n",
    "SV_vals, plt = get_results(C1_train_path, C2_train_path, C1_test_path, C2_test_path, feature_extractor)"
   ]
  },
  {
   "cell_type": "code",
   "execution_count": null,
   "id": "44b84eec-c5c6-426d-b164-bef6f12931ba",
   "metadata": {
    "execution": {
     "iopub.status.busy": "2024-04-27T07:31:40.890582Z",
     "iopub.status.idle": "2024-04-27T07:31:40.890718Z",
     "shell.execute_reply": "2024-04-27T07:31:40.890656Z",
     "shell.execute_reply.started": "2024-04-27T07:31:40.890649Z"
    }
   },
   "outputs": [],
   "source": [
    "C1_suffix = 'Rho'\n",
    "C2_suffix = 'Sec'\n",
    " "
   ]
  },
  {
   "cell_type": "markdown",
   "id": "04e8f432-e1b5-436c-a333-ce9e3ef1b345",
   "metadata": {},
   "source": [
    "## Rhodopsin-like sub families"
   ]
  },
  {
   "cell_type": "markdown",
   "id": "553a9bb6-040e-4f53-9ecc-c999f57272eb",
   "metadata": {},
   "source": [
    "### Aminergic / Lipid"
   ]
  },
  {
   "cell_type": "code",
   "execution_count": null,
   "id": "80736da2-ca89-4657-8ae9-881d273f0215",
   "metadata": {
    "execution": {
     "iopub.status.busy": "2024-04-27T07:31:40.891565Z",
     "iopub.status.idle": "2024-04-27T07:31:40.891723Z",
     "shell.execute_reply": "2024-04-27T07:31:40.891646Z",
     "shell.execute_reply.started": "2024-04-27T07:31:40.891639Z"
    },
    "tags": []
   },
   "outputs": [],
   "source": [
    "C1_train_path = family_PATH+'Aminergic receptors.csv'\n",
    "C2_train_path = family_PATH+'Lipid receptors.csv'\n",
    "C1_test_path = None\n",
    "C2_test_path = None\n",
    "SV_vals, plt = get_results(C1_train_path, C2_train_path, C1_test_path, C2_test_path, feature_extractor)"
   ]
  },
  {
   "cell_type": "code",
   "execution_count": null,
   "id": "a2b73fec-a03e-4257-a2c5-45ce7816b4bf",
   "metadata": {
    "execution": {
     "iopub.status.busy": "2024-04-27T07:31:40.892356Z",
     "iopub.status.idle": "2024-04-27T07:31:40.892498Z",
     "shell.execute_reply": "2024-04-27T07:31:40.892429Z",
     "shell.execute_reply.started": "2024-04-27T07:31:40.892423Z"
    }
   },
   "outputs": [],
   "source": [
    "C1_suffix = 'Ami'\n",
    "C2_suffix = 'Lip'\n",
    " "
   ]
  },
  {
   "cell_type": "markdown",
   "id": "49fcf57c-436e-475c-a900-f7287ef786de",
   "metadata": {},
   "source": [
    "### Aminergic / Peptide"
   ]
  },
  {
   "cell_type": "code",
   "execution_count": null,
   "id": "aebef1ce-776e-4b18-bd8a-d94b1822f8e9",
   "metadata": {
    "execution": {
     "iopub.status.busy": "2024-04-27T07:31:40.893228Z",
     "iopub.status.idle": "2024-04-27T07:31:40.893376Z",
     "shell.execute_reply": "2024-04-27T07:31:40.893302Z",
     "shell.execute_reply.started": "2024-04-27T07:31:40.893295Z"
    },
    "tags": []
   },
   "outputs": [],
   "source": [
    "C1_train_path = family_PATH+'Aminergic receptors.csv'\n",
    "C2_train_path = family_PATH+'Peptide receptors.csv'\n",
    "C1_test_path = None\n",
    "C2_test_path = None\n",
    "SV_vals, plt = get_results(C1_train_path, C2_train_path, C1_test_path, C2_test_path, feature_extractor)"
   ]
  },
  {
   "cell_type": "code",
   "execution_count": null,
   "id": "a76f8490-4019-4005-a8ff-d9321742d302",
   "metadata": {
    "execution": {
     "iopub.status.busy": "2024-04-27T07:31:40.894034Z",
     "iopub.status.idle": "2024-04-27T07:31:40.894180Z",
     "shell.execute_reply": "2024-04-27T07:31:40.894106Z",
     "shell.execute_reply.started": "2024-04-27T07:31:40.894100Z"
    }
   },
   "outputs": [],
   "source": [
    "C1_suffix = 'Ami'\n",
    "C2_suffix = 'Pep'\n",
    " "
   ]
  },
  {
   "cell_type": "markdown",
   "id": "5cf61246-f056-46c0-bd88-2b0584fc6fcc",
   "metadata": {},
   "source": [
    "### Lipid / Peptide"
   ]
  },
  {
   "cell_type": "code",
   "execution_count": null,
   "id": "f98ab31d-390f-4e64-b7ef-13071a1ff14a",
   "metadata": {
    "execution": {
     "iopub.status.busy": "2024-04-27T07:31:40.894683Z",
     "iopub.status.idle": "2024-04-27T07:31:40.894824Z",
     "shell.execute_reply": "2024-04-27T07:31:40.894755Z",
     "shell.execute_reply.started": "2024-04-27T07:31:40.894748Z"
    },
    "tags": []
   },
   "outputs": [],
   "source": [
    "C1_train_path = family_PATH+'Lipid receptors.csv'\n",
    "C2_train_path = family_PATH+'Peptide receptors.csv'\n",
    "C1_test_path = None\n",
    "C2_test_path = None\n",
    "SV_vals, plt = get_results(C1_train_path, C2_train_path, C1_test_path, C2_test_path, feature_extractor)"
   ]
  },
  {
   "cell_type": "code",
   "execution_count": null,
   "id": "f082980b-8ad9-4669-9171-a76b5fff0003",
   "metadata": {
    "execution": {
     "iopub.status.busy": "2024-04-27T07:31:40.895537Z",
     "iopub.status.idle": "2024-04-27T07:31:40.895685Z",
     "shell.execute_reply": "2024-04-27T07:31:40.895614Z",
     "shell.execute_reply.started": "2024-04-27T07:31:40.895607Z"
    }
   },
   "outputs": [],
   "source": [
    "C1_suffix = 'Lip'\n",
    "C2_suffix = 'Pep'\n",
    " "
   ]
  },
  {
   "cell_type": "markdown",
   "id": "b6688b08-eb52-416c-914e-9edb74fa8ba3",
   "metadata": {},
   "source": [
    "# Interleukin $\\alpha$ vs $\\beta$"
   ]
  },
  {
   "cell_type": "code",
   "execution_count": null,
   "id": "3626565b-1b15-45ff-84f1-b04bad25f501",
   "metadata": {
    "execution": {
     "iopub.status.busy": "2024-04-27T07:31:40.896398Z",
     "iopub.status.idle": "2024-04-27T07:31:40.896545Z",
     "shell.execute_reply": "2024-04-27T07:31:40.896475Z",
     "shell.execute_reply.started": "2024-04-27T07:31:40.896469Z"
    }
   },
   "outputs": [],
   "source": [
    "family_PATH = DATA_PATH + 'interleukin/'"
   ]
  },
  {
   "cell_type": "code",
   "execution_count": null,
   "id": "c1eba9b2-3b80-476a-8148-38ca0bdcca77",
   "metadata": {
    "execution": {
     "iopub.status.busy": "2024-04-27T07:31:40.897120Z",
     "iopub.status.idle": "2024-04-27T07:31:40.897265Z",
     "shell.execute_reply": "2024-04-27T07:31:40.897195Z",
     "shell.execute_reply.started": "2024-04-27T07:31:40.897188Z"
    },
    "tags": []
   },
   "outputs": [],
   "source": [
    "C1_train_path = family_PATH+'il1_alpha_swissprot.csv'\n",
    "C2_train_path = family_PATH+'il1_beta_swissprot.csv'\n",
    "C1_test_path = family_PATH+'il1_alpha_trembl.csv'\n",
    "C2_test_path = family_PATH+'il1_beta_trembl.csv'\n",
    "SV_vals, plt = get_results(C1_train_path, C2_train_path, C1_test_path, C2_test_path, feature_extractor)"
   ]
  },
  {
   "cell_type": "markdown",
   "id": "eb00af2b-f044-4e1a-b09c-0d7c72febff4",
   "metadata": {},
   "source": [
    "# Histone H2A vs Histone H2B"
   ]
  },
  {
   "cell_type": "code",
   "execution_count": null,
   "id": "7fcb4812-f8a9-471f-988a-84de0a84309d",
   "metadata": {
    "execution": {
     "iopub.status.busy": "2024-04-27T07:31:40.897820Z",
     "iopub.status.idle": "2024-04-27T07:31:40.897961Z",
     "shell.execute_reply": "2024-04-27T07:31:40.897894Z",
     "shell.execute_reply.started": "2024-04-27T07:31:40.897888Z"
    }
   },
   "outputs": [],
   "source": [
    "family_PATH = DATA_PATH + 'histone/'"
   ]
  },
  {
   "cell_type": "code",
   "execution_count": null,
   "id": "cfcfddcc-a428-4e1d-ad7c-e1a85fce806d",
   "metadata": {
    "execution": {
     "iopub.status.busy": "2024-04-27T07:31:40.898561Z",
     "iopub.status.idle": "2024-04-27T07:31:40.898702Z",
     "shell.execute_reply": "2024-04-27T07:31:40.898634Z",
     "shell.execute_reply.started": "2024-04-27T07:31:40.898628Z"
    },
    "tags": []
   },
   "outputs": [],
   "source": [
    "C1_train_path = family_PATH+'h2a_swissprot.csv'\n",
    "C2_train_path = family_PATH+'h2b_swissprot.csv'\n",
    "C1_test_path = family_PATH+'h2a_trembl.csv'\n",
    "C2_test_path = family_PATH+'h2b_trembl.csv'\n",
    "SV_vals, plt = get_results(C1_train_path, C2_train_path, C1_test_path, C2_test_path, feature_extractor)"
   ]
  },
  {
   "cell_type": "markdown",
   "id": "34748924-47c9-42e0-b908-615665fd4c8a",
   "metadata": {},
   "source": [
    "# Cytochrome P450 CYP3 vs CYP5"
   ]
  },
  {
   "cell_type": "code",
   "execution_count": null,
   "id": "2bc305b0-86a9-42f9-8cc3-74cb0025eea2",
   "metadata": {
    "execution": {
     "iopub.status.busy": "2024-04-27T07:31:40.899242Z",
     "iopub.status.idle": "2024-04-27T07:31:40.899379Z",
     "shell.execute_reply": "2024-04-27T07:31:40.899313Z",
     "shell.execute_reply.started": "2024-04-27T07:31:40.899307Z"
    }
   },
   "outputs": [],
   "source": [
    "family_PATH = DATA_PATH + 'cytochromep450/'"
   ]
  },
  {
   "cell_type": "code",
   "execution_count": null,
   "id": "c6709457-c883-42be-86f2-60904b7fe258",
   "metadata": {
    "execution": {
     "iopub.status.busy": "2024-04-27T07:31:40.899880Z",
     "iopub.status.idle": "2024-04-27T07:31:40.900017Z",
     "shell.execute_reply": "2024-04-27T07:31:40.899951Z",
     "shell.execute_reply.started": "2024-04-27T07:31:40.899945Z"
    },
    "tags": []
   },
   "outputs": [],
   "source": [
    "C1_train_path = family_PATH+'cyp3_swissprot.csv'\n",
    "C2_train_path = family_PATH+'cyp5_swissprot.csv'\n",
    "C1_test_path = family_PATH+'cyp3_trembl.csv'\n",
    "C2_test_path = family_PATH+'cyp5_trembl.csv'\n",
    "SV_vals, plt = get_results(C1_train_path, C2_train_path, C1_test_path, C2_test_path, feature_extractor)"
   ]
  },
  {
   "cell_type": "code",
   "execution_count": null,
   "id": "e37db147-9384-431d-9fce-4a918fad8754",
   "metadata": {},
   "outputs": [],
   "source": []
  }
 ],
 "metadata": {
  "kernelspec": {
   "display_name": "Python 3 (ipykernel)",
   "language": "python",
   "name": "python3"
  },
  "language_info": {
   "codemirror_mode": {
    "name": "ipython",
    "version": 3
   },
   "file_extension": ".py",
   "mimetype": "text/x-python",
   "name": "python",
   "nbconvert_exporter": "python",
   "pygments_lexer": "ipython3",
   "version": "3.9.18"
  },
  "widgets": {
   "application/vnd.jupyter.widget-state+json": {
    "state": {},
    "version_major": 2,
    "version_minor": 0
   }
  }
 },
 "nbformat": 4,
 "nbformat_minor": 5
}
