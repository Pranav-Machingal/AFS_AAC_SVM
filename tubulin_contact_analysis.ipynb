{
 "cells": [
  {
   "cell_type": "code",
   "execution_count": 1,
   "id": "955aeb25-fbfa-40d0-9be5-8fb1c595d40e",
   "metadata": {
    "execution": {
     "iopub.execute_input": "2024-01-25T13:29:04.734069Z",
     "iopub.status.busy": "2024-01-25T13:29:04.733933Z",
     "iopub.status.idle": "2024-01-25T13:29:04.740614Z",
     "shell.execute_reply": "2024-01-25T13:29:04.740303Z",
     "shell.execute_reply.started": "2024-01-25T13:29:04.734053Z"
    }
   },
   "outputs": [],
   "source": [
    "AAs = ['A', 'R', 'N', 'D', 'C', 'E', 'Q', 'G', 'H', 'I', 'L', 'K', 'M', 'F', 'P', 'S', 'T', 'W', 'Y', 'V']\n",
    "code3to1 = {'CYS': 'C', 'ASP': 'D', 'SER': 'S', 'GLN': 'Q', 'LYS': 'K',\n",
    "     'ILE': 'I', 'PRO': 'P', 'THR': 'T', 'PHE': 'F', 'ASN': 'N', \n",
    "     'GLY': 'G', 'HIS': 'H', 'LEU': 'L', 'ARG': 'R', 'TRP': 'W', \n",
    "     'ALA': 'A', 'VAL':'V', 'GLU': 'E', 'TYR': 'Y', 'MET': 'M'}\n",
    "FSS_alpha = ['K', 'I', 'H', 'C', 'Y']\n",
    "FSS_beta = ['M', 'Q', 'N', 'F', 'A']"
   ]
  },
  {
   "cell_type": "code",
   "execution_count": 2,
   "id": "461e931a-3cfc-45be-847c-b71613b8e2e8",
   "metadata": {
    "execution": {
     "iopub.execute_input": "2024-01-25T13:29:04.741661Z",
     "iopub.status.busy": "2024-01-25T13:29:04.741529Z",
     "iopub.status.idle": "2024-01-25T13:29:05.003169Z",
     "shell.execute_reply": "2024-01-25T13:29:05.002826Z",
     "shell.execute_reply.started": "2024-01-25T13:29:04.741648Z"
    }
   },
   "outputs": [],
   "source": [
    "import numpy as np"
   ]
  },
  {
   "cell_type": "code",
   "execution_count": 3,
   "id": "7c227ba4-fe36-435b-924c-b076ad07a126",
   "metadata": {
    "execution": {
     "iopub.execute_input": "2024-01-25T13:29:05.003943Z",
     "iopub.status.busy": "2024-01-25T13:29:05.003632Z",
     "iopub.status.idle": "2024-01-25T13:29:05.007356Z",
     "shell.execute_reply": "2024-01-25T13:29:05.007074Z",
     "shell.execute_reply.started": "2024-01-25T13:29:05.003930Z"
    }
   },
   "outputs": [],
   "source": [
    "def get_contacts(chain='A'):\n",
    "  chain_contacts = {AA:[] for AA in AAs}\n",
    "  for i in range(len(data['c1'])):\n",
    "    if data['c1'][i] in tubulin_chains and data['c2'][i] in tubulin_chains:\n",
    "      if data['c1'][i]!=data['c2'][i]:\n",
    "        if chain in [data['c1'][i],data['c2'][i]]:\n",
    "          if chain==data['c1'][i] and data['AA1'][i] in code3to1.keys():\n",
    "            chain_contacts[code3to1[data['AA1'][i]]].append(data['pos1'][i])\n",
    "          elif chain==data['c2'][i] and data['AA2'][i] in code3to1.keys():\n",
    "            chain_contacts[code3to1[data['AA2'][i]]].append(data['pos2'][i])\n",
    "  return chain_contacts"
   ]
  },
  {
   "cell_type": "code",
   "execution_count": 4,
   "id": "a40ef7c0-c3d0-4213-a1a0-3a671065d6d0",
   "metadata": {
    "execution": {
     "iopub.execute_input": "2024-01-25T13:29:05.007926Z",
     "iopub.status.busy": "2024-01-25T13:29:05.007747Z",
     "iopub.status.idle": "2024-01-25T13:29:05.020767Z",
     "shell.execute_reply": "2024-01-25T13:29:05.020490Z",
     "shell.execute_reply.started": "2024-01-25T13:29:05.007915Z"
    },
    "scrolled": true
   },
   "outputs": [],
   "source": [
    "def get_data(filepath):\n",
    "  f = open(filepath, \"r\")\n",
    "  file_text = f.read()\n",
    "  f.close()\n",
    "  data = {'c1':[], 'AA1':[], 'pos1':[], 'c2':[], 'AA2':[], 'pos2':[]}\n",
    "  for entry in file_text.split('\\n'):\n",
    "    entry = entry.split()\n",
    "    data['c1'].append(entry[0][-1])\n",
    "    data['AA1'].append(entry[1])\n",
    "    data['pos1'].append(entry[2])\n",
    "  \n",
    "    data['c2'].append(entry[4][-1])\n",
    "    data['AA2'].append(entry[5])\n",
    "    data['pos2'].append(entry[6])\n",
    "  return data"
   ]
  },
  {
   "cell_type": "code",
   "execution_count": 5,
   "id": "aba7a323-228a-459d-9e17-e2d83e346952",
   "metadata": {
    "execution": {
     "iopub.execute_input": "2024-01-25T13:29:05.021226Z",
     "iopub.status.busy": "2024-01-25T13:29:05.021124Z",
     "iopub.status.idle": "2024-01-25T13:29:05.031654Z",
     "shell.execute_reply": "2024-01-25T13:29:05.031366Z",
     "shell.execute_reply.started": "2024-01-25T13:29:05.021216Z"
    }
   },
   "outputs": [],
   "source": [
    "filepath = \"./datasets/tubulin/3jar_contacts.txt\"\n",
    "data = get_data(filepath)\n",
    "alpha_chains = ['E', 'J', 'C', 'L', 'A', 'K']\n",
    "beta_chains = ['F', 'G', 'D', 'I', 'B', 'H']\n",
    "tubulin_chains = alpha_chains+beta_chains"
   ]
  },
  {
   "cell_type": "code",
   "execution_count": 6,
   "id": "7cc689c4-d027-4e06-8ea9-23fdff29c0be",
   "metadata": {
    "execution": {
     "iopub.execute_input": "2024-01-25T13:29:05.032187Z",
     "iopub.status.busy": "2024-01-25T13:29:05.032076Z",
     "iopub.status.idle": "2024-01-25T13:29:05.039305Z",
     "shell.execute_reply": "2024-01-25T13:29:05.039013Z",
     "shell.execute_reply.started": "2024-01-25T13:29:05.032175Z"
    }
   },
   "outputs": [],
   "source": [
    "A_chain_contacts = get_contacts('A')\n",
    "for aa in A_chain_contacts:\n",
    "  A_chain_contacts[aa] = list(np.unique(A_chain_contacts[aa]))\n",
    "B_chain_contacts = get_contacts('B')\n",
    "for aa in B_chain_contacts:\n",
    "  B_chain_contacts[aa] = list(np.unique(B_chain_contacts[aa]))"
   ]
  },
  {
   "cell_type": "code",
   "execution_count": 7,
   "id": "970bca45-15d8-4a43-a6d6-83264aa31de1",
   "metadata": {
    "execution": {
     "iopub.execute_input": "2024-01-25T13:29:05.040302Z",
     "iopub.status.busy": "2024-01-25T13:29:05.040128Z",
     "iopub.status.idle": "2024-01-25T13:29:05.046967Z",
     "shell.execute_reply": "2024-01-25T13:29:05.046702Z",
     "shell.execute_reply.started": "2024-01-25T13:29:05.040291Z"
    }
   },
   "outputs": [
    {
     "name": "stdout",
     "output_type": "stream",
     "text": [
      "{'A': 3, 'R': 4, 'N': 4, 'D': 1, 'C': 0, 'E': 5, 'Q': 5, 'G': 1, 'H': 3, 'I': 1, 'L': 1, 'K': 8, 'M': 1, 'F': 2, 'P': 5, 'S': 2, 'T': 6, 'W': 2, 'Y': 3, 'V': 6}\n"
     ]
    }
   ],
   "source": [
    "A_contact_count ={aa:0 for aa in A_chain_contacts}\n",
    "for aa in A_chain_contacts:\n",
    "  # print(aa, len(A_chain_contacts[aa]))\n",
    "  A_contact_count[aa] = len(A_chain_contacts[aa])\n",
    "print(A_contact_count)"
   ]
  },
  {
   "cell_type": "code",
   "execution_count": 8,
   "id": "53189f14-ff98-41ff-b5c6-402e250e25f2",
   "metadata": {
    "execution": {
     "iopub.execute_input": "2024-01-25T13:29:05.048355Z",
     "iopub.status.busy": "2024-01-25T13:29:05.048194Z",
     "iopub.status.idle": "2024-01-25T13:29:05.055407Z",
     "shell.execute_reply": "2024-01-25T13:29:05.055129Z",
     "shell.execute_reply.started": "2024-01-25T13:29:05.048341Z"
    }
   },
   "outputs": [
    {
     "name": "stdout",
     "output_type": "stream",
     "text": [
      "{'A': 6, 'R': 7, 'N': 5, 'D': 3, 'C': 1, 'E': 1, 'Q': 6, 'G': 1, 'H': 1, 'I': 1, 'L': 2, 'K': 6, 'M': 2, 'F': 3, 'P': 7, 'S': 2, 'T': 3, 'W': 2, 'Y': 2, 'V': 5}\n"
     ]
    }
   ],
   "source": [
    "B_contact_count ={aa:0 for aa in B_chain_contacts}\n",
    "for aa in B_chain_contacts:\n",
    "  B_contact_count[aa] = len(B_chain_contacts[aa])\n",
    "print(B_contact_count)"
   ]
  },
  {
   "cell_type": "code",
   "execution_count": 9,
   "id": "9ae1b0fd-aaa1-4a0c-870f-aa2bb47c40f0",
   "metadata": {
    "execution": {
     "iopub.execute_input": "2024-01-25T13:29:05.085664Z",
     "iopub.status.busy": "2024-01-25T13:29:05.085455Z",
     "iopub.status.idle": "2024-01-25T13:29:05.088043Z",
     "shell.execute_reply": "2024-01-25T13:29:05.087752Z",
     "shell.execute_reply.started": "2024-01-25T13:29:05.085650Z"
    }
   },
   "outputs": [
    {
     "name": "stdout",
     "output_type": "stream",
     "text": [
      "K : alpha: 8 | beta: 6\n",
      "I : alpha: 1 | beta: 1\n",
      "H : alpha: 3 | beta: 1\n",
      "C : alpha: 0 | beta: 1\n",
      "Y : alpha: 3 | beta: 2\n",
      "# : alpha: 15 | beta: 11\n"
     ]
    }
   ],
   "source": [
    "total_fss_alpha_in_A = 0\n",
    "total_fss_alpha_in_B = 0\n",
    "for aa in FSS_alpha:\n",
    "  print(aa,': alpha:',A_contact_count[aa], '| beta:',B_contact_count[aa])\n",
    "  total_fss_alpha_in_A += A_contact_count[aa]\n",
    "  total_fss_alpha_in_B += B_contact_count[aa]\n",
    "print('#',': alpha:',total_fss_alpha_in_A, '| beta:',total_fss_alpha_in_B)"
   ]
  },
  {
   "cell_type": "code",
   "execution_count": 10,
   "id": "9c7414bc-45ef-4b4e-a28e-33fd9489e3f0",
   "metadata": {
    "execution": {
     "iopub.execute_input": "2024-01-25T13:29:05.429443Z",
     "iopub.status.busy": "2024-01-25T13:29:05.429255Z",
     "iopub.status.idle": "2024-01-25T13:29:05.432443Z",
     "shell.execute_reply": "2024-01-25T13:29:05.432093Z",
     "shell.execute_reply.started": "2024-01-25T13:29:05.429428Z"
    }
   },
   "outputs": [
    {
     "name": "stdout",
     "output_type": "stream",
     "text": [
      "M : alpha: 1 | beta: 2\n",
      "Q : alpha: 5 | beta: 6\n",
      "N : alpha: 4 | beta: 5\n",
      "F : alpha: 2 | beta: 3\n",
      "A : alpha: 3 | beta: 6\n",
      "# : alpha: 15 | beta: 22\n"
     ]
    }
   ],
   "source": [
    "total_fss_beta_in_A = 0\n",
    "total_fss_beta_in_B = 0\n",
    "for aa in FSS_beta:\n",
    "  print(aa,': alpha:',A_contact_count[aa], '| beta:',B_contact_count[aa])\n",
    "  total_fss_beta_in_A += A_contact_count[aa]\n",
    "  total_fss_beta_in_B += B_contact_count[aa]\n",
    "print('#',': alpha:',total_fss_beta_in_A, '| beta:',total_fss_beta_in_B)"
   ]
  },
  {
   "cell_type": "code",
   "execution_count": 11,
   "id": "b2056749-e150-4cf7-8a14-53e99843e3d1",
   "metadata": {
    "execution": {
     "iopub.execute_input": "2024-01-25T13:29:05.732847Z",
     "iopub.status.busy": "2024-01-25T13:29:05.732555Z",
     "iopub.status.idle": "2024-01-25T13:29:05.737020Z",
     "shell.execute_reply": "2024-01-25T13:29:05.736759Z",
     "shell.execute_reply.started": "2024-01-25T13:29:05.732832Z"
    }
   },
   "outputs": [
    {
     "data": {
      "text/plain": [
       "{'A': ['100', '180', '403'],\n",
       " 'R': ['105', '2', '214', '221'],\n",
       " 'N': ['101', '249', '258', '329'],\n",
       " 'D': ['76'],\n",
       " 'C': [],\n",
       " 'E': ['254', '284', '77', '90', '97'],\n",
       " 'Q': ['11', '128', '176', '256', '85'],\n",
       " 'G': ['131'],\n",
       " 'H': ['283', '406', '88'],\n",
       " 'I': ['332'],\n",
       " 'L': ['248'],\n",
       " 'K': ['280', '326', '336', '352', '394', '401', '60', '96'],\n",
       " 'M': ['398'],\n",
       " 'F': ['404', '87'],\n",
       " 'P': ['222', '261', '263', '325', '348'],\n",
       " 'S': ['178', '439'],\n",
       " 'T': ['179', '223', '253', '257', '349', '73'],\n",
       " 'W': ['346', '407'],\n",
       " 'Y': ['210', '224', '262'],\n",
       " 'V': ['177', '181', '260', '324', '353', '62']}"
      ]
     },
     "execution_count": 11,
     "metadata": {},
     "output_type": "execute_result"
    }
   ],
   "source": [
    "A_chain_contacts"
   ]
  },
  {
   "cell_type": "code",
   "execution_count": 12,
   "id": "1c71755e-c3b6-4257-9a92-a0c9a6d0f924",
   "metadata": {
    "execution": {
     "iopub.execute_input": "2024-01-25T13:29:06.129783Z",
     "iopub.status.busy": "2024-01-25T13:29:06.129569Z",
     "iopub.status.idle": "2024-01-25T13:29:06.133500Z",
     "shell.execute_reply": "2024-01-25T13:29:06.133161Z",
     "shell.execute_reply.started": "2024-01-25T13:29:06.129767Z"
    }
   },
   "outputs": [
    {
     "data": {
      "text/plain": [
       "{'A': ['285', '397', '403', '438', '56', '57'],\n",
       " 'R': ['2', '253', '284', '400', '401', '48', '88'],\n",
       " 'N': ['101', '249', '258', '349', '350'],\n",
       " 'D': ['130', '179', '329'],\n",
       " 'C': ['131'],\n",
       " 'E': ['183'],\n",
       " 'Q': ['11', '247', '282', '394', '85', '96'],\n",
       " 'G': ['100'],\n",
       " 'H': ['406'],\n",
       " 'I': ['347'],\n",
       " 'L': ['248', '333'],\n",
       " 'K': ['105', '176', '254', '326', '352', '60'],\n",
       " 'M': ['325', '398'],\n",
       " 'F': ['214', '262', '404'],\n",
       " 'P': ['184', '222', '245', '261', '348', '72', '89'],\n",
       " 'S': ['178', '324'],\n",
       " 'T': ['180', '221', '314'],\n",
       " 'W': ['346', '407'],\n",
       " 'Y': ['210', '283'],\n",
       " 'V': ['177', '181', '257', '260', '62']}"
      ]
     },
     "execution_count": 12,
     "metadata": {},
     "output_type": "execute_result"
    }
   ],
   "source": [
    "B_chain_contacts"
   ]
  },
  {
   "cell_type": "code",
   "execution_count": 13,
   "id": "4bc146eb-597f-45da-9fd2-159b2918b650",
   "metadata": {
    "execution": {
     "iopub.execute_input": "2024-01-25T13:29:06.497194Z",
     "iopub.status.busy": "2024-01-25T13:29:06.496943Z",
     "iopub.status.idle": "2024-01-25T13:29:06.503259Z",
     "shell.execute_reply": "2024-01-25T13:29:06.502907Z",
     "shell.execute_reply.started": "2024-01-25T13:29:06.497178Z"
    }
   },
   "outputs": [],
   "source": [
    "filepath = \"./datasets/tubulin/5n5n_contacts.txt\"\n",
    "data = get_data(filepath)\n",
    "\n",
    "alpha_chains = ['G', 'H', 'I', 'J', 'K', 'L']\n",
    "beta_chains = ['A', 'B', 'C', 'D', 'E', 'F']\n",
    "tubulin_chains = alpha_chains+beta_chains"
   ]
  },
  {
   "cell_type": "code",
   "execution_count": 14,
   "id": "6a31243b-deb0-475f-b6f0-bc1ca168f789",
   "metadata": {
    "execution": {
     "iopub.execute_input": "2024-01-25T13:29:06.860656Z",
     "iopub.status.busy": "2024-01-25T13:29:06.860458Z",
     "iopub.status.idle": "2024-01-25T13:29:06.865054Z",
     "shell.execute_reply": "2024-01-25T13:29:06.864696Z",
     "shell.execute_reply.started": "2024-01-25T13:29:06.860640Z"
    }
   },
   "outputs": [],
   "source": [
    "def get_contacts(chain='A'):\n",
    "  chain_contacts = {AA:[] for AA in AAs}\n",
    "  for i in range(len(data['c1'])):\n",
    "    if data['c1'][i] in tubulin_chains and data['c2'][i] in tubulin_chains:\n",
    "      if data['c1'][i]!=data['c2'][i]:\n",
    "        if chain in [data['c1'][i],data['c2'][i]]:\n",
    "          if chain==data['c1'][i] and data['AA1'][i] in code3to1.keys():\n",
    "            chain_contacts[code3to1[data['AA1'][i]]].append(data['pos1'][i])\n",
    "          elif chain==data['c2'][i] and data['AA2'][i] in code3to1.keys():\n",
    "            chain_contacts[code3to1[data['AA2'][i]]].append(data['pos2'][i])\n",
    "  return chain_contacts"
   ]
  },
  {
   "cell_type": "code",
   "execution_count": 15,
   "id": "97b38117-48c5-439e-86d9-3a93b1615c49",
   "metadata": {
    "execution": {
     "iopub.execute_input": "2024-01-25T13:29:07.079085Z",
     "iopub.status.busy": "2024-01-25T13:29:07.078726Z",
     "iopub.status.idle": "2024-01-25T13:29:07.084662Z",
     "shell.execute_reply": "2024-01-25T13:29:07.084370Z",
     "shell.execute_reply.started": "2024-01-25T13:29:07.079069Z"
    }
   },
   "outputs": [],
   "source": [
    "A_chain_contacts = get_contacts('G')\n",
    "for aa in A_chain_contacts:\n",
    "  A_chain_contacts[aa] = list(np.unique(A_chain_contacts[aa]))\n",
    "B_chain_contacts = get_contacts('B')\n",
    "for aa in B_chain_contacts:\n",
    "  B_chain_contacts[aa] = list(np.unique(B_chain_contacts[aa]))"
   ]
  },
  {
   "cell_type": "code",
   "execution_count": 16,
   "id": "6d5a1cad-2dcc-4e3a-a638-d6b7dfbaac10",
   "metadata": {
    "execution": {
     "iopub.execute_input": "2024-01-25T13:29:07.265059Z",
     "iopub.status.busy": "2024-01-25T13:29:07.264759Z",
     "iopub.status.idle": "2024-01-25T13:29:07.267604Z",
     "shell.execute_reply": "2024-01-25T13:29:07.267267Z",
     "shell.execute_reply.started": "2024-01-25T13:29:07.265044Z"
    }
   },
   "outputs": [
    {
     "name": "stdout",
     "output_type": "stream",
     "text": [
      "{'A': 3, 'R': 3, 'N': 4, 'D': 3, 'C': 1, 'E': 5, 'Q': 5, 'G': 1, 'H': 3, 'I': 0, 'L': 2, 'K': 4, 'M': 2, 'F': 3, 'P': 6, 'S': 1, 'T': 7, 'W': 2, 'Y': 3, 'V': 4}\n"
     ]
    }
   ],
   "source": [
    "A_contact_count ={aa:0 for aa in A_chain_contacts}\n",
    "for aa in A_chain_contacts:\n",
    "  # print(aa, len(A_chain_contacts[aa]))\n",
    "  A_contact_count[aa] = len(A_chain_contacts[aa])\n",
    "print(A_contact_count)"
   ]
  },
  {
   "cell_type": "code",
   "execution_count": 17,
   "id": "0542b264-6519-44fa-819f-ae3b3a93b237",
   "metadata": {
    "execution": {
     "iopub.execute_input": "2024-01-25T13:29:07.429266Z",
     "iopub.status.busy": "2024-01-25T13:29:07.429110Z",
     "iopub.status.idle": "2024-01-25T13:29:07.431884Z",
     "shell.execute_reply": "2024-01-25T13:29:07.431536Z",
     "shell.execute_reply.started": "2024-01-25T13:29:07.429251Z"
    }
   },
   "outputs": [
    {
     "name": "stdout",
     "output_type": "stream",
     "text": [
      "{'A': 5, 'R': 6, 'N': 5, 'D': 4, 'C': 0, 'E': 3, 'Q': 6, 'G': 1, 'H': 1, 'I': 1, 'L': 3, 'K': 5, 'M': 2, 'F': 3, 'P': 6, 'S': 2, 'T': 7, 'W': 2, 'Y': 3, 'V': 6}\n"
     ]
    }
   ],
   "source": [
    "B_contact_count ={aa:0 for aa in B_chain_contacts}\n",
    "for aa in B_chain_contacts:\n",
    "  B_contact_count[aa] = len(B_chain_contacts[aa])\n",
    "print(B_contact_count)"
   ]
  },
  {
   "cell_type": "code",
   "execution_count": 18,
   "id": "699dba48-24bb-4066-9050-c1864376db8c",
   "metadata": {
    "execution": {
     "iopub.execute_input": "2024-01-25T13:29:07.595552Z",
     "iopub.status.busy": "2024-01-25T13:29:07.595388Z",
     "iopub.status.idle": "2024-01-25T13:29:07.597849Z",
     "shell.execute_reply": "2024-01-25T13:29:07.597513Z",
     "shell.execute_reply.started": "2024-01-25T13:29:07.595539Z"
    }
   },
   "outputs": [],
   "source": [
    "FSS_alpha = ['K', 'I', 'H', 'C', 'Y']\n",
    "FSS_beta = ['M', 'Q', 'N', 'F', 'A']"
   ]
  },
  {
   "cell_type": "code",
   "execution_count": 19,
   "id": "69b143e5-d450-47e1-8cd7-46e65f7b3fbe",
   "metadata": {
    "execution": {
     "iopub.execute_input": "2024-01-25T13:29:07.800449Z",
     "iopub.status.busy": "2024-01-25T13:29:07.800100Z",
     "iopub.status.idle": "2024-01-25T13:29:07.802916Z",
     "shell.execute_reply": "2024-01-25T13:29:07.802630Z",
     "shell.execute_reply.started": "2024-01-25T13:29:07.800434Z"
    }
   },
   "outputs": [
    {
     "name": "stdout",
     "output_type": "stream",
     "text": [
      "K : alpha: 4 | beta: 5\n",
      "I : alpha: 0 | beta: 1\n",
      "H : alpha: 3 | beta: 1\n",
      "C : alpha: 1 | beta: 0\n",
      "Y : alpha: 3 | beta: 3\n",
      "# : alpha: 11 | beta: 10\n"
     ]
    }
   ],
   "source": [
    "total_fss_alpha_in_A = 0\n",
    "total_fss_alpha_in_B = 0\n",
    "for aa in FSS_alpha:\n",
    "  print(aa,': alpha:',A_contact_count[aa], '| beta:',B_contact_count[aa])\n",
    "  total_fss_alpha_in_A += A_contact_count[aa]\n",
    "  total_fss_alpha_in_B += B_contact_count[aa]\n",
    "print('#',': alpha:',total_fss_alpha_in_A, '| beta:',total_fss_alpha_in_B)"
   ]
  },
  {
   "cell_type": "code",
   "execution_count": 20,
   "id": "433f787a-24e8-48d4-a62d-477527d49d09",
   "metadata": {
    "execution": {
     "iopub.execute_input": "2024-01-25T13:29:08.225446Z",
     "iopub.status.busy": "2024-01-25T13:29:08.225243Z",
     "iopub.status.idle": "2024-01-25T13:29:08.228529Z",
     "shell.execute_reply": "2024-01-25T13:29:08.228158Z",
     "shell.execute_reply.started": "2024-01-25T13:29:08.225430Z"
    }
   },
   "outputs": [
    {
     "name": "stdout",
     "output_type": "stream",
     "text": [
      "M : alpha: 2 | beta: 2\n",
      "Q : alpha: 5 | beta: 6\n",
      "N : alpha: 4 | beta: 5\n",
      "F : alpha: 3 | beta: 3\n",
      "A : alpha: 3 | beta: 5\n",
      "# : alpha: 17 | beta: 21\n"
     ]
    }
   ],
   "source": [
    "total_fss_beta_in_A = 0\n",
    "total_fss_beta_in_B = 0\n",
    "for aa in FSS_beta:\n",
    "  print(aa,': alpha:',A_contact_count[aa], '| beta:',B_contact_count[aa])\n",
    "  total_fss_beta_in_A += A_contact_count[aa]\n",
    "  total_fss_beta_in_B += B_contact_count[aa]\n",
    "print('#',': alpha:',total_fss_beta_in_A, '| beta:',total_fss_beta_in_B)"
   ]
  },
  {
   "cell_type": "code",
   "execution_count": 21,
   "id": "f2390986-e346-46c1-b08c-58f68bda47d3",
   "metadata": {
    "execution": {
     "iopub.execute_input": "2024-01-25T13:29:08.642464Z",
     "iopub.status.busy": "2024-01-25T13:29:08.642195Z",
     "iopub.status.idle": "2024-01-25T13:29:08.645665Z",
     "shell.execute_reply": "2024-01-25T13:29:08.645340Z",
     "shell.execute_reply.started": "2024-01-25T13:29:08.642451Z"
    }
   },
   "outputs": [
    {
     "data": {
      "text/plain": [
       "{'A': ['100', '180', '247'],\n",
       " 'R': ['105', '214', '221'],\n",
       " 'N': ['101', '249', '258', '329'],\n",
       " 'D': ['251', '76', '98'],\n",
       " 'C': ['347'],\n",
       " 'E': ['254', '290', '55', '71', '77'],\n",
       " 'Q': ['128', '15', '176', '285', '85'],\n",
       " 'G': ['350'],\n",
       " 'H': ['283', '406', '88'],\n",
       " 'I': [],\n",
       " 'L': ['248', '397'],\n",
       " 'K': ['326', '352', '401', '96'],\n",
       " 'M': ['1', '398'],\n",
       " 'F': ['351', '404', '87'],\n",
       " 'P': ['222', '261', '263', '325', '348', '72'],\n",
       " 'S': ['178'],\n",
       " 'T': ['179', '223', '253', '257', '349', '56', '73'],\n",
       " 'W': ['346', '407'],\n",
       " 'Y': ['210', '224', '262'],\n",
       " 'V': ['177', '181', '324', '62']}"
      ]
     },
     "execution_count": 21,
     "metadata": {},
     "output_type": "execute_result"
    }
   ],
   "source": [
    "A_chain_contacts"
   ]
  },
  {
   "cell_type": "code",
   "execution_count": 22,
   "id": "c8299bff-1b90-486c-a83d-c4c15e4fae2b",
   "metadata": {
    "execution": {
     "iopub.execute_input": "2024-01-25T13:29:09.113056Z",
     "iopub.status.busy": "2024-01-25T13:29:09.106328Z",
     "iopub.status.idle": "2024-01-25T13:29:09.127537Z",
     "shell.execute_reply": "2024-01-25T13:29:09.117831Z",
     "shell.execute_reply.started": "2024-01-25T13:29:09.113039Z"
    }
   },
   "outputs": [
    {
     "data": {
      "text/plain": [
       "{'A': ['256', '285', '397', '403', '56'],\n",
       " 'R': ['2', '253', '284', '401', '48', '88'],\n",
       " 'N': ['101', '249', '258', '349', '350'],\n",
       " 'D': ['179', '251', '329', '90'],\n",
       " 'C': [],\n",
       " 'E': ['127', '327', '71'],\n",
       " 'Q': ['11', '247', '282', '394', '85', '96'],\n",
       " 'G': ['100'],\n",
       " 'H': ['406'],\n",
       " 'I': ['347'],\n",
       " 'L': ['248', '286', '333'],\n",
       " 'K': ['254', '326', '338', '352', '60'],\n",
       " 'M': ['325', '398'],\n",
       " 'F': ['214', '262', '404'],\n",
       " 'P': ['222', '245', '261', '263', '348', '89'],\n",
       " 'S': ['178', '324'],\n",
       " 'T': ['180', '220', '221', '223', '314', '353', '57'],\n",
       " 'W': ['346', '407'],\n",
       " 'Y': ['210', '224', '283'],\n",
       " 'V': ['177', '181', '257', '260', '351', '62']}"
      ]
     },
     "execution_count": 22,
     "metadata": {},
     "output_type": "execute_result"
    }
   ],
   "source": [
    "B_chain_contacts"
   ]
  },
  {
   "cell_type": "code",
   "execution_count": null,
   "id": "0affde91-1b15-4424-9261-3002bfb0509c",
   "metadata": {},
   "outputs": [],
   "source": []
  }
 ],
 "metadata": {
  "kernelspec": {
   "display_name": "Python 3 (ipykernel)",
   "language": "python",
   "name": "python3"
  },
  "language_info": {
   "codemirror_mode": {
    "name": "ipython",
    "version": 3
   },
   "file_extension": ".py",
   "mimetype": "text/x-python",
   "name": "python",
   "nbconvert_exporter": "python",
   "pygments_lexer": "ipython3",
   "version": "3.9.19"
  },
  "widgets": {
   "application/vnd.jupyter.widget-state+json": {
    "state": {},
    "version_major": 2,
    "version_minor": 0
   }
  }
 },
 "nbformat": 4,
 "nbformat_minor": 5
}
