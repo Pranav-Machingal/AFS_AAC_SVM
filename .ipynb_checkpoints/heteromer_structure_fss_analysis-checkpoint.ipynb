{
 "cells": [
  {
   "cell_type": "code",
   "execution_count": 38,
   "id": "648b21b8-665c-4103-a839-ac4788b1386a",
   "metadata": {
    "scrolled": true
   },
   "outputs": [],
   "source": [
    "import numpy as np\n",
    "\n",
    "AAs = ['A', 'R', 'N', 'D', 'C', 'E', 'Q', 'G', 'H', 'I', 'L', 'K', 'M', 'F', 'P', 'S', 'T', 'W', 'Y', 'V']\n",
    "code3to1 = {'CYS': 'C', 'ASP': 'D', 'SER': 'S', 'GLN': 'Q', 'LYS': 'K',\n",
    "     'ILE': 'I', 'PRO': 'P', 'THR': 'T', 'PHE': 'F', 'ASN': 'N', \n",
    "     'GLY': 'G', 'HIS': 'H', 'LEU': 'L', 'ARG': 'R', 'TRP': 'W', \n",
    "     'ALA': 'A', 'VAL':'V', 'GLU': 'E', 'TYR': 'Y', 'MET': 'M'}\n",
    "\n",
    "def get_contacts(chain, chains_list, data):\n",
    "  \"\"\"\n",
    "  get the contact (residue, pos) between `chain' and each chain in `chain_list' using `data'\n",
    "  `data' is dictionary containing information of interchain contact points computed using ChimeraX\n",
    "  \"\"\"\n",
    "  chain_contacts = {AA:[] for AA in AAs}\n",
    "  for i in range(len(data['c1'])):\n",
    "    if data['c1'][i] in chains_list and data['c2'][i] in chains_list:\n",
    "      if data['c1'][i]!=data['c2'][i]:\n",
    "        if chain in [data['c1'][i],data['c2'][i]]:\n",
    "          if chain==data['c1'][i] and data['AA1'][i] in code3to1.keys():\n",
    "            chain_contacts[code3to1[data['AA1'][i]]].append(data['pos1'][i])\n",
    "          elif chain==data['c2'][i] and data['AA2'][i] in code3to1.keys():\n",
    "            chain_contacts[code3to1[data['AA2'][i]]].append(data['pos2'][i])\n",
    "  return chain_contacts\n",
    "\n",
    "def get_data(filepath):\n",
    "  \"\"\"\n",
    "  Create a dictionary of chain ID, amino-acid type, and position \n",
    "  for each pair of inter-chain contacts computed using ChimeraX\n",
    "  \"\"\"\n",
    "  f = open(filepath, \"r\")\n",
    "  file_text = f.read()\n",
    "  f.close()\n",
    "  data = {'c1':[], 'AA1':[], 'pos1':[], 'c2':[], 'AA2':[], 'pos2':[]}\n",
    "  for entry in file_text.split('\\n'):\n",
    "    entry = entry.split()\n",
    "    data['c1'].append(entry[0][-1])\n",
    "    data['AA1'].append(entry[1])\n",
    "    data['pos1'].append(entry[2])\n",
    "  \n",
    "    data['c2'].append(entry[4][-1])\n",
    "    data['AA2'].append(entry[5])\n",
    "    data['pos2'].append(entry[6])\n",
    "  return data\n",
    "\n",
    "def get_AA_contact_count(chain, chain_list, data):\n",
    "  chain_contacts = get_contacts(chain, chain_list, data)\n",
    "  for aa in chain_contacts: # remove duplicates\n",
    "    chain_contacts[aa] = list(np.unique(chain_contacts[aa]))\n",
    "  aa_contact_count ={aa:0 for aa in chain_contacts}\n",
    "  for aa in chain_contacts:\n",
    "    aa_contact_count[aa] = len(chain_contacts[aa])\n",
    "  return aa_contact_count"
   ]
  },
  {
   "cell_type": "code",
   "execution_count": 39,
   "id": "40e8b25e-92b3-4edc-bad8-599807398635",
   "metadata": {},
   "outputs": [],
   "source": [
    "def print_fss_counts(p1, p1_chain, FSS_p1, p2, p2_chain, FSS_p2, all_chains, data):\n",
    "  p1_contacts = get_AA_contact_count(p1_chain, all_chains, data)\n",
    "  p2_contacts = get_AA_contact_count(p2_chain, all_chains, data)\n",
    "  print('FSS(',p1, ') count in', p1, 'and', p2)\n",
    "  total_fss_p1_in_p1 = 0\n",
    "  total_fss_p1_in_p2 = 0\n",
    "  for aa in FSS_p1:\n",
    "    print(aa,':',p1, ':',p1_contacts[aa], '\\t|', p2,':',p2_contacts[aa])\n",
    "    total_fss_p1_in_p1 += p1_contacts[aa]\n",
    "    total_fss_p1_in_p2 += p2_contacts[aa]\n",
    "  print('Total\\n#',':',p1, ':',total_fss_p1_in_p1, '\\t|', p2,':',total_fss_p1_in_p2)\n",
    "  \n",
    "  print('_'*50)\n",
    "  print('FSS(',p2, ') count in', p1, 'and', p2)\n",
    "  total_fss_p2_in_p1 = 0\n",
    "  total_fss_p2_in_p2 = 0\n",
    "  for aa in FSS_p2:\n",
    "    print(aa,':',p1, ':',p1_contacts[aa], '\\t|', p2,':',p2_contacts[aa])\n",
    "    total_fss_p2_in_p1 += p1_contacts[aa]\n",
    "    total_fss_p2_in_p2 += p2_contacts[aa]\n",
    "  print('Total\\n#',':',p1, ':',total_fss_p2_in_p1, '\\t|', p2,':',total_fss_p2_in_p2)"
   ]
  },
  {
   "cell_type": "markdown",
   "id": "c26c1448-96c3-4be9-bb93-75e40291d5a0",
   "metadata": {},
   "source": [
    "# Histone H2A and H2B"
   ]
  },
  {
   "cell_type": "code",
   "execution_count": 40,
   "id": "ef43beb0-0676-490d-9b08-ba78a0a1e7dd",
   "metadata": {},
   "outputs": [],
   "source": [
    "FSS_h2a = ['L', 'G', 'N']\n",
    "FSS_h2b = ['S', 'M', 'K', 'T', 'Y', 'F']"
   ]
  },
  {
   "cell_type": "code",
   "execution_count": 41,
   "id": "aba7a323-228a-459d-9e17-e2d83e346952",
   "metadata": {},
   "outputs": [
    {
     "ename": "FileNotFoundError",
     "evalue": "[Errno 2] No such file or directory: './datasets/histone/1aoi_contacts'",
     "output_type": "error",
     "traceback": [
      "\u001b[0;31m---------------------------------------------------------------------------\u001b[0m",
      "\u001b[0;31mFileNotFoundError\u001b[0m                         Traceback (most recent call last)",
      "Cell \u001b[0;32mIn[41], line 2\u001b[0m\n\u001b[1;32m      1\u001b[0m filepath \u001b[38;5;241m=\u001b[39m \u001b[38;5;124m\"\u001b[39m\u001b[38;5;124m./datasets/histone/1aoi_contacts\u001b[39m\u001b[38;5;124m\"\u001b[39m\n\u001b[0;32m----> 2\u001b[0m data \u001b[38;5;241m=\u001b[39m \u001b[43mget_data\u001b[49m\u001b[43m(\u001b[49m\u001b[43mfilepath\u001b[49m\u001b[43m)\u001b[49m\n\u001b[1;32m      3\u001b[0m h2a_chains \u001b[38;5;241m=\u001b[39m [\u001b[38;5;124m'\u001b[39m\u001b[38;5;124mC\u001b[39m\u001b[38;5;124m'\u001b[39m, \u001b[38;5;124m'\u001b[39m\u001b[38;5;124mG\u001b[39m\u001b[38;5;124m'\u001b[39m]\n\u001b[1;32m      4\u001b[0m h2b_chains \u001b[38;5;241m=\u001b[39m [\u001b[38;5;124m'\u001b[39m\u001b[38;5;124mD\u001b[39m\u001b[38;5;124m'\u001b[39m, \u001b[38;5;124m'\u001b[39m\u001b[38;5;124mH\u001b[39m\u001b[38;5;124m'\u001b[39m]\n",
      "Cell \u001b[0;32mIn[38], line 30\u001b[0m, in \u001b[0;36mget_data\u001b[0;34m(filepath)\u001b[0m\n\u001b[1;32m     25\u001b[0m \u001b[38;5;28;01mdef\u001b[39;00m \u001b[38;5;21mget_data\u001b[39m(filepath):\n\u001b[1;32m     26\u001b[0m \u001b[38;5;250m  \u001b[39m\u001b[38;5;124;03m\"\"\"\u001b[39;00m\n\u001b[1;32m     27\u001b[0m \u001b[38;5;124;03m  Create a dictionary of chain ID, amino-acid type, and position \u001b[39;00m\n\u001b[1;32m     28\u001b[0m \u001b[38;5;124;03m  for each pair of inter-chain contacts computed using ChimeraX\u001b[39;00m\n\u001b[1;32m     29\u001b[0m \u001b[38;5;124;03m  \"\"\"\u001b[39;00m\n\u001b[0;32m---> 30\u001b[0m   f \u001b[38;5;241m=\u001b[39m \u001b[38;5;28;43mopen\u001b[39;49m\u001b[43m(\u001b[49m\u001b[43mfilepath\u001b[49m\u001b[43m,\u001b[49m\u001b[43m \u001b[49m\u001b[38;5;124;43m\"\u001b[39;49m\u001b[38;5;124;43mr\u001b[39;49m\u001b[38;5;124;43m\"\u001b[39;49m\u001b[43m)\u001b[49m\n\u001b[1;32m     31\u001b[0m   file_text \u001b[38;5;241m=\u001b[39m f\u001b[38;5;241m.\u001b[39mread()\n\u001b[1;32m     32\u001b[0m   f\u001b[38;5;241m.\u001b[39mclose()\n",
      "File \u001b[0;32m~/anaconda3/envs/afs/lib/python3.9/site-packages/IPython/core/interactiveshell.py:310\u001b[0m, in \u001b[0;36m_modified_open\u001b[0;34m(file, *args, **kwargs)\u001b[0m\n\u001b[1;32m    303\u001b[0m \u001b[38;5;28;01mif\u001b[39;00m file \u001b[38;5;129;01min\u001b[39;00m {\u001b[38;5;241m0\u001b[39m, \u001b[38;5;241m1\u001b[39m, \u001b[38;5;241m2\u001b[39m}:\n\u001b[1;32m    304\u001b[0m     \u001b[38;5;28;01mraise\u001b[39;00m \u001b[38;5;167;01mValueError\u001b[39;00m(\n\u001b[1;32m    305\u001b[0m         \u001b[38;5;124mf\u001b[39m\u001b[38;5;124m\"\u001b[39m\u001b[38;5;124mIPython won\u001b[39m\u001b[38;5;124m'\u001b[39m\u001b[38;5;124mt let you open fd=\u001b[39m\u001b[38;5;132;01m{\u001b[39;00mfile\u001b[38;5;132;01m}\u001b[39;00m\u001b[38;5;124m by default \u001b[39m\u001b[38;5;124m\"\u001b[39m\n\u001b[1;32m    306\u001b[0m         \u001b[38;5;124m\"\u001b[39m\u001b[38;5;124mas it is likely to crash IPython. If you know what you are doing, \u001b[39m\u001b[38;5;124m\"\u001b[39m\n\u001b[1;32m    307\u001b[0m         \u001b[38;5;124m\"\u001b[39m\u001b[38;5;124myou can use builtins\u001b[39m\u001b[38;5;124m'\u001b[39m\u001b[38;5;124m open.\u001b[39m\u001b[38;5;124m\"\u001b[39m\n\u001b[1;32m    308\u001b[0m     )\n\u001b[0;32m--> 310\u001b[0m \u001b[38;5;28;01mreturn\u001b[39;00m \u001b[43mio_open\u001b[49m\u001b[43m(\u001b[49m\u001b[43mfile\u001b[49m\u001b[43m,\u001b[49m\u001b[43m \u001b[49m\u001b[38;5;241;43m*\u001b[39;49m\u001b[43margs\u001b[49m\u001b[43m,\u001b[49m\u001b[43m \u001b[49m\u001b[38;5;241;43m*\u001b[39;49m\u001b[38;5;241;43m*\u001b[39;49m\u001b[43mkwargs\u001b[49m\u001b[43m)\u001b[49m\n",
      "\u001b[0;31mFileNotFoundError\u001b[0m: [Errno 2] No such file or directory: './datasets/histone/1aoi_contacts'"
     ]
    }
   ],
   "source": [
    "filepath = \"./datasets/histone/1aoi_contacts\"\n",
    "data = get_data(filepath)\n",
    "h2a_chains = ['C', 'G']\n",
    "h2b_chains = ['D', 'H']\n",
    "other_chains = ['A', 'E', 'B', 'F', 'I', 'J']\n",
    "p1 = 'h2a'\n",
    "p2 = 'h2b'\n",
    "FSS_p1 = FSS_h2a\n",
    "FSS_p2 = FSS_h2b\n",
    "p1_chain = 'C'\n",
    "p2_chain = 'D'\n",
    "all_chains = h2a_chains+h2b_chains+other_chains"
   ]
  },
  {
   "cell_type": "code",
   "execution_count": null,
   "id": "10d1e7cc-e154-4473-afa6-74bc6634c67c",
   "metadata": {},
   "outputs": [],
   "source": [
    "print_fss_counts(p1, p1_chain, FSS_p1, p2, p2_chain, FSS_p2, all_chains, data)"
   ]
  },
  {
   "cell_type": "code",
   "execution_count": null,
   "id": "9449ad0c-26be-4841-917e-22cab3dfc52b",
   "metadata": {},
   "outputs": [],
   "source": [
    "filepath = \"./datasets/histone/3kwq_contacts\"\n",
    "data = get_data(filepath)\n",
    "h2a_chains = ['C', 'G']\n",
    "h2b_chains = ['D', 'H']\n",
    "other_chains = ['A', 'E', 'B', 'F', 'I', 'J']\n",
    "p1 = 'h2a'\n",
    "p2 = 'h2b'\n",
    "FSS_p1 = FSS_h2a\n",
    "FSS_p2 = FSS_h2b\n",
    "p1_chain = 'C'\n",
    "p2_chain = 'D'\n",
    "all_chains = h2a_chains+h2b_chains+other_chains\n",
    "print_fss_counts(p1, p1_chain, FSS_p1, p2, p2_chain, FSS_p2, all_chains, data)"
   ]
  },
  {
   "cell_type": "markdown",
   "id": "6a96f759-2700-4e74-93dd-ad26aedd1ff4",
   "metadata": {},
   "source": [
    "# Tubulin-$\\alpha$ vs Tubulin-$\\beta$"
   ]
  },
  {
   "cell_type": "code",
   "execution_count": null,
   "id": "a790d031-ff8b-4480-983e-3615d3fe2ec9",
   "metadata": {},
   "outputs": [],
   "source": [
    "FSS_alpha = ['K', 'I', 'H', 'C', 'Y']\n",
    "FSS_beta = ['M', 'Q', 'N', 'F', 'A']"
   ]
  },
  {
   "cell_type": "code",
   "execution_count": null,
   "id": "0affde91-1b15-4424-9261-3002bfb0509c",
   "metadata": {},
   "outputs": [],
   "source": [
    "filepath = \"../datasets/tubulin/3jar_contacts\"\n",
    "data = get_data(filepath)\n",
    "alpha_chains = ['E', 'J', 'C', 'L', 'A', 'K']\n",
    "beta_chains = ['F', 'G', 'D', 'I', 'B', 'H']\n",
    "all_chains = alpha_chains+beta_chains\n",
    "p1 = 'alpha'\n",
    "p2 = 'beta'\n",
    "FSS_p1 = FSS_alpha\n",
    "FSS_p2 = FSS_beta\n",
    "p1_chain = 'A'\n",
    "p2_chain = 'B'\n",
    "print_fss_counts(p1, p1_chain, FSS_p1, p2, p2_chain, FSS_p2, all_chains, data)"
   ]
  },
  {
   "cell_type": "code",
   "execution_count": null,
   "id": "34150120-9fdc-4614-bf2d-6f08875cc207",
   "metadata": {},
   "outputs": [],
   "source": [
    "filepath = \"../datasets/tubulin/5n5n_contacts\"\n",
    "data = get_data(filepath)\n",
    "alpha_chains = ['G', 'H', 'I', 'J', 'K', 'L']\n",
    "beta_chains = ['A', 'B', 'C', 'D', 'E', 'F']\n",
    "all_chains = alpha_chains+beta_chains\n",
    "p1 = 'alpha'\n",
    "p2 = 'beta'\n",
    "FSS_p1 = FSS_alpha\n",
    "FSS_p2 = FSS_beta\n",
    "p1_chain = 'G'\n",
    "p2_chain = 'B'\n",
    "print_fss_counts(p1, p1_chain, FSS_p1, p2, p2_chain, FSS_p2, all_chains, data)"
   ]
  },
  {
   "cell_type": "code",
   "execution_count": null,
   "id": "3d8028e0-c863-4c3e-b3f1-e9a5097e32ee",
   "metadata": {},
   "outputs": [],
   "source": []
  }
 ],
 "metadata": {
  "kernelspec": {
   "display_name": "Python 3 (ipykernel)",
   "language": "python",
   "name": "python3"
  },
  "language_info": {
   "codemirror_mode": {
    "name": "ipython",
    "version": 3
   },
   "file_extension": ".py",
   "mimetype": "text/x-python",
   "name": "python",
   "nbconvert_exporter": "python",
   "pygments_lexer": "ipython3",
   "version": "3.9.19"
  },
  "widgets": {
   "application/vnd.jupyter.widget-state+json": {
    "state": {},
    "version_major": 2,
    "version_minor": 0
   }
  }
 },
 "nbformat": 4,
 "nbformat_minor": 5
}
